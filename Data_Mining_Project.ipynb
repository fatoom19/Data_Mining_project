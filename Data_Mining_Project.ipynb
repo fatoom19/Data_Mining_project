{
 "cells": [
  {
   "cell_type": "markdown",
   "id": "e6721295",
   "metadata": {},
   "source": [
    "## Project Description:\n",
    "\n",
    "#### About\n",
    "- There will be two datasets for this project—one for classification models and the second for regression models. \n",
    "\n",
    "#### Required Tasks\n",
    "- Explore each data set using different descriptive and plotting methods. \n",
    "- Explore each dataset, check for missing data and apply proper data imputation methods. \n",
    "- Apply the same preprocessing techniques on the classification_test and regression_test. Note that these two datasets don't have target columns. \n",
    "- Find the best regression model among the list of models trained on the regression_train dataset. Use this model to predict the target values of the regression_test. \n",
    "- Find the best classification model. Use this model to predict the target values of the classification_test."
   ]
  },
  {
   "cell_type": "markdown",
   "id": "8c2a081f",
   "metadata": {},
   "source": [
    "# Regression\n",
    "\n",
    "### Data preparation"
   ]
  },
  {
   "cell_type": "code",
   "execution_count": 1,
   "id": "5194a36e",
   "metadata": {},
   "outputs": [],
   "source": [
    "#Importing all the required libraries\n",
    "import numpy as np\n",
    "import pandas as pd\n",
    "from sklearn.cluster import KMeans\n",
    "from sklearn.linear_model import LinearRegression\n",
    "from sklearn.metrics import r2_score\n",
    "from sklearn.preprocessing import MinMaxScaler\n",
    "from sklearn.metrics import silhouette_score\n",
    "import matplotlib.pyplot as plt"
   ]
  },
  {
   "cell_type": "markdown",
   "id": "eae40a12",
   "metadata": {},
   "source": [
    "#### Reading files"
   ]
  },
  {
   "cell_type": "code",
   "execution_count": 2,
   "id": "d67756c4",
   "metadata": {},
   "outputs": [],
   "source": [
    "#Importing the train & test dataset\n",
    "df_RTr = pd.read_csv(\"train_regression.csv\")\n",
    "df_RTS = pd.read_csv(\"test_regression.csv\")"
   ]
  },
  {
   "cell_type": "code",
   "execution_count": 3,
   "id": "815c8cd1",
   "metadata": {},
   "outputs": [
    {
     "data": {
      "text/html": [
       "<div>\n",
       "<style scoped>\n",
       "    .dataframe tbody tr th:only-of-type {\n",
       "        vertical-align: middle;\n",
       "    }\n",
       "\n",
       "    .dataframe tbody tr th {\n",
       "        vertical-align: top;\n",
       "    }\n",
       "\n",
       "    .dataframe thead th {\n",
       "        text-align: right;\n",
       "    }\n",
       "</style>\n",
       "<table border=\"1\" class=\"dataframe\">\n",
       "  <thead>\n",
       "    <tr style=\"text-align: right;\">\n",
       "      <th></th>\n",
       "      <th>Hour</th>\n",
       "      <th>Temperature(C)</th>\n",
       "      <th>Humidity(%)</th>\n",
       "      <th>Wind speed (m/s)</th>\n",
       "      <th>Visibility (10m)</th>\n",
       "      <th>Dew point temperature(C)</th>\n",
       "      <th>Solar Radiation (MJ/m2)</th>\n",
       "      <th>Rainfall(mm)</th>\n",
       "      <th>Snowfall (cm)</th>\n",
       "      <th>Seasons</th>\n",
       "      <th>Holiday</th>\n",
       "      <th>Functioning Day</th>\n",
       "      <th>Rented Bike Count</th>\n",
       "    </tr>\n",
       "  </thead>\n",
       "  <tbody>\n",
       "    <tr>\n",
       "      <th>0</th>\n",
       "      <td>23.0</td>\n",
       "      <td>3.8</td>\n",
       "      <td>83.0</td>\n",
       "      <td>1.1</td>\n",
       "      <td>390.0</td>\n",
       "      <td>1.1</td>\n",
       "      <td>0.00</td>\n",
       "      <td>0.0</td>\n",
       "      <td>0.4</td>\n",
       "      <td>Autumn</td>\n",
       "      <td>No Holiday</td>\n",
       "      <td>Yes</td>\n",
       "      <td>379</td>\n",
       "    </tr>\n",
       "    <tr>\n",
       "      <th>1</th>\n",
       "      <td>14.0</td>\n",
       "      <td>24.0</td>\n",
       "      <td>47.0</td>\n",
       "      <td>2.3</td>\n",
       "      <td>520.0</td>\n",
       "      <td>11.9</td>\n",
       "      <td>2.87</td>\n",
       "      <td>0.0</td>\n",
       "      <td>0.0</td>\n",
       "      <td>Spring</td>\n",
       "      <td>No Holiday</td>\n",
       "      <td>Yes</td>\n",
       "      <td>1055</td>\n",
       "    </tr>\n",
       "    <tr>\n",
       "      <th>2</th>\n",
       "      <td>19.0</td>\n",
       "      <td>-7.1</td>\n",
       "      <td>33.0</td>\n",
       "      <td>2.0</td>\n",
       "      <td>1887.0</td>\n",
       "      <td>-20.6</td>\n",
       "      <td>0.00</td>\n",
       "      <td>0.0</td>\n",
       "      <td>0.0</td>\n",
       "      <td>Winter</td>\n",
       "      <td>No Holiday</td>\n",
       "      <td>Yes</td>\n",
       "      <td>122</td>\n",
       "    </tr>\n",
       "    <tr>\n",
       "      <th>3</th>\n",
       "      <td>12.0</td>\n",
       "      <td>12.3</td>\n",
       "      <td>97.0</td>\n",
       "      <td>0.8</td>\n",
       "      <td>238.0</td>\n",
       "      <td>11.8</td>\n",
       "      <td>0.14</td>\n",
       "      <td>2.0</td>\n",
       "      <td>0.0</td>\n",
       "      <td>Spring</td>\n",
       "      <td>No Holiday</td>\n",
       "      <td>Yes</td>\n",
       "      <td>11</td>\n",
       "    </tr>\n",
       "    <tr>\n",
       "      <th>4</th>\n",
       "      <td>4.0</td>\n",
       "      <td>3.6</td>\n",
       "      <td>70.0</td>\n",
       "      <td>0.8</td>\n",
       "      <td>1934.0</td>\n",
       "      <td>-1.3</td>\n",
       "      <td>0.00</td>\n",
       "      <td>0.0</td>\n",
       "      <td>0.0</td>\n",
       "      <td>Autumn</td>\n",
       "      <td>No Holiday</td>\n",
       "      <td>Yes</td>\n",
       "      <td>147</td>\n",
       "    </tr>\n",
       "    <tr>\n",
       "      <th>...</th>\n",
       "      <td>...</td>\n",
       "      <td>...</td>\n",
       "      <td>...</td>\n",
       "      <td>...</td>\n",
       "      <td>...</td>\n",
       "      <td>...</td>\n",
       "      <td>...</td>\n",
       "      <td>...</td>\n",
       "      <td>...</td>\n",
       "      <td>...</td>\n",
       "      <td>...</td>\n",
       "      <td>...</td>\n",
       "      <td>...</td>\n",
       "    </tr>\n",
       "    <tr>\n",
       "      <th>6565</th>\n",
       "      <td>5.0</td>\n",
       "      <td>17.8</td>\n",
       "      <td>75.0</td>\n",
       "      <td>1.0</td>\n",
       "      <td>1210.0</td>\n",
       "      <td>NaN</td>\n",
       "      <td>0.00</td>\n",
       "      <td>0.0</td>\n",
       "      <td>0.0</td>\n",
       "      <td>Summer</td>\n",
       "      <td>NaN</td>\n",
       "      <td>Yes</td>\n",
       "      <td>306</td>\n",
       "    </tr>\n",
       "    <tr>\n",
       "      <th>6566</th>\n",
       "      <td>19.0</td>\n",
       "      <td>16.4</td>\n",
       "      <td>47.0</td>\n",
       "      <td>1.0</td>\n",
       "      <td>1694.0</td>\n",
       "      <td>5.0</td>\n",
       "      <td>0.00</td>\n",
       "      <td>0.0</td>\n",
       "      <td>0.0</td>\n",
       "      <td>Autumn</td>\n",
       "      <td>No Holiday</td>\n",
       "      <td>Yes</td>\n",
       "      <td>1968</td>\n",
       "    </tr>\n",
       "    <tr>\n",
       "      <th>6567</th>\n",
       "      <td>11.0</td>\n",
       "      <td>NaN</td>\n",
       "      <td>57.0</td>\n",
       "      <td>1.8</td>\n",
       "      <td>943.0</td>\n",
       "      <td>16.3</td>\n",
       "      <td>3.01</td>\n",
       "      <td>0.0</td>\n",
       "      <td>0.0</td>\n",
       "      <td>Summer</td>\n",
       "      <td>No Holiday</td>\n",
       "      <td>Yes</td>\n",
       "      <td>1066</td>\n",
       "    </tr>\n",
       "    <tr>\n",
       "      <th>6568</th>\n",
       "      <td>0.0</td>\n",
       "      <td>8.3</td>\n",
       "      <td>59.0</td>\n",
       "      <td>2.1</td>\n",
       "      <td>1912.0</td>\n",
       "      <td>0.7</td>\n",
       "      <td>0.00</td>\n",
       "      <td>0.0</td>\n",
       "      <td>0.0</td>\n",
       "      <td>Spring</td>\n",
       "      <td>No Holiday</td>\n",
       "      <td>Yes</td>\n",
       "      <td>401</td>\n",
       "    </tr>\n",
       "    <tr>\n",
       "      <th>6569</th>\n",
       "      <td>20.0</td>\n",
       "      <td>7.1</td>\n",
       "      <td>83.0</td>\n",
       "      <td>3.3</td>\n",
       "      <td>203.0</td>\n",
       "      <td>4.4</td>\n",
       "      <td>0.00</td>\n",
       "      <td>0.0</td>\n",
       "      <td>0.0</td>\n",
       "      <td>Spring</td>\n",
       "      <td>No Holiday</td>\n",
       "      <td>Yes</td>\n",
       "      <td>513</td>\n",
       "    </tr>\n",
       "  </tbody>\n",
       "</table>\n",
       "<p>6570 rows × 13 columns</p>\n",
       "</div>"
      ],
      "text/plain": [
       "      Hour  Temperature(C)  Humidity(%)  Wind speed (m/s)  Visibility (10m)  \\\n",
       "0     23.0             3.8         83.0               1.1             390.0   \n",
       "1     14.0            24.0         47.0               2.3             520.0   \n",
       "2     19.0            -7.1         33.0               2.0            1887.0   \n",
       "3     12.0            12.3         97.0               0.8             238.0   \n",
       "4      4.0             3.6         70.0               0.8            1934.0   \n",
       "...    ...             ...          ...               ...               ...   \n",
       "6565   5.0            17.8         75.0               1.0            1210.0   \n",
       "6566  19.0            16.4         47.0               1.0            1694.0   \n",
       "6567  11.0             NaN         57.0               1.8             943.0   \n",
       "6568   0.0             8.3         59.0               2.1            1912.0   \n",
       "6569  20.0             7.1         83.0               3.3             203.0   \n",
       "\n",
       "      Dew point temperature(C)  Solar Radiation (MJ/m2)  Rainfall(mm)  \\\n",
       "0                          1.1                     0.00           0.0   \n",
       "1                         11.9                     2.87           0.0   \n",
       "2                        -20.6                     0.00           0.0   \n",
       "3                         11.8                     0.14           2.0   \n",
       "4                         -1.3                     0.00           0.0   \n",
       "...                        ...                      ...           ...   \n",
       "6565                       NaN                     0.00           0.0   \n",
       "6566                       5.0                     0.00           0.0   \n",
       "6567                      16.3                     3.01           0.0   \n",
       "6568                       0.7                     0.00           0.0   \n",
       "6569                       4.4                     0.00           0.0   \n",
       "\n",
       "      Snowfall (cm) Seasons     Holiday Functioning Day  Rented Bike Count  \n",
       "0               0.4  Autumn  No Holiday             Yes                379  \n",
       "1               0.0  Spring  No Holiday             Yes               1055  \n",
       "2               0.0  Winter  No Holiday             Yes                122  \n",
       "3               0.0  Spring  No Holiday             Yes                 11  \n",
       "4               0.0  Autumn  No Holiday             Yes                147  \n",
       "...             ...     ...         ...             ...                ...  \n",
       "6565            0.0  Summer         NaN             Yes                306  \n",
       "6566            0.0  Autumn  No Holiday             Yes               1968  \n",
       "6567            0.0  Summer  No Holiday             Yes               1066  \n",
       "6568            0.0  Spring  No Holiday             Yes                401  \n",
       "6569            0.0  Spring  No Holiday             Yes                513  \n",
       "\n",
       "[6570 rows x 13 columns]"
      ]
     },
     "execution_count": 3,
     "metadata": {},
     "output_type": "execute_result"
    }
   ],
   "source": [
    "#Exploring columns of training dataset\n",
    "df_RTr"
   ]
  },
  {
   "cell_type": "markdown",
   "id": "33e29ddf",
   "metadata": {},
   "source": [
    "#### Data prepartion \n"
   ]
  },
  {
   "cell_type": "code",
   "execution_count": 4,
   "id": "3d4330fa",
   "metadata": {},
   "outputs": [
    {
     "data": {
      "text/plain": [
       "Hour                        0\n",
       "Temperature(C)              0\n",
       "Humidity(%)                 0\n",
       "Wind speed (m/s)            0\n",
       "Visibility (10m)            0\n",
       "Dew point temperature(C)    0\n",
       "Solar Radiation (MJ/m2)     0\n",
       "Rainfall(mm)                0\n",
       "Snowfall (cm)               0\n",
       "Seasons                     0\n",
       "Holiday                     0\n",
       "Functioning Day             0\n",
       "Rented Bike Count           0\n",
       "dtype: int64"
      ]
     },
     "execution_count": 4,
     "metadata": {},
     "output_type": "execute_result"
    }
   ],
   "source": [
    "#Check if there are any duplicated values\n",
    "df_RTr[df_RTr.duplicated() == True].count()"
   ]
  },
  {
   "cell_type": "code",
   "execution_count": 5,
   "id": "8bb39152",
   "metadata": {},
   "outputs": [
    {
     "data": {
      "text/plain": [
       "Hour                        177\n",
       "Temperature(C)              209\n",
       "Humidity(%)                 210\n",
       "Wind speed (m/s)            193\n",
       "Visibility (10m)            190\n",
       "Dew point temperature(C)    197\n",
       "Solar Radiation (MJ/m2)     201\n",
       "Rainfall(mm)                211\n",
       "Snowfall (cm)               190\n",
       "Seasons                     209\n",
       "Holiday                     167\n",
       "Functioning Day             196\n",
       "Rented Bike Count             0\n",
       "dtype: int64"
      ]
     },
     "execution_count": 5,
     "metadata": {},
     "output_type": "execute_result"
    }
   ],
   "source": [
    "#lookung for null values\n",
    "#All the columns have missing values except Rented Bike Count\n",
    "df_RTr.isnull().sum()"
   ]
  },
  {
   "cell_type": "code",
   "execution_count": 6,
   "id": "ec092ba9",
   "metadata": {},
   "outputs": [
    {
     "data": {
      "text/plain": [
       "<AxesSubplot:ylabel='Density'>"
      ]
     },
     "execution_count": 6,
     "metadata": {},
     "output_type": "execute_result"
    },
    {
     "data": {
      "image/png": "[encoded data removed]",
      "text/plain": [
       "<Figure size 432x288 with 1 Axes>"
      ]
     },
     "metadata": {
      "needs_background": "light"
     },
     "output_type": "display_data"
    }
   ],
   "source": [
    "#Plotting the Hour column distribution to decide how to replace the missing values\n",
    "#This distribution is neither normal nor skewed\n",
    "#So, clustering is the choice to replace the missing values which it will be seen below\n",
    "df_RTr['Hour'].plot(kind='kde')"
   ]
  },
  {
   "cell_type": "code",
   "execution_count": 7,
   "id": "eb4322f4",
   "metadata": {},
   "outputs": [
    {
     "data": {
      "image/png": "[encoded data removed]",
      "text/plain": [
       "<Figure size 432x288 with 1 Axes>"
      ]
     },
     "metadata": {
      "needs_background": "light"
     },
     "output_type": "display_data"
    }
   ],
   "source": [
    "#Plotting the Temperature column distribution to decide how to replace the missing values\n",
    "#As it's almost like a normal distribution, so replaced the missing values of this column will be with the mean\n",
    "df_RTr['Temperature(C)'].plot(kind='kde')\n",
    "meanht= df_RTr['Temperature(C)'].mean()\n",
    "df_RTr['Temperature(C)']= df_RTr['Temperature(C)'].fillna(meanht)"
   ]
  },
  {
   "cell_type": "code",
   "execution_count": 8,
   "id": "c5251c7b",
   "metadata": {},
   "outputs": [
    {
     "data": {
      "image/png": "[encoded data removed]",
      "text/plain": [
       "<Figure size 432x288 with 1 Axes>"
      ]
     },
     "metadata": {
      "needs_background": "light"
     },
     "output_type": "display_data"
    }
   ],
   "source": [
    "#Plotting the Humidity column distribution to decide how to replace the missing values\n",
    "#As it's almost like a normal distribution, so replaced the missing values of this column will be with the mean\n",
    "df_RTr['Humidity(%)'].plot(kind='kde')\n",
    "meanhh= df_RTr['Humidity(%)'].mean()\n",
    "df_RTr['Humidity(%)']= df_RTr['Humidity(%)'].fillna(meanhh)"
   ]
  },
  {
   "cell_type": "code",
   "execution_count": 9,
   "id": "e8432f08",
   "metadata": {},
   "outputs": [
    {
     "data": {
      "image/png": "[encoded data removed]",
      "text/plain": [
       "<Figure size 432x288 with 1 Axes>"
      ]
     },
     "metadata": {
      "needs_background": "light"
     },
     "output_type": "display_data"
    }
   ],
   "source": [
    "#Plotting the Wind speed (m/s) column distribution to decide how to replace the missing values\n",
    "#As it's left skewed, best chice for replaced the missing values of this column is the median\n",
    "df_RTr['Wind speed (m/s)'].plot(kind='kde')\n",
    "medianw= df_RTr['Wind speed (m/s)'].median()\n",
    "df_RTr['Wind speed (m/s)']= df_RTr['Wind speed (m/s)'].fillna(medianw)"
   ]
  },
  {
   "cell_type": "code",
   "execution_count": 10,
   "id": "32ab68d9",
   "metadata": {},
   "outputs": [
    {
     "data": {
      "image/png": "[encoded data removed]",
      "text/plain": [
       "<Figure size 432x288 with 1 Axes>"
      ]
     },
     "metadata": {
      "needs_background": "light"
     },
     "output_type": "display_data"
    }
   ],
   "source": [
    "#Plotting the Visibility column distribution to decide how to replace the missing values\n",
    "#As it's right skewed the missing values of this column will be replaced with the median\n",
    "df_RTr['Visibility (10m)'].plot(kind='kde')\n",
    "medianv= df_RTr['Visibility (10m)'].median()\n",
    "df_RTr['Visibility (10m)']=df_RTr['Visibility (10m)'].fillna(medianv)"
   ]
  },
  {
   "cell_type": "code",
   "execution_count": 11,
   "id": "53b59628",
   "metadata": {},
   "outputs": [
    {
     "data": {
      "image/png": "[encoded data removed]",
      "text/plain": [
       "<Figure size 432x288 with 1 Axes>"
      ]
     },
     "metadata": {
      "needs_background": "light"
     },
     "output_type": "display_data"
    }
   ],
   "source": [
    "##Plotting the Dew point temperature(C) column distribution to decide how to replace the missing values\n",
    "#As it's right skewed, so replaced the missing values of this column will be with the median\n",
    "df_RTr['Dew point temperature(C)'].plot(kind='kde')\n",
    "df_RTr['Dew point temperature(C)']=df_RTr['Dew point temperature(C)'].fillna(df_RTr['Dew point temperature(C)'].median())"
   ]
  },
  {
   "cell_type": "code",
   "execution_count": 12,
   "id": "25d5c532",
   "metadata": {},
   "outputs": [
    {
     "data": {
      "image/png": "[encoded data removed]",
      "text/plain": [
       "<Figure size 432x288 with 1 Axes>"
      ]
     },
     "metadata": {
      "needs_background": "light"
     },
     "output_type": "display_data"
    }
   ],
   "source": [
    "#Plotting the Solar Radiation (MJ/m2) column distribution to decide how to replace the missing values\n",
    "#As it's left skewed, so replaced the missing values of this column with the median\n",
    "df_RTr['Solar Radiation (MJ/m2)'].plot(kind='kde')\n",
    "medians= df_RTr['Solar Radiation (MJ/m2)'].median()\n",
    "df_RTr['Solar Radiation (MJ/m2)']=df_RTr['Solar Radiation (MJ/m2)'].fillna(medians)"
   ]
  },
  {
   "cell_type": "code",
   "execution_count": 13,
   "id": "7c942c1d",
   "metadata": {},
   "outputs": [
    {
     "data": {
      "image/png": "[encoded data removed]",
      "text/plain": [
       "<Figure size 432x288 with 1 Axes>"
      ]
     },
     "metadata": {
      "needs_background": "light"
     },
     "output_type": "display_data"
    }
   ],
   "source": [
    "#Plotting the Rainfall(mm) column distribution to decide how to replace the missing values\n",
    "#As it's left skewed, so replaced the missing values of this column with the median\n",
    "df_RTr['Rainfall(mm)'].plot(kind='kde')\n",
    "medians= df_RTr['Rainfall(mm)'].median()\n",
    "df_RTr['Rainfall(mm)']=df_RTr['Rainfall(mm)'].fillna(medians)"
   ]
  },
  {
   "cell_type": "code",
   "execution_count": 14,
   "id": "83c31dd2",
   "metadata": {},
   "outputs": [
    {
     "data": {
      "image/png": "[encoded data removed]",
      "text/plain": [
       "<Figure size 432x288 with 1 Axes>"
      ]
     },
     "metadata": {
      "needs_background": "light"
     },
     "output_type": "display_data"
    }
   ],
   "source": [
    "#Plotting the Snowfall (cm) column distribution to decide how to replace the missing values\n",
    "#As it's left skewed, so replaced the missing values of this column with the median\n",
    "df_RTr['Snowfall (cm)'].plot(kind='kde')\n",
    "mediansn= df_RTr['Snowfall (cm)'].median()\n",
    "df_RTr['Snowfall (cm)']= df_RTr['Snowfall (cm)'].fillna(mediansn)"
   ]
  },
  {
   "cell_type": "code",
   "execution_count": 15,
   "id": "f8117d04",
   "metadata": {
    "scrolled": true
   },
   "outputs": [
    {
     "data": {
      "text/plain": [
       "No Holiday    6082\n",
       "Holiday        321\n",
       "Name: Holiday, dtype: int64"
      ]
     },
     "execution_count": 15,
     "metadata": {},
     "output_type": "execute_result"
    }
   ],
   "source": [
    "#The column Holiday contains string which be in the moedl \n",
    "#it have to be transformed into a numerical one\n",
    "#As it's a binomial column, it will be replaced by 1 for the most frequent value and 0 for the other value.\n",
    "df_RTr['Holiday'].value_counts()"
   ]
  },
  {
   "cell_type": "code",
   "execution_count": 16,
   "id": "98c11d1c",
   "metadata": {},
   "outputs": [],
   "source": [
    "#replaced 'No Holiday' with 1 & 'Holiday' with 0\n",
    "df_RTr['Holiday'] = df_RTr['Holiday'].replace('No Holiday', 1)\n",
    "df_RTr['Holiday'] = df_RTr['Holiday'].replace('Holiday', 0)"
   ]
  },
  {
   "cell_type": "code",
   "execution_count": 17,
   "id": "9424cb65",
   "metadata": {},
   "outputs": [
    {
     "data": {
      "text/plain": [
       "Yes    6180\n",
       "No      194\n",
       "Name: Functioning Day, dtype: int64"
      ]
     },
     "execution_count": 17,
     "metadata": {},
     "output_type": "execute_result"
    }
   ],
   "source": [
    "#As it's a binomial column, it will be replaced by 1 for the most frequent value and 0 for the other value.\n",
    "df_RTr['Functioning Day'].value_counts()"
   ]
  },
  {
   "cell_type": "code",
   "execution_count": 18,
   "id": "769d3d9a",
   "metadata": {},
   "outputs": [],
   "source": [
    "#replaced 'Yes' with 1 & 'No' with 0\n",
    "df_RTr['Functioning Day'] = df_RTr['Functioning Day'].replace('Yes', 1)\n",
    "df_RTr['Functioning Day'] = df_RTr['Functioning Day'].replace('No', 0)"
   ]
  },
  {
   "cell_type": "code",
   "execution_count": 19,
   "id": "98225182",
   "metadata": {},
   "outputs": [
    {
     "data": {
      "image/png": "[encoded data removed]",
      "text/plain": [
       "<Figure size 432x288 with 1 Axes>"
      ]
     },
     "metadata": {
      "needs_background": "light"
     },
     "output_type": "display_data"
    }
   ],
   "source": [
    "#Plotting the Holiday column distribution to decide how to replace the missing values\n",
    "#As it's right skewed, replaced the missing values of this column with the median\n",
    "df_RTr['Holiday'].plot(kind='kde')\n",
    "medianh= df_RTr['Holiday'].median()\n",
    "df_RTr['Holiday']= df_RTr['Holiday'].fillna(medianh)"
   ]
  },
  {
   "cell_type": "code",
   "execution_count": 20,
   "id": "86d4bdd0",
   "metadata": {},
   "outputs": [
    {
     "data": {
      "image/png": "[encoded data removed]",
      "text/plain": [
       "<Figure size 432x288 with 1 Axes>"
      ]
     },
     "metadata": {
      "needs_background": "light"
     },
     "output_type": "display_data"
    }
   ],
   "source": [
    "#Plotting the Functioning Day column distribution to decide how to replace the missing values\n",
    "#As it's right skewed. replaced the missing values of this column with the median\n",
    "df_RTr['Functioning Day'].plot(kind='kde')\n",
    "medianh= df_RTr['Functioning Day'].median()\n",
    "df_RTr['Functioning Day']= df_RTr['Functioning Day'].fillna(medianh)"
   ]
  },
  {
   "cell_type": "code",
   "execution_count": 21,
   "id": "3eec7613",
   "metadata": {},
   "outputs": [
    {
     "name": "stdout",
     "output_type": "stream",
     "text": [
      "<class 'pandas.core.frame.DataFrame'>\n",
      "RangeIndex: 6570 entries, 0 to 6569\n",
      "Data columns (total 13 columns):\n",
      " #   Column                    Non-Null Count  Dtype  \n",
      "---  ------                    --------------  -----  \n",
      " 0   Hour                      6393 non-null   float64\n",
      " 1   Temperature(C)            6570 non-null   float64\n",
      " 2   Humidity(%)               6570 non-null   float64\n",
      " 3   Wind speed (m/s)          6570 non-null   float64\n",
      " 4   Visibility (10m)          6570 non-null   float64\n",
      " 5   Dew point temperature(C)  6570 non-null   float64\n",
      " 6   Solar Radiation (MJ/m2)   6570 non-null   float64\n",
      " 7   Rainfall(mm)              6570 non-null   float64\n",
      " 8   Snowfall (cm)             6570 non-null   float64\n",
      " 9   Seasons                   6361 non-null   object \n",
      " 10  Holiday                   6570 non-null   float64\n",
      " 11  Functioning Day           6570 non-null   float64\n",
      " 12  Rented Bike Count         6570 non-null   int64  \n",
      "dtypes: float64(11), int64(1), object(1)\n",
      "memory usage: 667.4+ KB\n"
     ]
    }
   ],
   "source": [
    "# still have to fix Hour & Seasons column\n",
    "df_RTr.info()"
   ]
  },
  {
   "cell_type": "code",
   "execution_count": 22,
   "id": "5fc55b5c",
   "metadata": {},
   "outputs": [],
   "source": [
    "#Setting Rented Bike Count column as our target column\n",
    "X= df_RTr.drop('Rented Bike Count', axis=1)\n",
    "y = df_RTr['Rented Bike Count']"
   ]
  },
  {
   "cell_type": "code",
   "execution_count": 23,
   "id": "84b80584",
   "metadata": {},
   "outputs": [
    {
     "data": {
      "text/plain": [
       "Hour                        177\n",
       "Temperature(C)                0\n",
       "Humidity(%)                   0\n",
       "Wind speed (m/s)              0\n",
       "Visibility (10m)              0\n",
       "Dew point temperature(C)      0\n",
       "Solar Radiation (MJ/m2)       0\n",
       "Rainfall(mm)                  0\n",
       "Snowfall (cm)                 0\n",
       "Seasons                     209\n",
       "Holiday                       0\n",
       "Functioning Day               0\n",
       "dtype: int64"
      ]
     },
     "execution_count": 23,
     "metadata": {},
     "output_type": "execute_result"
    }
   ],
   "source": [
    "#Our feature set X has 12 columns now\n",
    "X.isnull().sum()"
   ]
  },
  {
   "cell_type": "markdown",
   "id": "3e71b573",
   "metadata": {},
   "source": [
    "### Scaling"
   ]
  },
  {
   "cell_type": "code",
   "execution_count": 24,
   "id": "3bd928ff",
   "metadata": {
    "scrolled": false
   },
   "outputs": [
    {
     "data": {
      "text/html": [
       "<div>\n",
       "<style scoped>\n",
       "    .dataframe tbody tr th:only-of-type {\n",
       "        vertical-align: middle;\n",
       "    }\n",
       "\n",
       "    .dataframe tbody tr th {\n",
       "        vertical-align: top;\n",
       "    }\n",
       "\n",
       "    .dataframe thead th {\n",
       "        text-align: right;\n",
       "    }\n",
       "</style>\n",
       "<table border=\"1\" class=\"dataframe\">\n",
       "  <thead>\n",
       "    <tr style=\"text-align: right;\">\n",
       "      <th></th>\n",
       "      <th>Hour</th>\n",
       "      <th>Temperature(C)</th>\n",
       "      <th>Humidity(%)</th>\n",
       "      <th>Wind speed (m/s)</th>\n",
       "      <th>Visibility (10m)</th>\n",
       "      <th>Dew point temperature(C)</th>\n",
       "      <th>Solar Radiation (MJ/m2)</th>\n",
       "      <th>Rainfall(mm)</th>\n",
       "      <th>Snowfall (cm)</th>\n",
       "      <th>Seasons</th>\n",
       "      <th>Holiday</th>\n",
       "      <th>Functioning Day</th>\n",
       "    </tr>\n",
       "  </thead>\n",
       "  <tbody>\n",
       "    <tr>\n",
       "      <th>0</th>\n",
       "      <td>23.0</td>\n",
       "      <td>3.800000</td>\n",
       "      <td>83.0</td>\n",
       "      <td>1.1</td>\n",
       "      <td>390.0</td>\n",
       "      <td>1.1</td>\n",
       "      <td>0.00</td>\n",
       "      <td>0.0</td>\n",
       "      <td>0.4</td>\n",
       "      <td>Autumn</td>\n",
       "      <td>1.0</td>\n",
       "      <td>1.0</td>\n",
       "    </tr>\n",
       "    <tr>\n",
       "      <th>1</th>\n",
       "      <td>14.0</td>\n",
       "      <td>24.000000</td>\n",
       "      <td>47.0</td>\n",
       "      <td>2.3</td>\n",
       "      <td>520.0</td>\n",
       "      <td>11.9</td>\n",
       "      <td>2.87</td>\n",
       "      <td>0.0</td>\n",
       "      <td>0.0</td>\n",
       "      <td>Spring</td>\n",
       "      <td>1.0</td>\n",
       "      <td>1.0</td>\n",
       "    </tr>\n",
       "    <tr>\n",
       "      <th>2</th>\n",
       "      <td>19.0</td>\n",
       "      <td>-7.100000</td>\n",
       "      <td>33.0</td>\n",
       "      <td>2.0</td>\n",
       "      <td>1887.0</td>\n",
       "      <td>-20.6</td>\n",
       "      <td>0.00</td>\n",
       "      <td>0.0</td>\n",
       "      <td>0.0</td>\n",
       "      <td>Winter</td>\n",
       "      <td>1.0</td>\n",
       "      <td>1.0</td>\n",
       "    </tr>\n",
       "    <tr>\n",
       "      <th>3</th>\n",
       "      <td>12.0</td>\n",
       "      <td>12.300000</td>\n",
       "      <td>97.0</td>\n",
       "      <td>0.8</td>\n",
       "      <td>238.0</td>\n",
       "      <td>11.8</td>\n",
       "      <td>0.14</td>\n",
       "      <td>2.0</td>\n",
       "      <td>0.0</td>\n",
       "      <td>Spring</td>\n",
       "      <td>1.0</td>\n",
       "      <td>1.0</td>\n",
       "    </tr>\n",
       "    <tr>\n",
       "      <th>4</th>\n",
       "      <td>4.0</td>\n",
       "      <td>3.600000</td>\n",
       "      <td>70.0</td>\n",
       "      <td>0.8</td>\n",
       "      <td>1934.0</td>\n",
       "      <td>-1.3</td>\n",
       "      <td>0.00</td>\n",
       "      <td>0.0</td>\n",
       "      <td>0.0</td>\n",
       "      <td>Autumn</td>\n",
       "      <td>1.0</td>\n",
       "      <td>1.0</td>\n",
       "    </tr>\n",
       "    <tr>\n",
       "      <th>...</th>\n",
       "      <td>...</td>\n",
       "      <td>...</td>\n",
       "      <td>...</td>\n",
       "      <td>...</td>\n",
       "      <td>...</td>\n",
       "      <td>...</td>\n",
       "      <td>...</td>\n",
       "      <td>...</td>\n",
       "      <td>...</td>\n",
       "      <td>...</td>\n",
       "      <td>...</td>\n",
       "      <td>...</td>\n",
       "    </tr>\n",
       "    <tr>\n",
       "      <th>6565</th>\n",
       "      <td>5.0</td>\n",
       "      <td>17.800000</td>\n",
       "      <td>75.0</td>\n",
       "      <td>1.0</td>\n",
       "      <td>1210.0</td>\n",
       "      <td>4.9</td>\n",
       "      <td>0.00</td>\n",
       "      <td>0.0</td>\n",
       "      <td>0.0</td>\n",
       "      <td>Summer</td>\n",
       "      <td>1.0</td>\n",
       "      <td>1.0</td>\n",
       "    </tr>\n",
       "    <tr>\n",
       "      <th>6566</th>\n",
       "      <td>19.0</td>\n",
       "      <td>16.400000</td>\n",
       "      <td>47.0</td>\n",
       "      <td>1.0</td>\n",
       "      <td>1694.0</td>\n",
       "      <td>5.0</td>\n",
       "      <td>0.00</td>\n",
       "      <td>0.0</td>\n",
       "      <td>0.0</td>\n",
       "      <td>Autumn</td>\n",
       "      <td>1.0</td>\n",
       "      <td>1.0</td>\n",
       "    </tr>\n",
       "    <tr>\n",
       "      <th>6567</th>\n",
       "      <td>11.0</td>\n",
       "      <td>12.808175</td>\n",
       "      <td>57.0</td>\n",
       "      <td>1.8</td>\n",
       "      <td>943.0</td>\n",
       "      <td>16.3</td>\n",
       "      <td>3.01</td>\n",
       "      <td>0.0</td>\n",
       "      <td>0.0</td>\n",
       "      <td>Summer</td>\n",
       "      <td>1.0</td>\n",
       "      <td>1.0</td>\n",
       "    </tr>\n",
       "    <tr>\n",
       "      <th>6568</th>\n",
       "      <td>0.0</td>\n",
       "      <td>8.300000</td>\n",
       "      <td>59.0</td>\n",
       "      <td>2.1</td>\n",
       "      <td>1912.0</td>\n",
       "      <td>0.7</td>\n",
       "      <td>0.00</td>\n",
       "      <td>0.0</td>\n",
       "      <td>0.0</td>\n",
       "      <td>Spring</td>\n",
       "      <td>1.0</td>\n",
       "      <td>1.0</td>\n",
       "    </tr>\n",
       "    <tr>\n",
       "      <th>6569</th>\n",
       "      <td>20.0</td>\n",
       "      <td>7.100000</td>\n",
       "      <td>83.0</td>\n",
       "      <td>3.3</td>\n",
       "      <td>203.0</td>\n",
       "      <td>4.4</td>\n",
       "      <td>0.00</td>\n",
       "      <td>0.0</td>\n",
       "      <td>0.0</td>\n",
       "      <td>Spring</td>\n",
       "      <td>1.0</td>\n",
       "      <td>1.0</td>\n",
       "    </tr>\n",
       "  </tbody>\n",
       "</table>\n",
       "<p>6570 rows × 12 columns</p>\n",
       "</div>"
      ],
      "text/plain": [
       "      Hour  Temperature(C)  Humidity(%)  Wind speed (m/s)  Visibility (10m)  \\\n",
       "0     23.0        3.800000         83.0               1.1             390.0   \n",
       "1     14.0       24.000000         47.0               2.3             520.0   \n",
       "2     19.0       -7.100000         33.0               2.0            1887.0   \n",
       "3     12.0       12.300000         97.0               0.8             238.0   \n",
       "4      4.0        3.600000         70.0               0.8            1934.0   \n",
       "...    ...             ...          ...               ...               ...   \n",
       "6565   5.0       17.800000         75.0               1.0            1210.0   \n",
       "6566  19.0       16.400000         47.0               1.0            1694.0   \n",
       "6567  11.0       12.808175         57.0               1.8             943.0   \n",
       "6568   0.0        8.300000         59.0               2.1            1912.0   \n",
       "6569  20.0        7.100000         83.0               3.3             203.0   \n",
       "\n",
       "      Dew point temperature(C)  Solar Radiation (MJ/m2)  Rainfall(mm)  \\\n",
       "0                          1.1                     0.00           0.0   \n",
       "1                         11.9                     2.87           0.0   \n",
       "2                        -20.6                     0.00           0.0   \n",
       "3                         11.8                     0.14           2.0   \n",
       "4                         -1.3                     0.00           0.0   \n",
       "...                        ...                      ...           ...   \n",
       "6565                       4.9                     0.00           0.0   \n",
       "6566                       5.0                     0.00           0.0   \n",
       "6567                      16.3                     3.01           0.0   \n",
       "6568                       0.7                     0.00           0.0   \n",
       "6569                       4.4                     0.00           0.0   \n",
       "\n",
       "      Snowfall (cm) Seasons  Holiday  Functioning Day  \n",
       "0               0.4  Autumn      1.0              1.0  \n",
       "1               0.0  Spring      1.0              1.0  \n",
       "2               0.0  Winter      1.0              1.0  \n",
       "3               0.0  Spring      1.0              1.0  \n",
       "4               0.0  Autumn      1.0              1.0  \n",
       "...             ...     ...      ...              ...  \n",
       "6565            0.0  Summer      1.0              1.0  \n",
       "6566            0.0  Autumn      1.0              1.0  \n",
       "6567            0.0  Summer      1.0              1.0  \n",
       "6568            0.0  Spring      1.0              1.0  \n",
       "6569            0.0  Spring      1.0              1.0  \n",
       "\n",
       "[6570 rows x 12 columns]"
      ]
     },
     "execution_count": 24,
     "metadata": {},
     "output_type": "execute_result"
    }
   ],
   "source": [
    "#The feature set before scaling\n",
    "X"
   ]
  },
  {
   "cell_type": "code",
   "execution_count": 25,
   "id": "a5421123",
   "metadata": {},
   "outputs": [],
   "source": [
    "#As for now, the Seasons column is dropped because it has strings which can't be scaled\n",
    "X= X.drop('Seasons', axis=1)"
   ]
  },
  {
   "cell_type": "code",
   "execution_count": 26,
   "id": "82786143",
   "metadata": {},
   "outputs": [
    {
     "data": {
      "text/html": [
       "<div>\n",
       "<style scoped>\n",
       "    .dataframe tbody tr th:only-of-type {\n",
       "        vertical-align: middle;\n",
       "    }\n",
       "\n",
       "    .dataframe tbody tr th {\n",
       "        vertical-align: top;\n",
       "    }\n",
       "\n",
       "    .dataframe thead th {\n",
       "        text-align: right;\n",
       "    }\n",
       "</style>\n",
       "<table border=\"1\" class=\"dataframe\">\n",
       "  <thead>\n",
       "    <tr style=\"text-align: right;\">\n",
       "      <th></th>\n",
       "      <th>Hour</th>\n",
       "      <th>Temperature(C)</th>\n",
       "      <th>Humidity(%)</th>\n",
       "      <th>Wind speed (m/s)</th>\n",
       "      <th>Visibility (10m)</th>\n",
       "      <th>Dew point temperature(C)</th>\n",
       "      <th>Solar Radiation (MJ/m2)</th>\n",
       "      <th>Rainfall(mm)</th>\n",
       "      <th>Snowfall (cm)</th>\n",
       "      <th>Holiday</th>\n",
       "      <th>Functioning Day</th>\n",
       "    </tr>\n",
       "  </thead>\n",
       "  <tbody>\n",
       "    <tr>\n",
       "      <th>0</th>\n",
       "      <td>23.0</td>\n",
       "      <td>3.800000</td>\n",
       "      <td>83.0</td>\n",
       "      <td>1.1</td>\n",
       "      <td>390.0</td>\n",
       "      <td>1.1</td>\n",
       "      <td>0.00</td>\n",
       "      <td>0.0</td>\n",
       "      <td>0.4</td>\n",
       "      <td>1.0</td>\n",
       "      <td>1.0</td>\n",
       "    </tr>\n",
       "    <tr>\n",
       "      <th>1</th>\n",
       "      <td>14.0</td>\n",
       "      <td>24.000000</td>\n",
       "      <td>47.0</td>\n",
       "      <td>2.3</td>\n",
       "      <td>520.0</td>\n",
       "      <td>11.9</td>\n",
       "      <td>2.87</td>\n",
       "      <td>0.0</td>\n",
       "      <td>0.0</td>\n",
       "      <td>1.0</td>\n",
       "      <td>1.0</td>\n",
       "    </tr>\n",
       "    <tr>\n",
       "      <th>2</th>\n",
       "      <td>19.0</td>\n",
       "      <td>-7.100000</td>\n",
       "      <td>33.0</td>\n",
       "      <td>2.0</td>\n",
       "      <td>1887.0</td>\n",
       "      <td>-20.6</td>\n",
       "      <td>0.00</td>\n",
       "      <td>0.0</td>\n",
       "      <td>0.0</td>\n",
       "      <td>1.0</td>\n",
       "      <td>1.0</td>\n",
       "    </tr>\n",
       "    <tr>\n",
       "      <th>3</th>\n",
       "      <td>12.0</td>\n",
       "      <td>12.300000</td>\n",
       "      <td>97.0</td>\n",
       "      <td>0.8</td>\n",
       "      <td>238.0</td>\n",
       "      <td>11.8</td>\n",
       "      <td>0.14</td>\n",
       "      <td>2.0</td>\n",
       "      <td>0.0</td>\n",
       "      <td>1.0</td>\n",
       "      <td>1.0</td>\n",
       "    </tr>\n",
       "    <tr>\n",
       "      <th>4</th>\n",
       "      <td>4.0</td>\n",
       "      <td>3.600000</td>\n",
       "      <td>70.0</td>\n",
       "      <td>0.8</td>\n",
       "      <td>1934.0</td>\n",
       "      <td>-1.3</td>\n",
       "      <td>0.00</td>\n",
       "      <td>0.0</td>\n",
       "      <td>0.0</td>\n",
       "      <td>1.0</td>\n",
       "      <td>1.0</td>\n",
       "    </tr>\n",
       "    <tr>\n",
       "      <th>...</th>\n",
       "      <td>...</td>\n",
       "      <td>...</td>\n",
       "      <td>...</td>\n",
       "      <td>...</td>\n",
       "      <td>...</td>\n",
       "      <td>...</td>\n",
       "      <td>...</td>\n",
       "      <td>...</td>\n",
       "      <td>...</td>\n",
       "      <td>...</td>\n",
       "      <td>...</td>\n",
       "    </tr>\n",
       "    <tr>\n",
       "      <th>6565</th>\n",
       "      <td>5.0</td>\n",
       "      <td>17.800000</td>\n",
       "      <td>75.0</td>\n",
       "      <td>1.0</td>\n",
       "      <td>1210.0</td>\n",
       "      <td>4.9</td>\n",
       "      <td>0.00</td>\n",
       "      <td>0.0</td>\n",
       "      <td>0.0</td>\n",
       "      <td>1.0</td>\n",
       "      <td>1.0</td>\n",
       "    </tr>\n",
       "    <tr>\n",
       "      <th>6566</th>\n",
       "      <td>19.0</td>\n",
       "      <td>16.400000</td>\n",
       "      <td>47.0</td>\n",
       "      <td>1.0</td>\n",
       "      <td>1694.0</td>\n",
       "      <td>5.0</td>\n",
       "      <td>0.00</td>\n",
       "      <td>0.0</td>\n",
       "      <td>0.0</td>\n",
       "      <td>1.0</td>\n",
       "      <td>1.0</td>\n",
       "    </tr>\n",
       "    <tr>\n",
       "      <th>6567</th>\n",
       "      <td>11.0</td>\n",
       "      <td>12.808175</td>\n",
       "      <td>57.0</td>\n",
       "      <td>1.8</td>\n",
       "      <td>943.0</td>\n",
       "      <td>16.3</td>\n",
       "      <td>3.01</td>\n",
       "      <td>0.0</td>\n",
       "      <td>0.0</td>\n",
       "      <td>1.0</td>\n",
       "      <td>1.0</td>\n",
       "    </tr>\n",
       "    <tr>\n",
       "      <th>6568</th>\n",
       "      <td>0.0</td>\n",
       "      <td>8.300000</td>\n",
       "      <td>59.0</td>\n",
       "      <td>2.1</td>\n",
       "      <td>1912.0</td>\n",
       "      <td>0.7</td>\n",
       "      <td>0.00</td>\n",
       "      <td>0.0</td>\n",
       "      <td>0.0</td>\n",
       "      <td>1.0</td>\n",
       "      <td>1.0</td>\n",
       "    </tr>\n",
       "    <tr>\n",
       "      <th>6569</th>\n",
       "      <td>20.0</td>\n",
       "      <td>7.100000</td>\n",
       "      <td>83.0</td>\n",
       "      <td>3.3</td>\n",
       "      <td>203.0</td>\n",
       "      <td>4.4</td>\n",
       "      <td>0.00</td>\n",
       "      <td>0.0</td>\n",
       "      <td>0.0</td>\n",
       "      <td>1.0</td>\n",
       "      <td>1.0</td>\n",
       "    </tr>\n",
       "  </tbody>\n",
       "</table>\n",
       "<p>6570 rows × 11 columns</p>\n",
       "</div>"
      ],
      "text/plain": [
       "      Hour  Temperature(C)  Humidity(%)  Wind speed (m/s)  Visibility (10m)  \\\n",
       "0     23.0        3.800000         83.0               1.1             390.0   \n",
       "1     14.0       24.000000         47.0               2.3             520.0   \n",
       "2     19.0       -7.100000         33.0               2.0            1887.0   \n",
       "3     12.0       12.300000         97.0               0.8             238.0   \n",
       "4      4.0        3.600000         70.0               0.8            1934.0   \n",
       "...    ...             ...          ...               ...               ...   \n",
       "6565   5.0       17.800000         75.0               1.0            1210.0   \n",
       "6566  19.0       16.400000         47.0               1.0            1694.0   \n",
       "6567  11.0       12.808175         57.0               1.8             943.0   \n",
       "6568   0.0        8.300000         59.0               2.1            1912.0   \n",
       "6569  20.0        7.100000         83.0               3.3             203.0   \n",
       "\n",
       "      Dew point temperature(C)  Solar Radiation (MJ/m2)  Rainfall(mm)  \\\n",
       "0                          1.1                     0.00           0.0   \n",
       "1                         11.9                     2.87           0.0   \n",
       "2                        -20.6                     0.00           0.0   \n",
       "3                         11.8                     0.14           2.0   \n",
       "4                         -1.3                     0.00           0.0   \n",
       "...                        ...                      ...           ...   \n",
       "6565                       4.9                     0.00           0.0   \n",
       "6566                       5.0                     0.00           0.0   \n",
       "6567                      16.3                     3.01           0.0   \n",
       "6568                       0.7                     0.00           0.0   \n",
       "6569                       4.4                     0.00           0.0   \n",
       "\n",
       "      Snowfall (cm)  Holiday  Functioning Day  \n",
       "0               0.4      1.0              1.0  \n",
       "1               0.0      1.0              1.0  \n",
       "2               0.0      1.0              1.0  \n",
       "3               0.0      1.0              1.0  \n",
       "4               0.0      1.0              1.0  \n",
       "...             ...      ...              ...  \n",
       "6565            0.0      1.0              1.0  \n",
       "6566            0.0      1.0              1.0  \n",
       "6567            0.0      1.0              1.0  \n",
       "6568            0.0      1.0              1.0  \n",
       "6569            0.0      1.0              1.0  \n",
       "\n",
       "[6570 rows x 11 columns]"
      ]
     },
     "execution_count": 26,
     "metadata": {},
     "output_type": "execute_result"
    }
   ],
   "source": [
    "#Now the feature set looks like this before scaling\n",
    "X"
   ]
  },
  {
   "cell_type": "code",
   "execution_count": 27,
   "id": "b5c921fd",
   "metadata": {},
   "outputs": [],
   "source": [
    "#As most of data distribution is not normal but skewed, chose MinMaxScaler to scale the dataset\n",
    "#For each feature, each value is subtracted by the minimum value of the respective feature and then divided by the range of original maximum and minimum of the same feature\n",
    "#MinMaxScaler ranges the values in between 0 & 1\n",
    "#The highest value is replaced with 1 while the lowest value is replaced with 0\n",
    "#Since I am gonna use clustering for Seasons & Hours column, it's a good practice to scale the data before clustering\n",
    "from numpy import asarray\n",
    "from sklearn.preprocessing import MinMaxScaler\n",
    "scaler = MinMaxScaler()\n",
    "X_train_scaled = pd.DataFrame(scaler.fit_transform(X),columns= X.columns)"
   ]
  },
  {
   "cell_type": "code",
   "execution_count": 28,
   "id": "962ed625",
   "metadata": {},
   "outputs": [],
   "source": [
    "#Now, it's time to deal with the Seasons column\n",
    "#will add this column to the scaled dataset\n",
    "X_train_scaled['Seasons']= df_RTr['Seasons']"
   ]
  },
  {
   "cell_type": "code",
   "execution_count": 29,
   "id": "1359e0dc",
   "metadata": {},
   "outputs": [
    {
     "data": {
      "text/html": [
       "<div>\n",
       "<style scoped>\n",
       "    .dataframe tbody tr th:only-of-type {\n",
       "        vertical-align: middle;\n",
       "    }\n",
       "\n",
       "    .dataframe tbody tr th {\n",
       "        vertical-align: top;\n",
       "    }\n",
       "\n",
       "    .dataframe thead th {\n",
       "        text-align: right;\n",
       "    }\n",
       "</style>\n",
       "<table border=\"1\" class=\"dataframe\">\n",
       "  <thead>\n",
       "    <tr style=\"text-align: right;\">\n",
       "      <th></th>\n",
       "      <th>Hour</th>\n",
       "      <th>Temperature(C)</th>\n",
       "      <th>Humidity(%)</th>\n",
       "      <th>Wind speed (m/s)</th>\n",
       "      <th>Visibility (10m)</th>\n",
       "      <th>Dew point temperature(C)</th>\n",
       "      <th>Solar Radiation (MJ/m2)</th>\n",
       "      <th>Rainfall(mm)</th>\n",
       "      <th>Snowfall (cm)</th>\n",
       "      <th>Holiday</th>\n",
       "      <th>Functioning Day</th>\n",
       "      <th>Seasons</th>\n",
       "    </tr>\n",
       "  </thead>\n",
       "  <tbody>\n",
       "    <tr>\n",
       "      <th>0</th>\n",
       "      <td>1.000000</td>\n",
       "      <td>0.375000</td>\n",
       "      <td>0.846939</td>\n",
       "      <td>0.148649</td>\n",
       "      <td>0.181495</td>\n",
       "      <td>0.552265</td>\n",
       "      <td>0.000000</td>\n",
       "      <td>0.000000</td>\n",
       "      <td>0.045455</td>\n",
       "      <td>1.0</td>\n",
       "      <td>1.0</td>\n",
       "      <td>Autumn</td>\n",
       "    </tr>\n",
       "    <tr>\n",
       "      <th>1</th>\n",
       "      <td>0.608696</td>\n",
       "      <td>0.730634</td>\n",
       "      <td>0.479592</td>\n",
       "      <td>0.310811</td>\n",
       "      <td>0.247585</td>\n",
       "      <td>0.740418</td>\n",
       "      <td>0.815341</td>\n",
       "      <td>0.000000</td>\n",
       "      <td>0.000000</td>\n",
       "      <td>1.0</td>\n",
       "      <td>1.0</td>\n",
       "      <td>Spring</td>\n",
       "    </tr>\n",
       "    <tr>\n",
       "      <th>2</th>\n",
       "      <td>0.826087</td>\n",
       "      <td>0.183099</td>\n",
       "      <td>0.336735</td>\n",
       "      <td>0.270270</td>\n",
       "      <td>0.942552</td>\n",
       "      <td>0.174216</td>\n",
       "      <td>0.000000</td>\n",
       "      <td>0.000000</td>\n",
       "      <td>0.000000</td>\n",
       "      <td>1.0</td>\n",
       "      <td>1.0</td>\n",
       "      <td>Winter</td>\n",
       "    </tr>\n",
       "    <tr>\n",
       "      <th>3</th>\n",
       "      <td>0.521739</td>\n",
       "      <td>0.524648</td>\n",
       "      <td>0.989796</td>\n",
       "      <td>0.108108</td>\n",
       "      <td>0.104220</td>\n",
       "      <td>0.738676</td>\n",
       "      <td>0.039773</td>\n",
       "      <td>0.057143</td>\n",
       "      <td>0.000000</td>\n",
       "      <td>1.0</td>\n",
       "      <td>1.0</td>\n",
       "      <td>Spring</td>\n",
       "    </tr>\n",
       "    <tr>\n",
       "      <th>4</th>\n",
       "      <td>0.173913</td>\n",
       "      <td>0.371479</td>\n",
       "      <td>0.714286</td>\n",
       "      <td>0.108108</td>\n",
       "      <td>0.966446</td>\n",
       "      <td>0.510453</td>\n",
       "      <td>0.000000</td>\n",
       "      <td>0.000000</td>\n",
       "      <td>0.000000</td>\n",
       "      <td>1.0</td>\n",
       "      <td>1.0</td>\n",
       "      <td>Autumn</td>\n",
       "    </tr>\n",
       "    <tr>\n",
       "      <th>...</th>\n",
       "      <td>...</td>\n",
       "      <td>...</td>\n",
       "      <td>...</td>\n",
       "      <td>...</td>\n",
       "      <td>...</td>\n",
       "      <td>...</td>\n",
       "      <td>...</td>\n",
       "      <td>...</td>\n",
       "      <td>...</td>\n",
       "      <td>...</td>\n",
       "      <td>...</td>\n",
       "      <td>...</td>\n",
       "    </tr>\n",
       "    <tr>\n",
       "      <th>6565</th>\n",
       "      <td>0.217391</td>\n",
       "      <td>0.621479</td>\n",
       "      <td>0.765306</td>\n",
       "      <td>0.135135</td>\n",
       "      <td>0.598373</td>\n",
       "      <td>0.618467</td>\n",
       "      <td>0.000000</td>\n",
       "      <td>0.000000</td>\n",
       "      <td>0.000000</td>\n",
       "      <td>1.0</td>\n",
       "      <td>1.0</td>\n",
       "      <td>Summer</td>\n",
       "    </tr>\n",
       "    <tr>\n",
       "      <th>6566</th>\n",
       "      <td>0.826087</td>\n",
       "      <td>0.596831</td>\n",
       "      <td>0.479592</td>\n",
       "      <td>0.135135</td>\n",
       "      <td>0.844433</td>\n",
       "      <td>0.620209</td>\n",
       "      <td>0.000000</td>\n",
       "      <td>0.000000</td>\n",
       "      <td>0.000000</td>\n",
       "      <td>1.0</td>\n",
       "      <td>1.0</td>\n",
       "      <td>Autumn</td>\n",
       "    </tr>\n",
       "    <tr>\n",
       "      <th>6567</th>\n",
       "      <td>0.478261</td>\n",
       "      <td>0.533595</td>\n",
       "      <td>0.581633</td>\n",
       "      <td>0.243243</td>\n",
       "      <td>0.462633</td>\n",
       "      <td>0.817073</td>\n",
       "      <td>0.855114</td>\n",
       "      <td>0.000000</td>\n",
       "      <td>0.000000</td>\n",
       "      <td>1.0</td>\n",
       "      <td>1.0</td>\n",
       "      <td>Summer</td>\n",
       "    </tr>\n",
       "    <tr>\n",
       "      <th>6568</th>\n",
       "      <td>0.000000</td>\n",
       "      <td>0.454225</td>\n",
       "      <td>0.602041</td>\n",
       "      <td>0.283784</td>\n",
       "      <td>0.955262</td>\n",
       "      <td>0.545296</td>\n",
       "      <td>0.000000</td>\n",
       "      <td>0.000000</td>\n",
       "      <td>0.000000</td>\n",
       "      <td>1.0</td>\n",
       "      <td>1.0</td>\n",
       "      <td>Spring</td>\n",
       "    </tr>\n",
       "    <tr>\n",
       "      <th>6569</th>\n",
       "      <td>0.869565</td>\n",
       "      <td>0.433099</td>\n",
       "      <td>0.846939</td>\n",
       "      <td>0.445946</td>\n",
       "      <td>0.086426</td>\n",
       "      <td>0.609756</td>\n",
       "      <td>0.000000</td>\n",
       "      <td>0.000000</td>\n",
       "      <td>0.000000</td>\n",
       "      <td>1.0</td>\n",
       "      <td>1.0</td>\n",
       "      <td>Spring</td>\n",
       "    </tr>\n",
       "  </tbody>\n",
       "</table>\n",
       "<p>6570 rows × 12 columns</p>\n",
       "</div>"
      ],
      "text/plain": [
       "          Hour  Temperature(C)  Humidity(%)  Wind speed (m/s)  \\\n",
       "0     1.000000        0.375000     0.846939          0.148649   \n",
       "1     0.608696        0.730634     0.479592          0.310811   \n",
       "2     0.826087        0.183099     0.336735          0.270270   \n",
       "3     0.521739        0.524648     0.989796          0.108108   \n",
       "4     0.173913        0.371479     0.714286          0.108108   \n",
       "...        ...             ...          ...               ...   \n",
       "6565  0.217391        0.621479     0.765306          0.135135   \n",
       "6566  0.826087        0.596831     0.479592          0.135135   \n",
       "6567  0.478261        0.533595     0.581633          0.243243   \n",
       "6568  0.000000        0.454225     0.602041          0.283784   \n",
       "6569  0.869565        0.433099     0.846939          0.445946   \n",
       "\n",
       "      Visibility (10m)  Dew point temperature(C)  Solar Radiation (MJ/m2)  \\\n",
       "0             0.181495                  0.552265                 0.000000   \n",
       "1             0.247585                  0.740418                 0.815341   \n",
       "2             0.942552                  0.174216                 0.000000   \n",
       "3             0.104220                  0.738676                 0.039773   \n",
       "4             0.966446                  0.510453                 0.000000   \n",
       "...                ...                       ...                      ...   \n",
       "6565          0.598373                  0.618467                 0.000000   \n",
       "6566          0.844433                  0.620209                 0.000000   \n",
       "6567          0.462633                  0.817073                 0.855114   \n",
       "6568          0.955262                  0.545296                 0.000000   \n",
       "6569          0.086426                  0.609756                 0.000000   \n",
       "\n",
       "      Rainfall(mm)  Snowfall (cm)  Holiday  Functioning Day Seasons  \n",
       "0         0.000000       0.045455      1.0              1.0  Autumn  \n",
       "1         0.000000       0.000000      1.0              1.0  Spring  \n",
       "2         0.000000       0.000000      1.0              1.0  Winter  \n",
       "3         0.057143       0.000000      1.0              1.0  Spring  \n",
       "4         0.000000       0.000000      1.0              1.0  Autumn  \n",
       "...            ...            ...      ...              ...     ...  \n",
       "6565      0.000000       0.000000      1.0              1.0  Summer  \n",
       "6566      0.000000       0.000000      1.0              1.0  Autumn  \n",
       "6567      0.000000       0.000000      1.0              1.0  Summer  \n",
       "6568      0.000000       0.000000      1.0              1.0  Spring  \n",
       "6569      0.000000       0.000000      1.0              1.0  Spring  \n",
       "\n",
       "[6570 rows x 12 columns]"
      ]
     },
     "execution_count": 29,
     "metadata": {},
     "output_type": "execute_result"
    }
   ],
   "source": [
    "#Printing a few rows\n",
    "X_train_scaled"
   ]
  },
  {
   "cell_type": "code",
   "execution_count": 30,
   "id": "9c63d451",
   "metadata": {},
   "outputs": [
    {
     "data": {
      "image/png": "[encoded data removed]",
      "text/plain": [
       "<Figure size 1152x576 with 1 Axes>"
      ]
     },
     "metadata": {
      "needs_background": "light"
     },
     "output_type": "display_data"
    }
   ],
   "source": [
    "#Checking which number of cluster k is the best one using Elbow method \n",
    "\n",
    "X_kmeans = X_train_scaled.drop(['Seasons','Hour'], axis=1)\n",
    "distortions = []\n",
    "K = range(1,10)\n",
    "for k in K:\n",
    "    kmeanModel = KMeans(n_clusters=k)\n",
    "    kmeanModel.fit(X_kmeans)\n",
    "    distortions.append(kmeanModel.inertia_)\n",
    "plt.figure(figsize=(16,8))\n",
    "plt.plot(K, distortions, 'bx-')\n",
    "plt.xlabel('k')\n",
    "plt.ylabel('Distortion')\n",
    "plt.title('The Elbow Method showing the optimal k')\n",
    "plt.show()\n",
    "#Results show that 6 is the best K"
   ]
  },
  {
   "cell_type": "code",
   "execution_count": 31,
   "id": "f42f5266",
   "metadata": {},
   "outputs": [
    {
     "name": "stdout",
     "output_type": "stream",
     "text": [
      "The cluster  2 \t has the score 0.24872516666013986\n",
      "The cluster  3 \t has the score 0.2721120975061884\n",
      "The cluster  4 \t has the score 0.29656172597320607\n",
      "The cluster  5 \t has the score 0.32058150827654386\n",
      "The cluster  6 \t has the score 0.3379027516650796\n",
      "The cluster  7 \t has the score 0.30341563505372415\n",
      "The cluster  8 \t has the score 0.2593574700777224\n",
      "The cluster  9 \t has the score 0.25869084472019593\n",
      "The cluster  10 \t has the score 0.25377043397942556\n",
      "The cluster  11 \t has the score 0.2528285244321359\n"
     ]
    }
   ],
   "source": [
    "#To make sure 6 is the best K let's try silhouette_score\n",
    "for i in range(2,12):\n",
    "    model_10 = KMeans(n_clusters= i, random_state = 0)\n",
    "\n",
    "    # Train the model\n",
    "    model_10 = model_10.fit_predict(X_kmeans)\n",
    "    score = silhouette_score(X_kmeans, model_10)\n",
    "\n",
    "    print(\"The cluster \",i,\"\\t has the score\", score)\n",
    "#Results show that 6 is the best K"
   ]
  },
  {
   "cell_type": "code",
   "execution_count": 32,
   "id": "6369e495",
   "metadata": {},
   "outputs": [
    {
     "name": "stdout",
     "output_type": "stream",
     "text": [
      "Counter({4: 1747, 0: 1661, 1: 1637, 2: 1029, 3: 302, 5: 194})\n"
     ]
    }
   ],
   "source": [
    "#Initializing clustering\n",
    "#Counter was imported to count the number of instances in each cluster\n",
    "from collections import Counter\n",
    "kmeans = KMeans(n_clusters=6, random_state=0).fit(X_kmeans)\n",
    "print(Counter(kmeans.labels_))"
   ]
  },
  {
   "cell_type": "code",
   "execution_count": 33,
   "id": "06034ca4",
   "metadata": {},
   "outputs": [
    {
     "data": {
      "text/plain": [
       "array([0, 2, 1, ..., 2, 1, 0])"
      ]
     },
     "execution_count": 33,
     "metadata": {},
     "output_type": "execute_result"
    }
   ],
   "source": [
    "#Printing the labels of the data\n",
    "kmeans.labels_"
   ]
  },
  {
   "cell_type": "code",
   "execution_count": 34,
   "id": "c6f9ebab",
   "metadata": {},
   "outputs": [
    {
     "data": {
      "text/plain": [
       "Spring    581\n",
       "Autumn    370\n",
       "Winter    361\n",
       "Summer    296\n",
       "Name: Seasons, dtype: int64"
      ]
     },
     "execution_count": 34,
     "metadata": {},
     "output_type": "execute_result"
    }
   ],
   "source": [
    "#X_train_scaled['Seasons'].iloc[kmeans.labels_ == 0] returned a data frame with all instances receiving label 0 in the KMeans clustering\n",
    "X_train_scaled['Seasons'].iloc[kmeans.labels_ == 0].value_counts()             "
   ]
  },
  {
   "cell_type": "code",
   "execution_count": 35,
   "id": "77404ee7",
   "metadata": {},
   "outputs": [
    {
     "name": "stderr",
     "output_type": "stream",
     "text": [
      "C:\\Users\\prokr\\anaconda3\\lib\\site-packages\\pandas\\core\\indexing.py:1637: SettingWithCopyWarning: \n",
      "A value is trying to be set on a copy of a slice from a DataFrame\n",
      "\n",
      "See the caveats in the documentation: https://pandas.pydata.org/pandas-docs/stable/user_guide/indexing.html#returning-a-view-versus-a-copy\n",
      "  self._setitem_single_block(indexer, value, name)\n"
     ]
    }
   ],
   "source": [
    "#replaced the missing values in the resulting data frame with the most frequent value in the cluster which is Spring\n",
    "X_train_scaled['Seasons'].iloc[kmeans.labels_ == 0]= X_train_scaled['Seasons'].iloc[kmeans.labels_ == 0].fillna('Spring' )"
   ]
  },
  {
   "cell_type": "code",
   "execution_count": 36,
   "id": "7be0e57e",
   "metadata": {},
   "outputs": [
    {
     "data": {
      "text/plain": [
       "0"
      ]
     },
     "execution_count": 36,
     "metadata": {},
     "output_type": "execute_result"
    }
   ],
   "source": [
    "#No null value found\n",
    "X_train_scaled['Seasons'].iloc[kmeans.labels_ == 0].isnull().sum()"
   ]
  },
  {
   "cell_type": "code",
   "execution_count": 37,
   "id": "d3e60199",
   "metadata": {},
   "outputs": [
    {
     "data": {
      "text/plain": [
       "Winter    1052\n",
       "Spring     267\n",
       "Autumn     263\n",
       "Name: Seasons, dtype: int64"
      ]
     },
     "execution_count": 37,
     "metadata": {},
     "output_type": "execute_result"
    }
   ],
   "source": [
    "#X_train_scaled['Seasons'].iloc[kmeans.labels_ == 1] returned a data frame with all instances receiving label 0 in the KMeans clustering\n",
    "X_train_scaled['Seasons'].iloc[kmeans.labels_ == 1].value_counts()               "
   ]
  },
  {
   "cell_type": "code",
   "execution_count": 38,
   "id": "fd11489d",
   "metadata": {},
   "outputs": [],
   "source": [
    "#replaced the missing values in the resulting data frame with the most frequent value in the cluster which is Winter\n",
    "X_train_scaled['Seasons'].iloc[kmeans.labels_ == 1]= X_train_scaled['Seasons'].iloc[kmeans.labels_ == 1].fillna('Winter' )"
   ]
  },
  {
   "cell_type": "code",
   "execution_count": 39,
   "id": "045d2014",
   "metadata": {},
   "outputs": [
    {
     "data": {
      "text/plain": [
       "0"
      ]
     },
     "execution_count": 39,
     "metadata": {},
     "output_type": "execute_result"
    }
   ],
   "source": [
    "#No null value found\n",
    "X_train_scaled['Seasons'].iloc[kmeans.labels_ == 1].isnull().sum()"
   ]
  },
  {
   "cell_type": "code",
   "execution_count": 40,
   "id": "c8cb1995",
   "metadata": {},
   "outputs": [
    {
     "data": {
      "text/plain": [
       "Summer    411\n",
       "Spring    351\n",
       "Autumn    219\n",
       "Winter     15\n",
       "Name: Seasons, dtype: int64"
      ]
     },
     "execution_count": 40,
     "metadata": {},
     "output_type": "execute_result"
    }
   ],
   "source": [
    "#X_train_scaled['Seasons'].iloc[kmeans.labels_ == 2] returned a data frame with all instances receiving label 0 in the KMeans clustering\n",
    "X_train_scaled['Seasons'].iloc[kmeans.labels_ == 2].value_counts()     "
   ]
  },
  {
   "cell_type": "code",
   "execution_count": 41,
   "id": "fe71e59d",
   "metadata": {},
   "outputs": [],
   "source": [
    "#replaced the missing values in the resulting data frame with the most frequent value in the cluster which is Summer\n",
    "X_train_scaled['Seasons'].iloc[kmeans.labels_ == 2]= X_train_scaled['Seasons'].iloc[kmeans.labels_ == 2].fillna('Summer')"
   ]
  },
  {
   "cell_type": "code",
   "execution_count": 42,
   "id": "4e5d353c",
   "metadata": {},
   "outputs": [
    {
     "data": {
      "text/plain": [
       "0"
      ]
     },
     "execution_count": 42,
     "metadata": {},
     "output_type": "execute_result"
    }
   ],
   "source": [
    "#No null value found\n",
    "X_train_scaled['Seasons'].iloc[kmeans.labels_ == 2].isnull().sum()"
   ]
  },
  {
   "cell_type": "code",
   "execution_count": 43,
   "id": "c6cec727",
   "metadata": {},
   "outputs": [
    {
     "data": {
      "text/plain": [
       "Winter    141\n",
       "Autumn     64\n",
       "Spring     51\n",
       "Summer     37\n",
       "Name: Seasons, dtype: int64"
      ]
     },
     "execution_count": 43,
     "metadata": {},
     "output_type": "execute_result"
    }
   ],
   "source": [
    "#X_train_scaled['Seasons'].iloc[kmeans.labels_ == 3] returned a data frame with all instances receiving label 0 in the KMeans clustering\n",
    "X_train_scaled['Seasons'].iloc[kmeans.labels_ == 3].value_counts()"
   ]
  },
  {
   "cell_type": "code",
   "execution_count": 44,
   "id": "81c34cf4",
   "metadata": {},
   "outputs": [],
   "source": [
    "#replaced the missing values in the resulting data frame with the most frequent value in the cluster which is Winter\n",
    "X_train_scaled['Seasons'].iloc[kmeans.labels_ == 3]= X_train_scaled['Seasons'].iloc[kmeans.labels_ == 3].fillna('Winter')"
   ]
  },
  {
   "cell_type": "code",
   "execution_count": 45,
   "id": "5f358517",
   "metadata": {},
   "outputs": [
    {
     "data": {
      "text/plain": [
       "0"
      ]
     },
     "execution_count": 45,
     "metadata": {},
     "output_type": "execute_result"
    }
   ],
   "source": [
    "#No null value found\n",
    "X_train_scaled['Seasons'].iloc[kmeans.labels_ == 3].isnull().sum()"
   ]
  },
  {
   "cell_type": "code",
   "execution_count": 46,
   "id": "501ceeee",
   "metadata": {},
   "outputs": [
    {
     "data": {
      "text/plain": [
       "Summer    849\n",
       "Autumn    513\n",
       "Spring    325\n",
       "Winter      7\n",
       "Name: Seasons, dtype: int64"
      ]
     },
     "execution_count": 46,
     "metadata": {},
     "output_type": "execute_result"
    }
   ],
   "source": [
    "#X_train_scaled['Seasons'].iloc[kmeans.labels_ == 4] returned a data frame with all instances receiving label 0 in the KMeans clustering\n",
    "X_train_scaled['Seasons'].iloc[kmeans.labels_ == 4].value_counts()"
   ]
  },
  {
   "cell_type": "code",
   "execution_count": 47,
   "id": "484db710",
   "metadata": {},
   "outputs": [],
   "source": [
    "#replaced the missing values in the resulting data frame with the most frequent value in the cluster which is Summer\n",
    "X_train_scaled['Seasons'].iloc[kmeans.labels_ == 4]= X_train_scaled['Seasons'].iloc[kmeans.labels_ == 4].fillna('Summer')"
   ]
  },
  {
   "cell_type": "code",
   "execution_count": 48,
   "id": "23f69af8",
   "metadata": {},
   "outputs": [
    {
     "data": {
      "text/plain": [
       "0"
      ]
     },
     "execution_count": 48,
     "metadata": {},
     "output_type": "execute_result"
    }
   ],
   "source": [
    "#No null value found\n",
    "X_train_scaled['Seasons'].iloc[kmeans.labels_ == 4].isnull().sum()"
   ]
  },
  {
   "cell_type": "code",
   "execution_count": 49,
   "id": "f295d490",
   "metadata": {},
   "outputs": [
    {
     "data": {
      "text/plain": [
       "Autumn    159\n",
       "Spring     29\n",
       "Name: Seasons, dtype: int64"
      ]
     },
     "execution_count": 49,
     "metadata": {},
     "output_type": "execute_result"
    }
   ],
   "source": [
    "#X_train_scaled['Seasons'].iloc[kmeans.labels_ == 5] returned a data frame with all instances receiving label 0 in the KMeans clustering\n",
    "X_train_scaled['Seasons'].iloc[kmeans.labels_ == 5].value_counts()"
   ]
  },
  {
   "cell_type": "code",
   "execution_count": 50,
   "id": "0d8bfb46",
   "metadata": {},
   "outputs": [],
   "source": [
    "#replaced the missing values in the resulting data frame with the most frequent value in the cluster which is Autumn\n",
    "X_train_scaled['Seasons'].iloc[kmeans.labels_ == 5]= X_train_scaled['Seasons'].iloc[kmeans.labels_ == 5].fillna('Autumn')"
   ]
  },
  {
   "cell_type": "code",
   "execution_count": 51,
   "id": "8acea2ff",
   "metadata": {},
   "outputs": [
    {
     "data": {
      "text/plain": [
       "0"
      ]
     },
     "execution_count": 51,
     "metadata": {},
     "output_type": "execute_result"
    }
   ],
   "source": [
    "#No null value found\n",
    "X_train_scaled['Seasons'].iloc[kmeans.labels_ == 5].isnull().sum()"
   ]
  },
  {
   "cell_type": "code",
   "execution_count": 52,
   "id": "552a1d81",
   "metadata": {},
   "outputs": [],
   "source": [
    "#After fixing the missing values transformed this string based column into a numerical column\n",
    "#one-hot-vector for the transformation\n",
    "X_train_scaled = pd.concat([X_train_scaled, pd.get_dummies(X_train_scaled['Seasons'])], axis=1)"
   ]
  },
  {
   "cell_type": "code",
   "execution_count": 53,
   "id": "45436b4e",
   "metadata": {},
   "outputs": [],
   "source": [
    "#Dropping the Categorical Column after applying one hot vector method\n",
    "X_train_scaled=X_train_scaled.drop('Seasons', axis=1)"
   ]
  },
  {
   "cell_type": "markdown",
   "id": "2c7acafa",
   "metadata": {},
   "source": [
    "### Filling missing values for Hour"
   ]
  },
  {
   "cell_type": "code",
   "execution_count": 54,
   "id": "66b4e99d",
   "metadata": {},
   "outputs": [
    {
     "data": {
      "text/html": [
       "<div>\n",
       "<style scoped>\n",
       "    .dataframe tbody tr th:only-of-type {\n",
       "        vertical-align: middle;\n",
       "    }\n",
       "\n",
       "    .dataframe tbody tr th {\n",
       "        vertical-align: top;\n",
       "    }\n",
       "\n",
       "    .dataframe thead th {\n",
       "        text-align: right;\n",
       "    }\n",
       "</style>\n",
       "<table border=\"1\" class=\"dataframe\">\n",
       "  <thead>\n",
       "    <tr style=\"text-align: right;\">\n",
       "      <th></th>\n",
       "      <th>Hour</th>\n",
       "      <th>Temperature(C)</th>\n",
       "      <th>Humidity(%)</th>\n",
       "      <th>Wind speed (m/s)</th>\n",
       "      <th>Visibility (10m)</th>\n",
       "      <th>Dew point temperature(C)</th>\n",
       "      <th>Solar Radiation (MJ/m2)</th>\n",
       "      <th>Rainfall(mm)</th>\n",
       "      <th>Snowfall (cm)</th>\n",
       "      <th>Holiday</th>\n",
       "      <th>Functioning Day</th>\n",
       "      <th>Autumn</th>\n",
       "      <th>Spring</th>\n",
       "      <th>Summer</th>\n",
       "      <th>Winter</th>\n",
       "    </tr>\n",
       "  </thead>\n",
       "  <tbody>\n",
       "    <tr>\n",
       "      <th>0</th>\n",
       "      <td>1.000000</td>\n",
       "      <td>0.375000</td>\n",
       "      <td>0.846939</td>\n",
       "      <td>0.148649</td>\n",
       "      <td>0.181495</td>\n",
       "      <td>0.552265</td>\n",
       "      <td>0.000000</td>\n",
       "      <td>0.000000</td>\n",
       "      <td>0.045455</td>\n",
       "      <td>1.0</td>\n",
       "      <td>1.0</td>\n",
       "      <td>1</td>\n",
       "      <td>0</td>\n",
       "      <td>0</td>\n",
       "      <td>0</td>\n",
       "    </tr>\n",
       "    <tr>\n",
       "      <th>1</th>\n",
       "      <td>0.608696</td>\n",
       "      <td>0.730634</td>\n",
       "      <td>0.479592</td>\n",
       "      <td>0.310811</td>\n",
       "      <td>0.247585</td>\n",
       "      <td>0.740418</td>\n",
       "      <td>0.815341</td>\n",
       "      <td>0.000000</td>\n",
       "      <td>0.000000</td>\n",
       "      <td>1.0</td>\n",
       "      <td>1.0</td>\n",
       "      <td>0</td>\n",
       "      <td>1</td>\n",
       "      <td>0</td>\n",
       "      <td>0</td>\n",
       "    </tr>\n",
       "    <tr>\n",
       "      <th>2</th>\n",
       "      <td>0.826087</td>\n",
       "      <td>0.183099</td>\n",
       "      <td>0.336735</td>\n",
       "      <td>0.270270</td>\n",
       "      <td>0.942552</td>\n",
       "      <td>0.174216</td>\n",
       "      <td>0.000000</td>\n",
       "      <td>0.000000</td>\n",
       "      <td>0.000000</td>\n",
       "      <td>1.0</td>\n",
       "      <td>1.0</td>\n",
       "      <td>0</td>\n",
       "      <td>0</td>\n",
       "      <td>0</td>\n",
       "      <td>1</td>\n",
       "    </tr>\n",
       "    <tr>\n",
       "      <th>3</th>\n",
       "      <td>0.521739</td>\n",
       "      <td>0.524648</td>\n",
       "      <td>0.989796</td>\n",
       "      <td>0.108108</td>\n",
       "      <td>0.104220</td>\n",
       "      <td>0.738676</td>\n",
       "      <td>0.039773</td>\n",
       "      <td>0.057143</td>\n",
       "      <td>0.000000</td>\n",
       "      <td>1.0</td>\n",
       "      <td>1.0</td>\n",
       "      <td>0</td>\n",
       "      <td>1</td>\n",
       "      <td>0</td>\n",
       "      <td>0</td>\n",
       "    </tr>\n",
       "    <tr>\n",
       "      <th>4</th>\n",
       "      <td>0.173913</td>\n",
       "      <td>0.371479</td>\n",
       "      <td>0.714286</td>\n",
       "      <td>0.108108</td>\n",
       "      <td>0.966446</td>\n",
       "      <td>0.510453</td>\n",
       "      <td>0.000000</td>\n",
       "      <td>0.000000</td>\n",
       "      <td>0.000000</td>\n",
       "      <td>1.0</td>\n",
       "      <td>1.0</td>\n",
       "      <td>1</td>\n",
       "      <td>0</td>\n",
       "      <td>0</td>\n",
       "      <td>0</td>\n",
       "    </tr>\n",
       "    <tr>\n",
       "      <th>...</th>\n",
       "      <td>...</td>\n",
       "      <td>...</td>\n",
       "      <td>...</td>\n",
       "      <td>...</td>\n",
       "      <td>...</td>\n",
       "      <td>...</td>\n",
       "      <td>...</td>\n",
       "      <td>...</td>\n",
       "      <td>...</td>\n",
       "      <td>...</td>\n",
       "      <td>...</td>\n",
       "      <td>...</td>\n",
       "      <td>...</td>\n",
       "      <td>...</td>\n",
       "      <td>...</td>\n",
       "    </tr>\n",
       "    <tr>\n",
       "      <th>6565</th>\n",
       "      <td>0.217391</td>\n",
       "      <td>0.621479</td>\n",
       "      <td>0.765306</td>\n",
       "      <td>0.135135</td>\n",
       "      <td>0.598373</td>\n",
       "      <td>0.618467</td>\n",
       "      <td>0.000000</td>\n",
       "      <td>0.000000</td>\n",
       "      <td>0.000000</td>\n",
       "      <td>1.0</td>\n",
       "      <td>1.0</td>\n",
       "      <td>0</td>\n",
       "      <td>0</td>\n",
       "      <td>1</td>\n",
       "      <td>0</td>\n",
       "    </tr>\n",
       "    <tr>\n",
       "      <th>6566</th>\n",
       "      <td>0.826087</td>\n",
       "      <td>0.596831</td>\n",
       "      <td>0.479592</td>\n",
       "      <td>0.135135</td>\n",
       "      <td>0.844433</td>\n",
       "      <td>0.620209</td>\n",
       "      <td>0.000000</td>\n",
       "      <td>0.000000</td>\n",
       "      <td>0.000000</td>\n",
       "      <td>1.0</td>\n",
       "      <td>1.0</td>\n",
       "      <td>1</td>\n",
       "      <td>0</td>\n",
       "      <td>0</td>\n",
       "      <td>0</td>\n",
       "    </tr>\n",
       "    <tr>\n",
       "      <th>6567</th>\n",
       "      <td>0.478261</td>\n",
       "      <td>0.533595</td>\n",
       "      <td>0.581633</td>\n",
       "      <td>0.243243</td>\n",
       "      <td>0.462633</td>\n",
       "      <td>0.817073</td>\n",
       "      <td>0.855114</td>\n",
       "      <td>0.000000</td>\n",
       "      <td>0.000000</td>\n",
       "      <td>1.0</td>\n",
       "      <td>1.0</td>\n",
       "      <td>0</td>\n",
       "      <td>0</td>\n",
       "      <td>1</td>\n",
       "      <td>0</td>\n",
       "    </tr>\n",
       "    <tr>\n",
       "      <th>6568</th>\n",
       "      <td>0.000000</td>\n",
       "      <td>0.454225</td>\n",
       "      <td>0.602041</td>\n",
       "      <td>0.283784</td>\n",
       "      <td>0.955262</td>\n",
       "      <td>0.545296</td>\n",
       "      <td>0.000000</td>\n",
       "      <td>0.000000</td>\n",
       "      <td>0.000000</td>\n",
       "      <td>1.0</td>\n",
       "      <td>1.0</td>\n",
       "      <td>0</td>\n",
       "      <td>1</td>\n",
       "      <td>0</td>\n",
       "      <td>0</td>\n",
       "    </tr>\n",
       "    <tr>\n",
       "      <th>6569</th>\n",
       "      <td>0.869565</td>\n",
       "      <td>0.433099</td>\n",
       "      <td>0.846939</td>\n",
       "      <td>0.445946</td>\n",
       "      <td>0.086426</td>\n",
       "      <td>0.609756</td>\n",
       "      <td>0.000000</td>\n",
       "      <td>0.000000</td>\n",
       "      <td>0.000000</td>\n",
       "      <td>1.0</td>\n",
       "      <td>1.0</td>\n",
       "      <td>0</td>\n",
       "      <td>1</td>\n",
       "      <td>0</td>\n",
       "      <td>0</td>\n",
       "    </tr>\n",
       "  </tbody>\n",
       "</table>\n",
       "<p>6570 rows × 15 columns</p>\n",
       "</div>"
      ],
      "text/plain": [
       "          Hour  Temperature(C)  Humidity(%)  Wind speed (m/s)  \\\n",
       "0     1.000000        0.375000     0.846939          0.148649   \n",
       "1     0.608696        0.730634     0.479592          0.310811   \n",
       "2     0.826087        0.183099     0.336735          0.270270   \n",
       "3     0.521739        0.524648     0.989796          0.108108   \n",
       "4     0.173913        0.371479     0.714286          0.108108   \n",
       "...        ...             ...          ...               ...   \n",
       "6565  0.217391        0.621479     0.765306          0.135135   \n",
       "6566  0.826087        0.596831     0.479592          0.135135   \n",
       "6567  0.478261        0.533595     0.581633          0.243243   \n",
       "6568  0.000000        0.454225     0.602041          0.283784   \n",
       "6569  0.869565        0.433099     0.846939          0.445946   \n",
       "\n",
       "      Visibility (10m)  Dew point temperature(C)  Solar Radiation (MJ/m2)  \\\n",
       "0             0.181495                  0.552265                 0.000000   \n",
       "1             0.247585                  0.740418                 0.815341   \n",
       "2             0.942552                  0.174216                 0.000000   \n",
       "3             0.104220                  0.738676                 0.039773   \n",
       "4             0.966446                  0.510453                 0.000000   \n",
       "...                ...                       ...                      ...   \n",
       "6565          0.598373                  0.618467                 0.000000   \n",
       "6566          0.844433                  0.620209                 0.000000   \n",
       "6567          0.462633                  0.817073                 0.855114   \n",
       "6568          0.955262                  0.545296                 0.000000   \n",
       "6569          0.086426                  0.609756                 0.000000   \n",
       "\n",
       "      Rainfall(mm)  Snowfall (cm)  Holiday  Functioning Day  Autumn  Spring  \\\n",
       "0         0.000000       0.045455      1.0              1.0       1       0   \n",
       "1         0.000000       0.000000      1.0              1.0       0       1   \n",
       "2         0.000000       0.000000      1.0              1.0       0       0   \n",
       "3         0.057143       0.000000      1.0              1.0       0       1   \n",
       "4         0.000000       0.000000      1.0              1.0       1       0   \n",
       "...            ...            ...      ...              ...     ...     ...   \n",
       "6565      0.000000       0.000000      1.0              1.0       0       0   \n",
       "6566      0.000000       0.000000      1.0              1.0       1       0   \n",
       "6567      0.000000       0.000000      1.0              1.0       0       0   \n",
       "6568      0.000000       0.000000      1.0              1.0       0       1   \n",
       "6569      0.000000       0.000000      1.0              1.0       0       1   \n",
       "\n",
       "      Summer  Winter  \n",
       "0          0       0  \n",
       "1          0       0  \n",
       "2          0       1  \n",
       "3          0       0  \n",
       "4          0       0  \n",
       "...      ...     ...  \n",
       "6565       1       0  \n",
       "6566       0       0  \n",
       "6567       1       0  \n",
       "6568       0       0  \n",
       "6569       0       0  \n",
       "\n",
       "[6570 rows x 15 columns]"
      ]
     },
     "execution_count": 54,
     "metadata": {},
     "output_type": "execute_result"
    }
   ],
   "source": [
    "#Just Checking the training dataset after \"Seasons\" transformation\n",
    "X_train_scaled"
   ]
  },
  {
   "cell_type": "code",
   "execution_count": 55,
   "id": "cdb33446",
   "metadata": {},
   "outputs": [],
   "source": [
    "#Now it's time to fill the missing values of Hour column\n",
    "X_kmeans = X_train_scaled.drop(['Hour'], axis=1)"
   ]
  },
  {
   "cell_type": "code",
   "execution_count": 56,
   "id": "d848aeda",
   "metadata": {},
   "outputs": [
    {
     "data": {
      "text/html": [
       "<div>\n",
       "<style scoped>\n",
       "    .dataframe tbody tr th:only-of-type {\n",
       "        vertical-align: middle;\n",
       "    }\n",
       "\n",
       "    .dataframe tbody tr th {\n",
       "        vertical-align: top;\n",
       "    }\n",
       "\n",
       "    .dataframe thead th {\n",
       "        text-align: right;\n",
       "    }\n",
       "</style>\n",
       "<table border=\"1\" class=\"dataframe\">\n",
       "  <thead>\n",
       "    <tr style=\"text-align: right;\">\n",
       "      <th></th>\n",
       "      <th>Temperature(C)</th>\n",
       "      <th>Humidity(%)</th>\n",
       "      <th>Wind speed (m/s)</th>\n",
       "      <th>Visibility (10m)</th>\n",
       "      <th>Dew point temperature(C)</th>\n",
       "      <th>Solar Radiation (MJ/m2)</th>\n",
       "      <th>Rainfall(mm)</th>\n",
       "      <th>Snowfall (cm)</th>\n",
       "      <th>Holiday</th>\n",
       "      <th>Functioning Day</th>\n",
       "      <th>Autumn</th>\n",
       "      <th>Spring</th>\n",
       "      <th>Summer</th>\n",
       "      <th>Winter</th>\n",
       "    </tr>\n",
       "  </thead>\n",
       "  <tbody>\n",
       "    <tr>\n",
       "      <th>0</th>\n",
       "      <td>0.375000</td>\n",
       "      <td>0.846939</td>\n",
       "      <td>0.148649</td>\n",
       "      <td>0.181495</td>\n",
       "      <td>0.552265</td>\n",
       "      <td>0.000000</td>\n",
       "      <td>0.000000</td>\n",
       "      <td>0.045455</td>\n",
       "      <td>1.0</td>\n",
       "      <td>1.0</td>\n",
       "      <td>1</td>\n",
       "      <td>0</td>\n",
       "      <td>0</td>\n",
       "      <td>0</td>\n",
       "    </tr>\n",
       "    <tr>\n",
       "      <th>1</th>\n",
       "      <td>0.730634</td>\n",
       "      <td>0.479592</td>\n",
       "      <td>0.310811</td>\n",
       "      <td>0.247585</td>\n",
       "      <td>0.740418</td>\n",
       "      <td>0.815341</td>\n",
       "      <td>0.000000</td>\n",
       "      <td>0.000000</td>\n",
       "      <td>1.0</td>\n",
       "      <td>1.0</td>\n",
       "      <td>0</td>\n",
       "      <td>1</td>\n",
       "      <td>0</td>\n",
       "      <td>0</td>\n",
       "    </tr>\n",
       "    <tr>\n",
       "      <th>2</th>\n",
       "      <td>0.183099</td>\n",
       "      <td>0.336735</td>\n",
       "      <td>0.270270</td>\n",
       "      <td>0.942552</td>\n",
       "      <td>0.174216</td>\n",
       "      <td>0.000000</td>\n",
       "      <td>0.000000</td>\n",
       "      <td>0.000000</td>\n",
       "      <td>1.0</td>\n",
       "      <td>1.0</td>\n",
       "      <td>0</td>\n",
       "      <td>0</td>\n",
       "      <td>0</td>\n",
       "      <td>1</td>\n",
       "    </tr>\n",
       "    <tr>\n",
       "      <th>3</th>\n",
       "      <td>0.524648</td>\n",
       "      <td>0.989796</td>\n",
       "      <td>0.108108</td>\n",
       "      <td>0.104220</td>\n",
       "      <td>0.738676</td>\n",
       "      <td>0.039773</td>\n",
       "      <td>0.057143</td>\n",
       "      <td>0.000000</td>\n",
       "      <td>1.0</td>\n",
       "      <td>1.0</td>\n",
       "      <td>0</td>\n",
       "      <td>1</td>\n",
       "      <td>0</td>\n",
       "      <td>0</td>\n",
       "    </tr>\n",
       "    <tr>\n",
       "      <th>4</th>\n",
       "      <td>0.371479</td>\n",
       "      <td>0.714286</td>\n",
       "      <td>0.108108</td>\n",
       "      <td>0.966446</td>\n",
       "      <td>0.510453</td>\n",
       "      <td>0.000000</td>\n",
       "      <td>0.000000</td>\n",
       "      <td>0.000000</td>\n",
       "      <td>1.0</td>\n",
       "      <td>1.0</td>\n",
       "      <td>1</td>\n",
       "      <td>0</td>\n",
       "      <td>0</td>\n",
       "      <td>0</td>\n",
       "    </tr>\n",
       "    <tr>\n",
       "      <th>...</th>\n",
       "      <td>...</td>\n",
       "      <td>...</td>\n",
       "      <td>...</td>\n",
       "      <td>...</td>\n",
       "      <td>...</td>\n",
       "      <td>...</td>\n",
       "      <td>...</td>\n",
       "      <td>...</td>\n",
       "      <td>...</td>\n",
       "      <td>...</td>\n",
       "      <td>...</td>\n",
       "      <td>...</td>\n",
       "      <td>...</td>\n",
       "      <td>...</td>\n",
       "    </tr>\n",
       "    <tr>\n",
       "      <th>6565</th>\n",
       "      <td>0.621479</td>\n",
       "      <td>0.765306</td>\n",
       "      <td>0.135135</td>\n",
       "      <td>0.598373</td>\n",
       "      <td>0.618467</td>\n",
       "      <td>0.000000</td>\n",
       "      <td>0.000000</td>\n",
       "      <td>0.000000</td>\n",
       "      <td>1.0</td>\n",
       "      <td>1.0</td>\n",
       "      <td>0</td>\n",
       "      <td>0</td>\n",
       "      <td>1</td>\n",
       "      <td>0</td>\n",
       "    </tr>\n",
       "    <tr>\n",
       "      <th>6566</th>\n",
       "      <td>0.596831</td>\n",
       "      <td>0.479592</td>\n",
       "      <td>0.135135</td>\n",
       "      <td>0.844433</td>\n",
       "      <td>0.620209</td>\n",
       "      <td>0.000000</td>\n",
       "      <td>0.000000</td>\n",
       "      <td>0.000000</td>\n",
       "      <td>1.0</td>\n",
       "      <td>1.0</td>\n",
       "      <td>1</td>\n",
       "      <td>0</td>\n",
       "      <td>0</td>\n",
       "      <td>0</td>\n",
       "    </tr>\n",
       "    <tr>\n",
       "      <th>6567</th>\n",
       "      <td>0.533595</td>\n",
       "      <td>0.581633</td>\n",
       "      <td>0.243243</td>\n",
       "      <td>0.462633</td>\n",
       "      <td>0.817073</td>\n",
       "      <td>0.855114</td>\n",
       "      <td>0.000000</td>\n",
       "      <td>0.000000</td>\n",
       "      <td>1.0</td>\n",
       "      <td>1.0</td>\n",
       "      <td>0</td>\n",
       "      <td>0</td>\n",
       "      <td>1</td>\n",
       "      <td>0</td>\n",
       "    </tr>\n",
       "    <tr>\n",
       "      <th>6568</th>\n",
       "      <td>0.454225</td>\n",
       "      <td>0.602041</td>\n",
       "      <td>0.283784</td>\n",
       "      <td>0.955262</td>\n",
       "      <td>0.545296</td>\n",
       "      <td>0.000000</td>\n",
       "      <td>0.000000</td>\n",
       "      <td>0.000000</td>\n",
       "      <td>1.0</td>\n",
       "      <td>1.0</td>\n",
       "      <td>0</td>\n",
       "      <td>1</td>\n",
       "      <td>0</td>\n",
       "      <td>0</td>\n",
       "    </tr>\n",
       "    <tr>\n",
       "      <th>6569</th>\n",
       "      <td>0.433099</td>\n",
       "      <td>0.846939</td>\n",
       "      <td>0.445946</td>\n",
       "      <td>0.086426</td>\n",
       "      <td>0.609756</td>\n",
       "      <td>0.000000</td>\n",
       "      <td>0.000000</td>\n",
       "      <td>0.000000</td>\n",
       "      <td>1.0</td>\n",
       "      <td>1.0</td>\n",
       "      <td>0</td>\n",
       "      <td>1</td>\n",
       "      <td>0</td>\n",
       "      <td>0</td>\n",
       "    </tr>\n",
       "  </tbody>\n",
       "</table>\n",
       "<p>6570 rows × 14 columns</p>\n",
       "</div>"
      ],
      "text/plain": [
       "      Temperature(C)  Humidity(%)  Wind speed (m/s)  Visibility (10m)  \\\n",
       "0           0.375000     0.846939          0.148649          0.181495   \n",
       "1           0.730634     0.479592          0.310811          0.247585   \n",
       "2           0.183099     0.336735          0.270270          0.942552   \n",
       "3           0.524648     0.989796          0.108108          0.104220   \n",
       "4           0.371479     0.714286          0.108108          0.966446   \n",
       "...              ...          ...               ...               ...   \n",
       "6565        0.621479     0.765306          0.135135          0.598373   \n",
       "6566        0.596831     0.479592          0.135135          0.844433   \n",
       "6567        0.533595     0.581633          0.243243          0.462633   \n",
       "6568        0.454225     0.602041          0.283784          0.955262   \n",
       "6569        0.433099     0.846939          0.445946          0.086426   \n",
       "\n",
       "      Dew point temperature(C)  Solar Radiation (MJ/m2)  Rainfall(mm)  \\\n",
       "0                     0.552265                 0.000000      0.000000   \n",
       "1                     0.740418                 0.815341      0.000000   \n",
       "2                     0.174216                 0.000000      0.000000   \n",
       "3                     0.738676                 0.039773      0.057143   \n",
       "4                     0.510453                 0.000000      0.000000   \n",
       "...                        ...                      ...           ...   \n",
       "6565                  0.618467                 0.000000      0.000000   \n",
       "6566                  0.620209                 0.000000      0.000000   \n",
       "6567                  0.817073                 0.855114      0.000000   \n",
       "6568                  0.545296                 0.000000      0.000000   \n",
       "6569                  0.609756                 0.000000      0.000000   \n",
       "\n",
       "      Snowfall (cm)  Holiday  Functioning Day  Autumn  Spring  Summer  Winter  \n",
       "0          0.045455      1.0              1.0       1       0       0       0  \n",
       "1          0.000000      1.0              1.0       0       1       0       0  \n",
       "2          0.000000      1.0              1.0       0       0       0       1  \n",
       "3          0.000000      1.0              1.0       0       1       0       0  \n",
       "4          0.000000      1.0              1.0       1       0       0       0  \n",
       "...             ...      ...              ...     ...     ...     ...     ...  \n",
       "6565       0.000000      1.0              1.0       0       0       1       0  \n",
       "6566       0.000000      1.0              1.0       1       0       0       0  \n",
       "6567       0.000000      1.0              1.0       0       0       1       0  \n",
       "6568       0.000000      1.0              1.0       0       1       0       0  \n",
       "6569       0.000000      1.0              1.0       0       1       0       0  \n",
       "\n",
       "[6570 rows x 14 columns]"
      ]
     },
     "execution_count": 56,
     "metadata": {},
     "output_type": "execute_result"
    }
   ],
   "source": [
    "#Just checking\n",
    "X_kmeans"
   ]
  },
  {
   "cell_type": "code",
   "execution_count": 57,
   "id": "404de971",
   "metadata": {},
   "outputs": [
    {
     "data": {
      "image/png": "[encoded data removed]",
      "text/plain": [
       "<Figure size 1152x576 with 1 Axes>"
      ]
     },
     "metadata": {
      "needs_background": "light"
     },
     "output_type": "display_data"
    }
   ],
   "source": [
    "#Checking which number of cluster k is the best one using Elbow method \n",
    "distortions = []\n",
    "K = range(1,10)\n",
    "for k in K:\n",
    "    kmeanModel = KMeans(n_clusters=k)\n",
    "    kmeanModel.fit(X_kmeans)\n",
    "    distortions.append(kmeanModel.inertia_)\n",
    "plt.figure(figsize=(16,8))\n",
    "plt.plot(K, distortions, 'bx-')\n",
    "plt.xlabel('k')\n",
    "plt.ylabel('Distortion')\n",
    "plt.title('The Elbow Method showing the optimal k')\n",
    "plt.show()\n",
    "#Results shows that 4 clusters is the best one"
   ]
  },
  {
   "cell_type": "code",
   "execution_count": 58,
   "id": "0cc85488",
   "metadata": {},
   "outputs": [
    {
     "name": "stdout",
     "output_type": "stream",
     "text": [
      "The cluster  2 \t has the score 0.31162710123007753\n",
      "The cluster  3 \t has the score 0.43340174041069524\n",
      "The cluster  4 \t has the score 0.5667871661982433\n",
      "The cluster  5 \t has the score 0.5044549821722181\n",
      "The cluster  6 \t has the score 0.4596243185699534\n",
      "The cluster  7 \t has the score 0.4469513576424662\n",
      "The cluster  8 \t has the score 0.38591343946513157\n",
      "The cluster  9 \t has the score 0.35225772526431687\n",
      "The cluster  10 \t has the score 0.3570950239146717\n",
      "The cluster  11 \t has the score 0.3709664344415596\n"
     ]
    }
   ],
   "source": [
    "#Also applying silhouette_score just to make sure to select the most optimal number of clusters in K-means clustering \n",
    "for i in range(2,12):\n",
    "    model_10 = KMeans(n_clusters= i, random_state = 0)\n",
    "\n",
    "    # Train the model\n",
    "    model_10 = model_10.fit_predict(X_kmeans)\n",
    "    score = silhouette_score(X_kmeans, model_10)\n",
    "\n",
    "    print(\"The cluster \",i,\"\\t has the score\", score)\n",
    "#Silhouette_score also shows 4 clusters is the best choice  "
   ]
  },
  {
   "cell_type": "code",
   "execution_count": 59,
   "id": "8487ffbd",
   "metadata": {},
   "outputs": [
    {
     "name": "stdout",
     "output_type": "stream",
     "text": [
      "Counter({2: 1679, 3: 1657, 1: 1640, 0: 1594})\n"
     ]
    }
   ],
   "source": [
    "#Let's see how many observations each cluster has\n",
    "#can see that Cluster 2 has highest number of observations \n",
    "kmeans = KMeans(n_clusters=4, random_state=0).fit(X_kmeans)\n",
    "print(Counter(kmeans.labels_))\n",
    "#There is no huge gap between the number of observations in each cluster which represents a good sign "
   ]
  },
  {
   "cell_type": "code",
   "execution_count": 60,
   "id": "04723aa2",
   "metadata": {},
   "outputs": [
    {
     "data": {
      "text/plain": [
       "0    0.304348\n",
       "dtype: float64"
      ]
     },
     "execution_count": 60,
     "metadata": {},
     "output_type": "execute_result"
    }
   ],
   "source": [
    "#Looking for the most frequent value in \"Hour\" in cluster 0\n",
    "X_train_scaled['Hour'].iloc[kmeans.labels_ == 0].mode()               "
   ]
  },
  {
   "cell_type": "code",
   "execution_count": 61,
   "id": "5a6969ea",
   "metadata": {},
   "outputs": [
    {
     "name": "stderr",
     "output_type": "stream",
     "text": [
      "C:\\Users\\prokr\\anaconda3\\lib\\site-packages\\pandas\\core\\indexing.py:1637: SettingWithCopyWarning: \n",
      "A value is trying to be set on a copy of a slice from a DataFrame\n",
      "\n",
      "See the caveats in the documentation: https://pandas.pydata.org/pandas-docs/stable/user_guide/indexing.html#returning-a-view-versus-a-copy\n",
      "  self._setitem_single_block(indexer, value, name)\n"
     ]
    }
   ],
   "source": [
    "#Filling the missing values in \"Hour\" with the most frequent value in cluster 0\n",
    "\n",
    "X_train_scaled['Hour'].iloc[kmeans.labels_ == 0]= X_train_scaled['Hour'].iloc[kmeans.labels_ == 0].fillna(0.304348)"
   ]
  },
  {
   "cell_type": "code",
   "execution_count": 62,
   "id": "fa7e1309",
   "metadata": {},
   "outputs": [
    {
     "data": {
      "text/plain": [
       "0"
      ]
     },
     "execution_count": 62,
     "metadata": {},
     "output_type": "execute_result"
    }
   ],
   "source": [
    "#Checking if missing values have been filled\n",
    "X_train_scaled['Hour'].iloc[kmeans.labels_ == 0].isnull().sum()"
   ]
  },
  {
   "cell_type": "code",
   "execution_count": 63,
   "id": "194d43f1",
   "metadata": {},
   "outputs": [
    {
     "data": {
      "text/plain": [
       "0    0.000000\n",
       "1    0.913043\n",
       "dtype: float64"
      ]
     },
     "execution_count": 63,
     "metadata": {},
     "output_type": "execute_result"
    }
   ],
   "source": [
    "#Looking for the most frequent value in \"Hour\" in cluster 1\n",
    "#Here we have 2 values. First I tried to fill the missing values with the first value\"0.000000\", \n",
    "#but I noticed that R2 socre dropped\n",
    "#So I chose to fill it with the larger value \"0.913043\" \n",
    "X_train_scaled['Hour'].iloc[kmeans.labels_ == 1].mode()  "
   ]
  },
  {
   "cell_type": "code",
   "execution_count": 64,
   "id": "bfa289c3",
   "metadata": {},
   "outputs": [],
   "source": [
    "#Filling the missing values in \"Hour\" based on the larger value of the most frequent values in cluster 1\n",
    "\n",
    "X_train_scaled['Hour'].iloc[kmeans.labels_ == 1] = X_train_scaled['Hour'].iloc[kmeans.labels_ == 1].fillna(0.913043) "
   ]
  },
  {
   "cell_type": "code",
   "execution_count": 65,
   "id": "af7ea59a",
   "metadata": {},
   "outputs": [
    {
     "data": {
      "text/plain": [
       "0"
      ]
     },
     "execution_count": 65,
     "metadata": {},
     "output_type": "execute_result"
    }
   ],
   "source": [
    "#Checking if missing values have been filled\n",
    "X_train_scaled['Hour'].iloc[kmeans.labels_ == 1].isnull().sum()"
   ]
  },
  {
   "cell_type": "code",
   "execution_count": 66,
   "id": "95e26d48",
   "metadata": {},
   "outputs": [
    {
     "data": {
      "text/plain": [
       "0    0.608696\n",
       "dtype: float64"
      ]
     },
     "execution_count": 66,
     "metadata": {},
     "output_type": "execute_result"
    }
   ],
   "source": [
    "#Looking for the most frequent value in \"Hour\" in cluster 2\n",
    "\n",
    "X_train_scaled['Hour'].iloc[kmeans.labels_ == 2].mode()"
   ]
  },
  {
   "cell_type": "code",
   "execution_count": 67,
   "id": "22d85b83",
   "metadata": {},
   "outputs": [],
   "source": [
    "#Filling the missing values in \"Hour\" based on the larger value of most frequent in cluster 2\n",
    "\n",
    "X_train_scaled['Hour'].iloc[kmeans.labels_ == 2] = X_train_scaled['Hour'].iloc[kmeans.labels_ == 2].fillna(0.608696) "
   ]
  },
  {
   "cell_type": "code",
   "execution_count": 68,
   "id": "98272706",
   "metadata": {},
   "outputs": [
    {
     "data": {
      "text/plain": [
       "0"
      ]
     },
     "execution_count": 68,
     "metadata": {},
     "output_type": "execute_result"
    }
   ],
   "source": [
    "#Checking if missing values have been filled\n",
    "X_train_scaled['Hour'].iloc[kmeans.labels_ == 2].isnull().sum()"
   ]
  },
  {
   "cell_type": "code",
   "execution_count": 69,
   "id": "a32f7e00",
   "metadata": {},
   "outputs": [
    {
     "data": {
      "text/plain": [
       "0    0.130435\n",
       "1    0.478261\n",
       "dtype: float64"
      ]
     },
     "execution_count": 69,
     "metadata": {},
     "output_type": "execute_result"
    }
   ],
   "source": [
    "#Looking for the most frequent value in \"Hour\" in cluster 3\n",
    "X_train_scaled['Hour'].iloc[kmeans.labels_ == 3].mode()"
   ]
  },
  {
   "cell_type": "code",
   "execution_count": 70,
   "id": "23c93355",
   "metadata": {},
   "outputs": [],
   "source": [
    "#Filling the missing values in \"Hour\" based on the larger value of most frequent in cluster 3\n",
    "X_train_scaled['Hour'].iloc[kmeans.labels_ == 3] = X_train_scaled['Hour'].iloc[kmeans.labels_ == 3].fillna(0.478261) "
   ]
  },
  {
   "cell_type": "code",
   "execution_count": 71,
   "id": "39df02dc",
   "metadata": {},
   "outputs": [
    {
     "data": {
      "text/plain": [
       "0"
      ]
     },
     "execution_count": 71,
     "metadata": {},
     "output_type": "execute_result"
    }
   ],
   "source": [
    "#Checking if missing values have been filled\n",
    "X_train_scaled['Hour'].iloc[kmeans.labels_ == 3].isnull().sum()"
   ]
  },
  {
   "cell_type": "markdown",
   "id": "83093aa6",
   "metadata": {},
   "source": [
    "### Test Preprocessing"
   ]
  },
  {
   "cell_type": "markdown",
   "id": "5e9d0521",
   "metadata": {},
   "source": [
    "#### Now apply preprocessing on the testing dataset"
   ]
  },
  {
   "cell_type": "code",
   "execution_count": 72,
   "id": "6cf8cdd7",
   "metadata": {},
   "outputs": [
    {
     "name": "stderr",
     "output_type": "stream",
     "text": [
      "<ipython-input-72-ebe192328655>:2: UserWarning: Boolean Series key will be reindexed to match DataFrame index.\n",
      "  df_RTS[df_RTr.duplicated() == True].count()\n"
     ]
    },
    {
     "data": {
      "text/plain": [
       "Hour                        0\n",
       "Temperature(C)              0\n",
       "Humidity(%)                 0\n",
       "Wind speed (m/s)            0\n",
       "Visibility (10m)            0\n",
       "Dew point temperature(C)    0\n",
       "Solar Radiation (MJ/m2)     0\n",
       "Rainfall(mm)                0\n",
       "Snowfall (cm)               0\n",
       "Seasons                     0\n",
       "Holiday                     0\n",
       "Functioning Day             0\n",
       "dtype: int64"
      ]
     },
     "execution_count": 72,
     "metadata": {},
     "output_type": "execute_result"
    }
   ],
   "source": [
    "#Checking if there are any duplicated values\n",
    "df_RTS[df_RTr.duplicated() == True].count()"
   ]
  },
  {
   "cell_type": "code",
   "execution_count": 73,
   "id": "c231372c",
   "metadata": {},
   "outputs": [
    {
     "data": {
      "text/plain": [
       "Hour                        61\n",
       "Temperature(C)              61\n",
       "Humidity(%)                 67\n",
       "Wind speed (m/s)            91\n",
       "Visibility (10m)            81\n",
       "Dew point temperature(C)    62\n",
       "Solar Radiation (MJ/m2)     56\n",
       "Rainfall(mm)                76\n",
       "Snowfall (cm)               44\n",
       "Seasons                     60\n",
       "Holiday                     67\n",
       "Functioning Day             76\n",
       "dtype: int64"
      ]
     },
     "execution_count": 73,
     "metadata": {},
     "output_type": "execute_result"
    }
   ],
   "source": [
    "#Checking for nulls \n",
    "df_RTS.isnull().sum()"
   ]
  },
  {
   "cell_type": "code",
   "execution_count": 74,
   "id": "438195d8",
   "metadata": {},
   "outputs": [
    {
     "data": {
      "text/plain": [
       "No Holiday    2025\n",
       "Holiday         98\n",
       "Name: Holiday, dtype: int64"
      ]
     },
     "execution_count": 74,
     "metadata": {},
     "output_type": "execute_result"
    }
   ],
   "source": [
    "#Needs to be visualized to determine the best filling method, but first the column needs to be transfomed into a numerical one\n",
    "df_RTS['Holiday'].value_counts()"
   ]
  },
  {
   "cell_type": "code",
   "execution_count": 75,
   "id": "4dac3614",
   "metadata": {},
   "outputs": [],
   "source": [
    "#Because it's binary : Most frequent 1 and the other 0\n",
    "df_RTS['Holiday'] = df_RTS['Holiday'].replace('No Holiday', 1)\n",
    "df_RTS['Holiday'] = df_RTS['Holiday'].replace('Holiday', 0)"
   ]
  },
  {
   "cell_type": "code",
   "execution_count": 76,
   "id": "0ced7946",
   "metadata": {},
   "outputs": [
    {
     "data": {
      "text/plain": [
       "<AxesSubplot:ylabel='Density'>"
      ]
     },
     "execution_count": 76,
     "metadata": {},
     "output_type": "execute_result"
    },
    {
     "data": {
      "image/png": "[encoded data removed]",
      "text/plain": [
       "<Figure size 432x288 with 1 Axes>"
      ]
     },
     "metadata": {
      "needs_background": "light"
     },
     "output_type": "display_data"
    }
   ],
   "source": [
    "#Visualization of \"Holiday\"\n",
    "df_RTS['Holiday'].plot(kind='kde')"
   ]
  },
  {
   "cell_type": "code",
   "execution_count": 77,
   "id": "3ed87c2e",
   "metadata": {},
   "outputs": [],
   "source": [
    "#As it's right skewed replaced the missing values of this column with the median\n",
    "df_RTS['Holiday']=df_RTS['Holiday'].fillna(df_RTS['Holiday'].median())"
   ]
  },
  {
   "cell_type": "code",
   "execution_count": 78,
   "id": "6dcb0048",
   "metadata": {},
   "outputs": [
    {
     "data": {
      "text/plain": [
       "Yes    2027\n",
       "No       87\n",
       "Name: Functioning Day, dtype: int64"
      ]
     },
     "execution_count": 78,
     "metadata": {},
     "output_type": "execute_result"
    }
   ],
   "source": [
    "#Because it's binary : Most frequent 1 and the other 0\n",
    "df_RTS['Functioning Day'].value_counts()"
   ]
  },
  {
   "cell_type": "code",
   "execution_count": 79,
   "id": "aebad526",
   "metadata": {},
   "outputs": [
    {
     "data": {
      "image/png": "[encoded data removed]",
      "text/plain": [
       "<Figure size 432x288 with 1 Axes>"
      ]
     },
     "metadata": {
      "needs_background": "light"
     },
     "output_type": "display_data"
    }
   ],
   "source": [
    "#Replacing and filling with median because it's right skewed\n",
    "df_RTS['Functioning Day'] = df_RTS['Functioning Day'].replace('Yes', 1)\n",
    "df_RTS['Functioning Day'] = df_RTS['Functioning Day'].replace('No', 0)\n",
    "df_RTS['Functioning Day'].plot(kind='kde')\n",
    "df_RTS['Functioning Day']=df_RTS['Functioning Day'].fillna(df_RTS['Functioning Day'].median())"
   ]
  },
  {
   "cell_type": "code",
   "execution_count": 80,
   "id": "71c45c80",
   "metadata": {},
   "outputs": [
    {
     "data": {
      "text/plain": [
       "<AxesSubplot:ylabel='Density'>"
      ]
     },
     "execution_count": 80,
     "metadata": {},
     "output_type": "execute_result"
    },
    {
     "data": {
      "image/png": "[encoded data removed]",
      "text/plain": [
       "<Figure size 432x288 with 1 Axes>"
      ]
     },
     "metadata": {
      "needs_background": "light"
     },
     "output_type": "display_data"
    }
   ],
   "source": [
    "#Plotting the Hour column distribution to decide how to replace the missing values\n",
    "#This distribution is neither normal nor skewed\n",
    "#So, chose clustering to replace the missing values which will be seen below\n",
    "df_RTS['Hour'].plot(kind='kde')"
   ]
  },
  {
   "cell_type": "code",
   "execution_count": 81,
   "id": "897ac797",
   "metadata": {},
   "outputs": [
    {
     "data": {
      "image/png": "[encoded data removed]",
      "text/plain": [
       "<Figure size 432x288 with 1 Axes>"
      ]
     },
     "metadata": {
      "needs_background": "light"
     },
     "output_type": "display_data"
    }
   ],
   "source": [
    "#Based on the distribution filling with the mean is a good choice \n",
    "df_RTS['Temperature(C)'].plot(kind='kde')\n",
    "df_RTS['Temperature(C)']=df_RTS['Temperature(C)'].fillna(df_RTS['Temperature(C)'].mean())"
   ]
  },
  {
   "cell_type": "code",
   "execution_count": 82,
   "id": "5ec140fd",
   "metadata": {},
   "outputs": [
    {
     "data": {
      "image/png": "[encoded data removed]",
      "text/plain": [
       "<Figure size 432x288 with 1 Axes>"
      ]
     },
     "metadata": {
      "needs_background": "light"
     },
     "output_type": "display_data"
    }
   ],
   "source": [
    "#Based on the distribution filling with the mean is a good choice \n",
    "df_RTS['Humidity(%)'].plot(kind='kde')\n",
    "df_RTS['Humidity(%)']=df_RTS['Humidity(%)'].fillna(df_RTS['Humidity(%)'].mean())"
   ]
  },
  {
   "cell_type": "code",
   "execution_count": 83,
   "id": "db98ff48",
   "metadata": {},
   "outputs": [
    {
     "data": {
      "image/png": "[encoded data removed]",
      "text/plain": [
       "<Figure size 432x288 with 1 Axes>"
      ]
     },
     "metadata": {
      "needs_background": "light"
     },
     "output_type": "display_data"
    }
   ],
   "source": [
    "#Skewed to the left, filling with Median \n",
    "df_RTS['Wind speed (m/s)'].plot(kind='kde')\n",
    "df_RTS['Wind speed (m/s)']=df_RTS['Wind speed (m/s)'].fillna(df_RTS['Wind speed (m/s)'].median())"
   ]
  },
  {
   "cell_type": "code",
   "execution_count": 84,
   "id": "45033c1b",
   "metadata": {},
   "outputs": [
    {
     "data": {
      "image/png": "[encoded data removed]",
      "text/plain": [
       "<Figure size 432x288 with 1 Axes>"
      ]
     },
     "metadata": {
      "needs_background": "light"
     },
     "output_type": "display_data"
    }
   ],
   "source": [
    "#Skewed to the right , filling with Median\n",
    "df_RTS['Visibility (10m)'].plot(kind='kde')\n",
    "df_RTS['Visibility (10m)']=df_RTS['Visibility (10m)'].fillna(df_RTS['Visibility (10m)'].median())"
   ]
  },
  {
   "cell_type": "code",
   "execution_count": 85,
   "id": "33d25ae2",
   "metadata": {},
   "outputs": [
    {
     "data": {
      "image/png": "[encoded data removed]",
      "text/plain": [
       "<Figure size 432x288 with 1 Axes>"
      ]
     },
     "metadata": {
      "needs_background": "light"
     },
     "output_type": "display_data"
    }
   ],
   "source": [
    "#Based on the distribution filling with the \"Mean\" is a good choice \n",
    "df_RTS['Dew point temperature(C)'].plot(kind='kde')\n",
    "df_RTS['Dew point temperature(C)']=df_RTS['Dew point temperature(C)'].fillna(df_RTS['Dew point temperature(C)'].mean())"
   ]
  },
  {
   "cell_type": "code",
   "execution_count": 86,
   "id": "cade6dce",
   "metadata": {},
   "outputs": [
    {
     "data": {
      "image/png": "[encoded data removed]",
      "text/plain": [
       "<Figure size 432x288 with 1 Axes>"
      ]
     },
     "metadata": {
      "needs_background": "light"
     },
     "output_type": "display_data"
    }
   ],
   "source": [
    "#It's skewed to the left, so it will be filled with \"Median\"\n",
    "df_RTS['Solar Radiation (MJ/m2)'].plot(kind='kde')\n",
    "df_RTS['Solar Radiation (MJ/m2)']=df_RTS['Solar Radiation (MJ/m2)'].fillna(df_RTS['Solar Radiation (MJ/m2)'].median())"
   ]
  },
  {
   "cell_type": "code",
   "execution_count": 87,
   "id": "67c4f170",
   "metadata": {},
   "outputs": [
    {
     "data": {
      "image/png": "[encoded data removed]",
      "text/plain": [
       "<Figure size 432x288 with 1 Axes>"
      ]
     },
     "metadata": {
      "needs_background": "light"
     },
     "output_type": "display_data"
    }
   ],
   "source": [
    "#It's skewed to the left, so it will be filled with \"Median\"\n",
    "df_RTS['Rainfall(mm)'].plot(kind='kde')\n",
    "df_RTS['Rainfall(mm)']= df_RTS['Rainfall(mm)'].fillna(df_RTS['Rainfall(mm)'].median())"
   ]
  },
  {
   "cell_type": "code",
   "execution_count": 88,
   "id": "c34b29a8",
   "metadata": {},
   "outputs": [
    {
     "data": {
      "image/png": "[encoded data removed]",
      "text/plain": [
       "<Figure size 432x288 with 1 Axes>"
      ]
     },
     "metadata": {
      "needs_background": "light"
     },
     "output_type": "display_data"
    }
   ],
   "source": [
    "#It's skewed to left, so it will be filled with \"Median\"\n",
    "df_RTS['Snowfall (cm)'].plot(kind='kde')\n",
    "df_RTS['Snowfall (cm)']= df_RTS['Snowfall (cm)'].fillna(df_RTS['Snowfall (cm)'].median())"
   ]
  },
  {
   "cell_type": "code",
   "execution_count": 89,
   "id": "fa88086c",
   "metadata": {},
   "outputs": [
    {
     "data": {
      "text/plain": [
       "Hour                        61\n",
       "Temperature(C)               0\n",
       "Humidity(%)                  0\n",
       "Wind speed (m/s)             0\n",
       "Visibility (10m)             0\n",
       "Dew point temperature(C)     0\n",
       "Solar Radiation (MJ/m2)      0\n",
       "Rainfall(mm)                 0\n",
       "Snowfall (cm)                0\n",
       "Seasons                     60\n",
       "Holiday                      0\n",
       "Functioning Day              0\n",
       "dtype: int64"
      ]
     },
     "execution_count": 89,
     "metadata": {},
     "output_type": "execute_result"
    }
   ],
   "source": [
    "#Checking which columns still have missing values\n",
    "df_RTS.isnull().sum()\n",
    "#Hour & Seasons still have nulls                "
   ]
  },
  {
   "cell_type": "code",
   "execution_count": 90,
   "id": "1d8fb249",
   "metadata": {},
   "outputs": [],
   "source": [
    "#Before building K-Means, scaling is an important step since K-Means model methods based on measures of how far apart the data points are\n",
    "#Dropping \"Seasons\"  since it's categorical\n",
    "X_test = df_RTS.drop('Seasons', axis =1)"
   ]
  },
  {
   "cell_type": "code",
   "execution_count": 91,
   "id": "a58e69aa",
   "metadata": {},
   "outputs": [],
   "source": [
    "#Scaling the data using MinMaxScaler\n",
    "X_test_scaled = pd.DataFrame(scaler.fit_transform(X_test),columns= X_test.columns)"
   ]
  },
  {
   "cell_type": "code",
   "execution_count": 92,
   "id": "d136b257",
   "metadata": {},
   "outputs": [],
   "source": [
    "#Adding Seasons again in the dataframe, so that K-means can be applied\n",
    "X_test_scaled['Seasons']= df_RTS['Seasons']"
   ]
  },
  {
   "cell_type": "code",
   "execution_count": 93,
   "id": "44da5c31",
   "metadata": {},
   "outputs": [
    {
     "data": {
      "text/html": [
       "<div>\n",
       "<style scoped>\n",
       "    .dataframe tbody tr th:only-of-type {\n",
       "        vertical-align: middle;\n",
       "    }\n",
       "\n",
       "    .dataframe tbody tr th {\n",
       "        vertical-align: top;\n",
       "    }\n",
       "\n",
       "    .dataframe thead th {\n",
       "        text-align: right;\n",
       "    }\n",
       "</style>\n",
       "<table border=\"1\" class=\"dataframe\">\n",
       "  <thead>\n",
       "    <tr style=\"text-align: right;\">\n",
       "      <th></th>\n",
       "      <th>Hour</th>\n",
       "      <th>Temperature(C)</th>\n",
       "      <th>Humidity(%)</th>\n",
       "      <th>Wind speed (m/s)</th>\n",
       "      <th>Visibility (10m)</th>\n",
       "      <th>Dew point temperature(C)</th>\n",
       "      <th>Solar Radiation (MJ/m2)</th>\n",
       "      <th>Rainfall(mm)</th>\n",
       "      <th>Snowfall (cm)</th>\n",
       "      <th>Holiday</th>\n",
       "      <th>Functioning Day</th>\n",
       "      <th>Seasons</th>\n",
       "    </tr>\n",
       "  </thead>\n",
       "  <tbody>\n",
       "    <tr>\n",
       "      <th>0</th>\n",
       "      <td>0.130435</td>\n",
       "      <td>0.498252</td>\n",
       "      <td>0.744898</td>\n",
       "      <td>0.188406</td>\n",
       "      <td>1.000000</td>\n",
       "      <td>0.620751</td>\n",
       "      <td>0.000000</td>\n",
       "      <td>0.0</td>\n",
       "      <td>0.000000</td>\n",
       "      <td>1.0</td>\n",
       "      <td>1.0</td>\n",
       "      <td>Spring</td>\n",
       "    </tr>\n",
       "    <tr>\n",
       "      <th>1</th>\n",
       "      <td>0.086957</td>\n",
       "      <td>0.690559</td>\n",
       "      <td>0.795918</td>\n",
       "      <td>0.144928</td>\n",
       "      <td>1.000000</td>\n",
       "      <td>0.828265</td>\n",
       "      <td>0.000000</td>\n",
       "      <td>0.0</td>\n",
       "      <td>0.000000</td>\n",
       "      <td>1.0</td>\n",
       "      <td>1.0</td>\n",
       "      <td>Autumn</td>\n",
       "    </tr>\n",
       "    <tr>\n",
       "      <th>2</th>\n",
       "      <td>0.739130</td>\n",
       "      <td>0.374126</td>\n",
       "      <td>0.663265</td>\n",
       "      <td>0.217391</td>\n",
       "      <td>0.524075</td>\n",
       "      <td>0.472272</td>\n",
       "      <td>0.008721</td>\n",
       "      <td>0.0</td>\n",
       "      <td>0.056338</td>\n",
       "      <td>1.0</td>\n",
       "      <td>1.0</td>\n",
       "      <td>Winter</td>\n",
       "    </tr>\n",
       "    <tr>\n",
       "      <th>3</th>\n",
       "      <td>0.956522</td>\n",
       "      <td>0.141608</td>\n",
       "      <td>0.520408</td>\n",
       "      <td>0.405797</td>\n",
       "      <td>1.000000</td>\n",
       "      <td>0.593452</td>\n",
       "      <td>0.000000</td>\n",
       "      <td>0.0</td>\n",
       "      <td>0.000000</td>\n",
       "      <td>1.0</td>\n",
       "      <td>1.0</td>\n",
       "      <td>Winter</td>\n",
       "    </tr>\n",
       "    <tr>\n",
       "      <th>4</th>\n",
       "      <td>0.652174</td>\n",
       "      <td>0.898601</td>\n",
       "      <td>0.591837</td>\n",
       "      <td>0.521739</td>\n",
       "      <td>0.720223</td>\n",
       "      <td>0.944544</td>\n",
       "      <td>0.575581</td>\n",
       "      <td>0.0</td>\n",
       "      <td>0.000000</td>\n",
       "      <td>1.0</td>\n",
       "      <td>1.0</td>\n",
       "      <td>Summer</td>\n",
       "    </tr>\n",
       "    <tr>\n",
       "      <th>...</th>\n",
       "      <td>...</td>\n",
       "      <td>...</td>\n",
       "      <td>...</td>\n",
       "      <td>...</td>\n",
       "      <td>...</td>\n",
       "      <td>...</td>\n",
       "      <td>...</td>\n",
       "      <td>...</td>\n",
       "      <td>...</td>\n",
       "      <td>...</td>\n",
       "      <td>...</td>\n",
       "      <td>...</td>\n",
       "    </tr>\n",
       "    <tr>\n",
       "      <th>2185</th>\n",
       "      <td>0.826087</td>\n",
       "      <td>0.284965</td>\n",
       "      <td>0.826531</td>\n",
       "      <td>0.260870</td>\n",
       "      <td>0.366954</td>\n",
       "      <td>0.436494</td>\n",
       "      <td>0.000000</td>\n",
       "      <td>0.0</td>\n",
       "      <td>0.309859</td>\n",
       "      <td>1.0</td>\n",
       "      <td>1.0</td>\n",
       "      <td>Winter</td>\n",
       "    </tr>\n",
       "    <tr>\n",
       "      <th>2186</th>\n",
       "      <td>0.173913</td>\n",
       "      <td>0.606643</td>\n",
       "      <td>0.642857</td>\n",
       "      <td>0.144928</td>\n",
       "      <td>1.000000</td>\n",
       "      <td>0.688730</td>\n",
       "      <td>0.000000</td>\n",
       "      <td>0.0</td>\n",
       "      <td>0.000000</td>\n",
       "      <td>1.0</td>\n",
       "      <td>1.0</td>\n",
       "      <td>Summer</td>\n",
       "    </tr>\n",
       "    <tr>\n",
       "      <th>2187</th>\n",
       "      <td>0.608696</td>\n",
       "      <td>0.875874</td>\n",
       "      <td>0.357143</td>\n",
       "      <td>0.260870</td>\n",
       "      <td>0.484034</td>\n",
       "      <td>0.778175</td>\n",
       "      <td>0.787791</td>\n",
       "      <td>0.0</td>\n",
       "      <td>0.000000</td>\n",
       "      <td>1.0</td>\n",
       "      <td>1.0</td>\n",
       "      <td>Summer</td>\n",
       "    </tr>\n",
       "    <tr>\n",
       "      <th>2188</th>\n",
       "      <td>0.521739</td>\n",
       "      <td>0.554196</td>\n",
       "      <td>0.510204</td>\n",
       "      <td>0.594203</td>\n",
       "      <td>0.981754</td>\n",
       "      <td>0.577818</td>\n",
       "      <td>0.622093</td>\n",
       "      <td>0.0</td>\n",
       "      <td>0.000000</td>\n",
       "      <td>1.0</td>\n",
       "      <td>0.0</td>\n",
       "      <td>Autumn</td>\n",
       "    </tr>\n",
       "    <tr>\n",
       "      <th>2189</th>\n",
       "      <td>0.608696</td>\n",
       "      <td>0.805944</td>\n",
       "      <td>0.438776</td>\n",
       "      <td>0.231884</td>\n",
       "      <td>0.970096</td>\n",
       "      <td>0.772809</td>\n",
       "      <td>0.968023</td>\n",
       "      <td>0.0</td>\n",
       "      <td>0.000000</td>\n",
       "      <td>1.0</td>\n",
       "      <td>1.0</td>\n",
       "      <td>Summer</td>\n",
       "    </tr>\n",
       "  </tbody>\n",
       "</table>\n",
       "<p>2190 rows × 12 columns</p>\n",
       "</div>"
      ],
      "text/plain": [
       "          Hour  Temperature(C)  Humidity(%)  Wind speed (m/s)  \\\n",
       "0     0.130435        0.498252     0.744898          0.188406   \n",
       "1     0.086957        0.690559     0.795918          0.144928   \n",
       "2     0.739130        0.374126     0.663265          0.217391   \n",
       "3     0.956522        0.141608     0.520408          0.405797   \n",
       "4     0.652174        0.898601     0.591837          0.521739   \n",
       "...        ...             ...          ...               ...   \n",
       "2185  0.826087        0.284965     0.826531          0.260870   \n",
       "2186  0.173913        0.606643     0.642857          0.144928   \n",
       "2187  0.608696        0.875874     0.357143          0.260870   \n",
       "2188  0.521739        0.554196     0.510204          0.594203   \n",
       "2189  0.608696        0.805944     0.438776          0.231884   \n",
       "\n",
       "      Visibility (10m)  Dew point temperature(C)  Solar Radiation (MJ/m2)  \\\n",
       "0             1.000000                  0.620751                 0.000000   \n",
       "1             1.000000                  0.828265                 0.000000   \n",
       "2             0.524075                  0.472272                 0.008721   \n",
       "3             1.000000                  0.593452                 0.000000   \n",
       "4             0.720223                  0.944544                 0.575581   \n",
       "...                ...                       ...                      ...   \n",
       "2185          0.366954                  0.436494                 0.000000   \n",
       "2186          1.000000                  0.688730                 0.000000   \n",
       "2187          0.484034                  0.778175                 0.787791   \n",
       "2188          0.981754                  0.577818                 0.622093   \n",
       "2189          0.970096                  0.772809                 0.968023   \n",
       "\n",
       "      Rainfall(mm)  Snowfall (cm)  Holiday  Functioning Day Seasons  \n",
       "0              0.0       0.000000      1.0              1.0  Spring  \n",
       "1              0.0       0.000000      1.0              1.0  Autumn  \n",
       "2              0.0       0.056338      1.0              1.0  Winter  \n",
       "3              0.0       0.000000      1.0              1.0  Winter  \n",
       "4              0.0       0.000000      1.0              1.0  Summer  \n",
       "...            ...            ...      ...              ...     ...  \n",
       "2185           0.0       0.309859      1.0              1.0  Winter  \n",
       "2186           0.0       0.000000      1.0              1.0  Summer  \n",
       "2187           0.0       0.000000      1.0              1.0  Summer  \n",
       "2188           0.0       0.000000      1.0              0.0  Autumn  \n",
       "2189           0.0       0.000000      1.0              1.0  Summer  \n",
       "\n",
       "[2190 rows x 12 columns]"
      ]
     },
     "execution_count": 93,
     "metadata": {},
     "output_type": "execute_result"
    }
   ],
   "source": [
    "#Just Checking\n",
    "X_test_scaled"
   ]
  },
  {
   "cell_type": "code",
   "execution_count": 94,
   "id": "05d40990",
   "metadata": {},
   "outputs": [],
   "source": [
    "#New variable without columns that need to be filled \n",
    "X_kmeans=X_test_scaled.drop(['Seasons','Hour'], axis =1)"
   ]
  },
  {
   "cell_type": "code",
   "execution_count": 95,
   "id": "421dfdc9",
   "metadata": {},
   "outputs": [
    {
     "data": {
      "text/html": [
       "<div>\n",
       "<style scoped>\n",
       "    .dataframe tbody tr th:only-of-type {\n",
       "        vertical-align: middle;\n",
       "    }\n",
       "\n",
       "    .dataframe tbody tr th {\n",
       "        vertical-align: top;\n",
       "    }\n",
       "\n",
       "    .dataframe thead th {\n",
       "        text-align: right;\n",
       "    }\n",
       "</style>\n",
       "<table border=\"1\" class=\"dataframe\">\n",
       "  <thead>\n",
       "    <tr style=\"text-align: right;\">\n",
       "      <th></th>\n",
       "      <th>Temperature(C)</th>\n",
       "      <th>Humidity(%)</th>\n",
       "      <th>Wind speed (m/s)</th>\n",
       "      <th>Visibility (10m)</th>\n",
       "      <th>Dew point temperature(C)</th>\n",
       "      <th>Solar Radiation (MJ/m2)</th>\n",
       "      <th>Rainfall(mm)</th>\n",
       "      <th>Snowfall (cm)</th>\n",
       "      <th>Holiday</th>\n",
       "      <th>Functioning Day</th>\n",
       "    </tr>\n",
       "  </thead>\n",
       "  <tbody>\n",
       "    <tr>\n",
       "      <th>0</th>\n",
       "      <td>0.498252</td>\n",
       "      <td>0.744898</td>\n",
       "      <td>0.188406</td>\n",
       "      <td>1.000000</td>\n",
       "      <td>0.620751</td>\n",
       "      <td>0.000000</td>\n",
       "      <td>0.0</td>\n",
       "      <td>0.000000</td>\n",
       "      <td>1.0</td>\n",
       "      <td>1.0</td>\n",
       "    </tr>\n",
       "    <tr>\n",
       "      <th>1</th>\n",
       "      <td>0.690559</td>\n",
       "      <td>0.795918</td>\n",
       "      <td>0.144928</td>\n",
       "      <td>1.000000</td>\n",
       "      <td>0.828265</td>\n",
       "      <td>0.000000</td>\n",
       "      <td>0.0</td>\n",
       "      <td>0.000000</td>\n",
       "      <td>1.0</td>\n",
       "      <td>1.0</td>\n",
       "    </tr>\n",
       "    <tr>\n",
       "      <th>2</th>\n",
       "      <td>0.374126</td>\n",
       "      <td>0.663265</td>\n",
       "      <td>0.217391</td>\n",
       "      <td>0.524075</td>\n",
       "      <td>0.472272</td>\n",
       "      <td>0.008721</td>\n",
       "      <td>0.0</td>\n",
       "      <td>0.056338</td>\n",
       "      <td>1.0</td>\n",
       "      <td>1.0</td>\n",
       "    </tr>\n",
       "    <tr>\n",
       "      <th>3</th>\n",
       "      <td>0.141608</td>\n",
       "      <td>0.520408</td>\n",
       "      <td>0.405797</td>\n",
       "      <td>1.000000</td>\n",
       "      <td>0.593452</td>\n",
       "      <td>0.000000</td>\n",
       "      <td>0.0</td>\n",
       "      <td>0.000000</td>\n",
       "      <td>1.0</td>\n",
       "      <td>1.0</td>\n",
       "    </tr>\n",
       "    <tr>\n",
       "      <th>4</th>\n",
       "      <td>0.898601</td>\n",
       "      <td>0.591837</td>\n",
       "      <td>0.521739</td>\n",
       "      <td>0.720223</td>\n",
       "      <td>0.944544</td>\n",
       "      <td>0.575581</td>\n",
       "      <td>0.0</td>\n",
       "      <td>0.000000</td>\n",
       "      <td>1.0</td>\n",
       "      <td>1.0</td>\n",
       "    </tr>\n",
       "    <tr>\n",
       "      <th>...</th>\n",
       "      <td>...</td>\n",
       "      <td>...</td>\n",
       "      <td>...</td>\n",
       "      <td>...</td>\n",
       "      <td>...</td>\n",
       "      <td>...</td>\n",
       "      <td>...</td>\n",
       "      <td>...</td>\n",
       "      <td>...</td>\n",
       "      <td>...</td>\n",
       "    </tr>\n",
       "    <tr>\n",
       "      <th>2185</th>\n",
       "      <td>0.284965</td>\n",
       "      <td>0.826531</td>\n",
       "      <td>0.260870</td>\n",
       "      <td>0.366954</td>\n",
       "      <td>0.436494</td>\n",
       "      <td>0.000000</td>\n",
       "      <td>0.0</td>\n",
       "      <td>0.309859</td>\n",
       "      <td>1.0</td>\n",
       "      <td>1.0</td>\n",
       "    </tr>\n",
       "    <tr>\n",
       "      <th>2186</th>\n",
       "      <td>0.606643</td>\n",
       "      <td>0.642857</td>\n",
       "      <td>0.144928</td>\n",
       "      <td>1.000000</td>\n",
       "      <td>0.688730</td>\n",
       "      <td>0.000000</td>\n",
       "      <td>0.0</td>\n",
       "      <td>0.000000</td>\n",
       "      <td>1.0</td>\n",
       "      <td>1.0</td>\n",
       "    </tr>\n",
       "    <tr>\n",
       "      <th>2187</th>\n",
       "      <td>0.875874</td>\n",
       "      <td>0.357143</td>\n",
       "      <td>0.260870</td>\n",
       "      <td>0.484034</td>\n",
       "      <td>0.778175</td>\n",
       "      <td>0.787791</td>\n",
       "      <td>0.0</td>\n",
       "      <td>0.000000</td>\n",
       "      <td>1.0</td>\n",
       "      <td>1.0</td>\n",
       "    </tr>\n",
       "    <tr>\n",
       "      <th>2188</th>\n",
       "      <td>0.554196</td>\n",
       "      <td>0.510204</td>\n",
       "      <td>0.594203</td>\n",
       "      <td>0.981754</td>\n",
       "      <td>0.577818</td>\n",
       "      <td>0.622093</td>\n",
       "      <td>0.0</td>\n",
       "      <td>0.000000</td>\n",
       "      <td>1.0</td>\n",
       "      <td>0.0</td>\n",
       "    </tr>\n",
       "    <tr>\n",
       "      <th>2189</th>\n",
       "      <td>0.805944</td>\n",
       "      <td>0.438776</td>\n",
       "      <td>0.231884</td>\n",
       "      <td>0.970096</td>\n",
       "      <td>0.772809</td>\n",
       "      <td>0.968023</td>\n",
       "      <td>0.0</td>\n",
       "      <td>0.000000</td>\n",
       "      <td>1.0</td>\n",
       "      <td>1.0</td>\n",
       "    </tr>\n",
       "  </tbody>\n",
       "</table>\n",
       "<p>2190 rows × 10 columns</p>\n",
       "</div>"
      ],
      "text/plain": [
       "      Temperature(C)  Humidity(%)  Wind speed (m/s)  Visibility (10m)  \\\n",
       "0           0.498252     0.744898          0.188406          1.000000   \n",
       "1           0.690559     0.795918          0.144928          1.000000   \n",
       "2           0.374126     0.663265          0.217391          0.524075   \n",
       "3           0.141608     0.520408          0.405797          1.000000   \n",
       "4           0.898601     0.591837          0.521739          0.720223   \n",
       "...              ...          ...               ...               ...   \n",
       "2185        0.284965     0.826531          0.260870          0.366954   \n",
       "2186        0.606643     0.642857          0.144928          1.000000   \n",
       "2187        0.875874     0.357143          0.260870          0.484034   \n",
       "2188        0.554196     0.510204          0.594203          0.981754   \n",
       "2189        0.805944     0.438776          0.231884          0.970096   \n",
       "\n",
       "      Dew point temperature(C)  Solar Radiation (MJ/m2)  Rainfall(mm)  \\\n",
       "0                     0.620751                 0.000000           0.0   \n",
       "1                     0.828265                 0.000000           0.0   \n",
       "2                     0.472272                 0.008721           0.0   \n",
       "3                     0.593452                 0.000000           0.0   \n",
       "4                     0.944544                 0.575581           0.0   \n",
       "...                        ...                      ...           ...   \n",
       "2185                  0.436494                 0.000000           0.0   \n",
       "2186                  0.688730                 0.000000           0.0   \n",
       "2187                  0.778175                 0.787791           0.0   \n",
       "2188                  0.577818                 0.622093           0.0   \n",
       "2189                  0.772809                 0.968023           0.0   \n",
       "\n",
       "      Snowfall (cm)  Holiday  Functioning Day  \n",
       "0          0.000000      1.0              1.0  \n",
       "1          0.000000      1.0              1.0  \n",
       "2          0.056338      1.0              1.0  \n",
       "3          0.000000      1.0              1.0  \n",
       "4          0.000000      1.0              1.0  \n",
       "...             ...      ...              ...  \n",
       "2185       0.309859      1.0              1.0  \n",
       "2186       0.000000      1.0              1.0  \n",
       "2187       0.000000      1.0              1.0  \n",
       "2188       0.000000      1.0              0.0  \n",
       "2189       0.000000      1.0              1.0  \n",
       "\n",
       "[2190 rows x 10 columns]"
      ]
     },
     "execution_count": 95,
     "metadata": {},
     "output_type": "execute_result"
    }
   ],
   "source": [
    "#Just Checking\n",
    "X_kmeans"
   ]
  },
  {
   "cell_type": "code",
   "execution_count": 96,
   "id": "be8f086d",
   "metadata": {},
   "outputs": [
    {
     "data": {
      "image/png": "[encoded data removed]",
      "text/plain": [
       "<Figure size 1152x576 with 1 Axes>"
      ]
     },
     "metadata": {
      "needs_background": "light"
     },
     "output_type": "display_data"
    }
   ],
   "source": [
    "#Finding the best K using Elbow method\n",
    "distortions = []\n",
    "K = range(1,10)\n",
    "for k in K:\n",
    "    kmeanModel = KMeans(n_clusters=k)\n",
    "    kmeanModel.fit(X_kmeans)\n",
    "    \n",
    "    distortions.append(kmeanModel.inertia_)\n",
    "plt.figure(figsize=(16,8))\n",
    "plt.plot(K, distortions, 'bx-')\n",
    "plt.xlabel('k')\n",
    "plt.ylabel('Distortion')\n",
    "plt.title('The Elbow Method showing the optimal k')\n",
    "plt.show()\n",
    "#Cluster number 6 is the best choice"
   ]
  },
  {
   "cell_type": "code",
   "execution_count": 97,
   "id": "116731dc",
   "metadata": {},
   "outputs": [
    {
     "name": "stdout",
     "output_type": "stream",
     "text": [
      "The cluster  2 \t has the score 0.24071566319523774\n",
      "The cluster  3 \t has the score 0.2579514241344929\n",
      "The cluster  4 \t has the score 0.27852441981739773\n",
      "The cluster  5 \t has the score 0.3017872177102872\n",
      "The cluster  6 \t has the score 0.3252475874142941\n",
      "The cluster  7 \t has the score 0.2949636264421592\n",
      "The cluster  8 \t has the score 0.25327288588552443\n",
      "The cluster  9 \t has the score 0.2492787919141302\n",
      "The cluster  10 \t has the score 0.2377660776337399\n",
      "The cluster  11 \t has the score 0.23482831508575988\n"
     ]
    }
   ],
   "source": [
    "#Using  silhouette_score to find the best K\n",
    "for i in range(2,12):\n",
    "    model_10 = KMeans(n_clusters= i, random_state = 0)\n",
    "\n",
    "    # Train the model\n",
    "    model_10 = model_10.fit_predict(X_kmeans)\n",
    "    score = silhouette_score(X_kmeans, model_10)\n",
    "\n",
    "    print(\"The cluster \",i,\"\\t has the score\", score)\n",
    "#According to silhouette_score also, 6 clusters is the best choice"
   ]
  },
  {
   "cell_type": "code",
   "execution_count": 98,
   "id": "3a003e52",
   "metadata": {},
   "outputs": [
    {
     "name": "stdout",
     "output_type": "stream",
     "text": [
      "Counter({1: 589, 0: 559, 4: 539, 2: 321, 5: 95, 3: 87})\n"
     ]
    }
   ],
   "source": [
    "#Building KMeans model with 6 Clusters \n",
    "kmeans = KMeans(n_clusters=6, random_state=0).fit(X_kmeans)\n",
    "print(Counter(kmeans.labels_))"
   ]
  },
  {
   "cell_type": "code",
   "execution_count": 99,
   "id": "6204f587",
   "metadata": {},
   "outputs": [
    {
     "data": {
      "text/plain": [
       "Spring    194\n",
       "Summer    129\n",
       "Winter    128\n",
       "Autumn     95\n",
       "Name: Seasons, dtype: int64"
      ]
     },
     "execution_count": 99,
     "metadata": {},
     "output_type": "execute_result"
    }
   ],
   "source": [
    "#Checking value_counts of cluster 0\n",
    "X_test_scaled['Seasons'].iloc[kmeans.labels_ == 0].value_counts()                "
   ]
  },
  {
   "cell_type": "code",
   "execution_count": 100,
   "id": "265f0cf7",
   "metadata": {},
   "outputs": [
    {
     "name": "stderr",
     "output_type": "stream",
     "text": [
      "C:\\Users\\prokr\\anaconda3\\lib\\site-packages\\pandas\\core\\indexing.py:1637: SettingWithCopyWarning: \n",
      "A value is trying to be set on a copy of a slice from a DataFrame\n",
      "\n",
      "See the caveats in the documentation: https://pandas.pydata.org/pandas-docs/stable/user_guide/indexing.html#returning-a-view-versus-a-copy\n",
      "  self._setitem_single_block(indexer, value, name)\n"
     ]
    }
   ],
   "source": [
    "#Filling nulls with the most frequent one\n",
    "X_test_scaled['Seasons'].iloc[kmeans.labels_ == 0]= X_test_scaled['Seasons'].iloc[kmeans.labels_ == 0].fillna('Spring')"
   ]
  },
  {
   "cell_type": "code",
   "execution_count": 101,
   "id": "a7b13cfe",
   "metadata": {},
   "outputs": [
    {
     "data": {
      "text/plain": [
       "Summer    281\n",
       "Autumn    179\n",
       "Spring    116\n",
       "Winter      1\n",
       "Name: Seasons, dtype: int64"
      ]
     },
     "execution_count": 101,
     "metadata": {},
     "output_type": "execute_result"
    }
   ],
   "source": [
    "#Checking value_counts of cluster 1\n",
    "X_test_scaled['Seasons'].iloc[kmeans.labels_ == 1].value_counts()                "
   ]
  },
  {
   "cell_type": "code",
   "execution_count": 102,
   "id": "4461cf4d",
   "metadata": {},
   "outputs": [],
   "source": [
    "#Filling nulls with the most frequent one\n",
    "X_test_scaled['Seasons'].iloc[kmeans.labels_ == 1]= X_test_scaled['Seasons'].iloc[kmeans.labels_ == 1].fillna('Summer')"
   ]
  },
  {
   "cell_type": "code",
   "execution_count": 103,
   "id": "cd03fc9f",
   "metadata": {},
   "outputs": [
    {
     "data": {
      "text/plain": [
       "Summer    138\n",
       "Spring     90\n",
       "Autumn     75\n",
       "Winter      9\n",
       "Name: Seasons, dtype: int64"
      ]
     },
     "execution_count": 103,
     "metadata": {},
     "output_type": "execute_result"
    }
   ],
   "source": [
    "#Checking value_counts of cluster 2\n",
    "X_test_scaled['Seasons'].iloc[kmeans.labels_ == 2].value_counts()                "
   ]
  },
  {
   "cell_type": "code",
   "execution_count": 104,
   "id": "ce21c56d",
   "metadata": {},
   "outputs": [],
   "source": [
    "#Filling nulls with the most frequent one\n",
    "X_test_scaled['Seasons'].iloc[kmeans.labels_ == 2]= X_test_scaled['Seasons'].iloc[kmeans.labels_ == 2].fillna('Summer')"
   ]
  },
  {
   "cell_type": "code",
   "execution_count": 105,
   "id": "c27749b7",
   "metadata": {},
   "outputs": [
    {
     "data": {
      "text/plain": [
       "Autumn    66\n",
       "Spring    17\n",
       "Name: Seasons, dtype: int64"
      ]
     },
     "execution_count": 105,
     "metadata": {},
     "output_type": "execute_result"
    }
   ],
   "source": [
    "#Checking value_counts of cluster 3\n",
    "X_test_scaled['Seasons'].iloc[kmeans.labels_ == 3].value_counts()                "
   ]
  },
  {
   "cell_type": "code",
   "execution_count": 106,
   "id": "04e40975",
   "metadata": {},
   "outputs": [],
   "source": [
    "#Filling nulls with the most frequent one\n",
    "X_test_scaled['Seasons'].iloc[kmeans.labels_ == 3]= X_test_scaled['Seasons'].iloc[kmeans.labels_ == 3].fillna('Autumn')"
   ]
  },
  {
   "cell_type": "code",
   "execution_count": 107,
   "id": "d3e43829",
   "metadata": {},
   "outputs": [
    {
     "data": {
      "text/plain": [
       "Winter    336\n",
       "Spring    101\n",
       "Autumn     83\n",
       "Name: Seasons, dtype: int64"
      ]
     },
     "execution_count": 107,
     "metadata": {},
     "output_type": "execute_result"
    }
   ],
   "source": [
    "#Checking value_counts of cluster 4\n",
    "X_test_scaled['Seasons'].iloc[kmeans.labels_ == 4].value_counts()   "
   ]
  },
  {
   "cell_type": "code",
   "execution_count": 108,
   "id": "694c468b",
   "metadata": {},
   "outputs": [],
   "source": [
    "#Filling nulls with the most frequent one\n",
    "X_test_scaled['Seasons'].iloc[kmeans.labels_ == 4]= X_test_scaled['Seasons'].iloc[kmeans.labels_ == 4].fillna('Winter')"
   ]
  },
  {
   "cell_type": "code",
   "execution_count": 109,
   "id": "58eb965a",
   "metadata": {},
   "outputs": [
    {
     "data": {
      "text/plain": [
       "Winter    40\n",
       "Autumn    26\n",
       "Spring    18\n",
       "Summer     8\n",
       "Name: Seasons, dtype: int64"
      ]
     },
     "execution_count": 109,
     "metadata": {},
     "output_type": "execute_result"
    }
   ],
   "source": [
    "#Checking value_counts of cluster 5\n",
    "X_test_scaled['Seasons'].iloc[kmeans.labels_ == 5].value_counts() "
   ]
  },
  {
   "cell_type": "code",
   "execution_count": 110,
   "id": "27152891",
   "metadata": {},
   "outputs": [],
   "source": [
    "#Filling nulls with the most frequent one\n",
    "X_test_scaled['Seasons'].iloc[kmeans.labels_ == 5]= X_test_scaled['Seasons'].iloc[kmeans.labels_ == 5].fillna('Winter')"
   ]
  },
  {
   "cell_type": "code",
   "execution_count": 111,
   "id": "cc6af013",
   "metadata": {},
   "outputs": [
    {
     "data": {
      "text/plain": [
       "0"
      ]
     },
     "execution_count": 111,
     "metadata": {},
     "output_type": "execute_result"
    }
   ],
   "source": [
    "#Checking if there is any nulls in the entire column\n",
    "X_test_scaled['Seasons'].isnull().sum()"
   ]
  },
  {
   "cell_type": "code",
   "execution_count": 112,
   "id": "a1d85689",
   "metadata": {},
   "outputs": [],
   "source": [
    "#Now transforming the categorical data into normerical using One Hot Vector method\n",
    "X_test_scaled = pd.concat([X_test_scaled, pd.get_dummies(X_test_scaled['Seasons'])], axis=1)"
   ]
  },
  {
   "cell_type": "code",
   "execution_count": 113,
   "id": "3f7c0f75",
   "metadata": {},
   "outputs": [],
   "source": [
    "#Dropping the Seasons column\n",
    "X_test_scaled=X_test_scaled.drop('Seasons', axis=1)"
   ]
  },
  {
   "cell_type": "markdown",
   "id": "47c1f2b9",
   "metadata": {},
   "source": [
    "### Filling missing values for Hour"
   ]
  },
  {
   "cell_type": "code",
   "execution_count": 114,
   "id": "b101fcde",
   "metadata": {},
   "outputs": [],
   "source": [
    "#Dropping the column with missing value first\n",
    "X_kmeans = X_test_scaled.drop(['Hour'], axis=1)"
   ]
  },
  {
   "cell_type": "code",
   "execution_count": 115,
   "id": "77ef8c4c",
   "metadata": {},
   "outputs": [
    {
     "data": {
      "image/png": "[encoded data removed]",
      "text/plain": [
       "<Figure size 1152x576 with 1 Axes>"
      ]
     },
     "metadata": {
      "needs_background": "light"
     },
     "output_type": "display_data"
    }
   ],
   "source": [
    "#Finding best K using Elbow method\n",
    "distortions = []\n",
    "K = range(1,10)\n",
    "for k in K:\n",
    "    kmeanModel = KMeans(n_clusters=k)\n",
    "    kmeanModel.fit(X_kmeans)\n",
    "    distortions.append(kmeanModel.inertia_)\n",
    "plt.figure(figsize=(16,8))\n",
    "plt.plot(K, distortions, 'bx-')\n",
    "plt.xlabel('k')\n",
    "plt.ylabel('Distortion')\n",
    "plt.title('The Elbow Method showing the optimal k')\n",
    "plt.show()\n",
    "#CLuster number 4 is the best choice"
   ]
  },
  {
   "cell_type": "code",
   "execution_count": 116,
   "id": "8079b31d",
   "metadata": {},
   "outputs": [
    {
     "name": "stdout",
     "output_type": "stream",
     "text": [
      "The cluster  2 \t has the score 0.3006954671901457\n",
      "The cluster  3 \t has the score 0.4287766469980061\n",
      "The cluster  4 \t has the score 0.5597401667058821\n",
      "The cluster  5 \t has the score 0.5122696096302075\n",
      "The cluster  6 \t has the score 0.49781872993893606\n",
      "The cluster  7 \t has the score 0.44014248170483417\n",
      "The cluster  8 \t has the score 0.37526359866066195\n",
      "The cluster  9 \t has the score 0.33845148105175765\n",
      "The cluster  10 \t has the score 0.3475003890634842\n",
      "The cluster  11 \t has the score 0.397060745635611\n"
     ]
    }
   ],
   "source": [
    "#Silhouette_score for best K\n",
    "for i in range(2,12):\n",
    "    model_10 = KMeans(n_clusters= i, random_state = 0)\n",
    "\n",
    "    # Train the model\n",
    "    model_10 = model_10.fit_predict(X_kmeans)\n",
    "    score = silhouette_score(X_kmeans, model_10)\n",
    "    print(\"The cluster \",i,\"\\t has the score\", score)\n",
    "#Same result with silhouette_score "
   ]
  },
  {
   "cell_type": "code",
   "execution_count": 117,
   "id": "cb97ca3b",
   "metadata": {},
   "outputs": [
    {
     "name": "stdout",
     "output_type": "stream",
     "text": [
      "Counter({1: 577, 2: 549, 3: 536, 0: 528})\n"
     ]
    }
   ],
   "source": [
    "#Building the model with 4 clusters\n",
    "kmeans = KMeans(n_clusters=4, random_state=0).fit(X_kmeans)\n",
    "print(Counter(kmeans.labels_))"
   ]
  },
  {
   "cell_type": "code",
   "execution_count": 118,
   "id": "4e8dd94a",
   "metadata": {},
   "outputs": [
    {
     "data": {
      "text/plain": [
       "0    0.869565\n",
       "dtype: float64"
      ]
     },
     "execution_count": 118,
     "metadata": {},
     "output_type": "execute_result"
    }
   ],
   "source": [
    "#Finding the most frequent value\n",
    "X_test_scaled['Hour'].iloc[kmeans.labels_ == 0].mode()                "
   ]
  },
  {
   "cell_type": "code",
   "execution_count": 119,
   "id": "ce09261f",
   "metadata": {},
   "outputs": [
    {
     "name": "stderr",
     "output_type": "stream",
     "text": [
      "C:\\Users\\prokr\\anaconda3\\lib\\site-packages\\pandas\\core\\indexing.py:1637: SettingWithCopyWarning: \n",
      "A value is trying to be set on a copy of a slice from a DataFrame\n",
      "\n",
      "See the caveats in the documentation: https://pandas.pydata.org/pandas-docs/stable/user_guide/indexing.html#returning-a-view-versus-a-copy\n",
      "  self._setitem_single_block(indexer, value, name)\n"
     ]
    }
   ],
   "source": [
    "#Filling with the most frequnt one\n",
    "X_test_scaled['Hour'].iloc[kmeans.labels_ == 0]= X_test_scaled['Hour'].iloc[kmeans.labels_ == 0].fillna(0.869565)"
   ]
  },
  {
   "cell_type": "code",
   "execution_count": 120,
   "id": "a2f0f203",
   "metadata": {},
   "outputs": [
    {
     "data": {
      "text/plain": [
       "0"
      ]
     },
     "execution_count": 120,
     "metadata": {},
     "output_type": "execute_result"
    }
   ],
   "source": [
    "#Checking for nulls\n",
    "X_test_scaled['Hour'].iloc[kmeans.labels_ == 0].isnull().sum()"
   ]
  },
  {
   "cell_type": "code",
   "execution_count": 121,
   "id": "abfc39b3",
   "metadata": {},
   "outputs": [
    {
     "data": {
      "text/plain": [
       "0    0.130435\n",
       "1    0.782609\n",
       "dtype: float64"
      ]
     },
     "execution_count": 121,
     "metadata": {},
     "output_type": "execute_result"
    }
   ],
   "source": [
    "#Finding the most frequent value\n",
    "X_test_scaled['Hour'].iloc[kmeans.labels_ == 1].mode()                "
   ]
  },
  {
   "cell_type": "code",
   "execution_count": 122,
   "id": "2a38c259",
   "metadata": {},
   "outputs": [],
   "source": [
    "#Filling with the most frequnt one\n",
    "X_test_scaled['Hour'].iloc[kmeans.labels_ == 1]= X_test_scaled['Hour'].iloc[kmeans.labels_ == 1].fillna(0.782609)"
   ]
  },
  {
   "cell_type": "code",
   "execution_count": 123,
   "id": "2412c10f",
   "metadata": {},
   "outputs": [
    {
     "data": {
      "text/plain": [
       "0"
      ]
     },
     "execution_count": 123,
     "metadata": {},
     "output_type": "execute_result"
    }
   ],
   "source": [
    "#Checking for nulls\n",
    "X_test_scaled['Hour'].iloc[kmeans.labels_ == 1].isnull().sum()"
   ]
  },
  {
   "cell_type": "code",
   "execution_count": 124,
   "id": "9f29d1be",
   "metadata": {},
   "outputs": [
    {
     "data": {
      "text/plain": [
       "0    0.869565\n",
       "dtype: float64"
      ]
     },
     "execution_count": 124,
     "metadata": {},
     "output_type": "execute_result"
    }
   ],
   "source": [
    "#Finding the most frequent value\n",
    "X_test_scaled['Hour'].iloc[kmeans.labels_ == 2].mode()                "
   ]
  },
  {
   "cell_type": "code",
   "execution_count": 125,
   "id": "2ccac6a6",
   "metadata": {},
   "outputs": [],
   "source": [
    "#Filling with the most frequnt one\n",
    "X_test_scaled['Hour'].iloc[kmeans.labels_ == 2]= X_test_scaled['Hour'].iloc[kmeans.labels_ == 2].fillna(0.869565)"
   ]
  },
  {
   "cell_type": "code",
   "execution_count": 126,
   "id": "d4938019",
   "metadata": {},
   "outputs": [
    {
     "data": {
      "text/plain": [
       "0"
      ]
     },
     "execution_count": 126,
     "metadata": {},
     "output_type": "execute_result"
    }
   ],
   "source": [
    "#Checking for nulls\n",
    "X_test_scaled['Hour'].iloc[kmeans.labels_ == 2].isnull().sum()"
   ]
  },
  {
   "cell_type": "code",
   "execution_count": 127,
   "id": "ec4a6e58",
   "metadata": {},
   "outputs": [
    {
     "data": {
      "text/plain": [
       "0    0.565217\n",
       "dtype: float64"
      ]
     },
     "execution_count": 127,
     "metadata": {},
     "output_type": "execute_result"
    }
   ],
   "source": [
    "#Finding the most frequent value\n",
    "X_test_scaled['Hour'].iloc[kmeans.labels_ == 3].mode()                "
   ]
  },
  {
   "cell_type": "code",
   "execution_count": 128,
   "id": "6bc6d1bb",
   "metadata": {},
   "outputs": [],
   "source": [
    "#Filling with the most frequnt one\n",
    "X_test_scaled['Hour'].iloc[kmeans.labels_ == 3]= X_test_scaled['Hour'].iloc[kmeans.labels_ == 3].fillna(0.565217)"
   ]
  },
  {
   "cell_type": "code",
   "execution_count": 129,
   "id": "57798c81",
   "metadata": {},
   "outputs": [
    {
     "data": {
      "text/plain": [
       "0"
      ]
     },
     "execution_count": 129,
     "metadata": {},
     "output_type": "execute_result"
    }
   ],
   "source": [
    "#Checking for nulls\n",
    "X_test_scaled['Hour'].iloc[kmeans.labels_ == 3].isnull().sum()"
   ]
  },
  {
   "cell_type": "markdown",
   "id": "a273169b",
   "metadata": {},
   "source": [
    "### Regression model training"
   ]
  },
  {
   "cell_type": "code",
   "execution_count": 130,
   "id": "ff4fe6c0",
   "metadata": {},
   "outputs": [],
   "source": [
    "# Split the Training data into Validation and Training\n",
    "from sklearn.model_selection import train_test_split\n",
    "Xr_train , Xr_valid , yr_train, yr_valid = train_test_split(X_train_scaled, y, train_size=0.75, random_state = 0)"
   ]
  },
  {
   "cell_type": "code",
   "execution_count": 131,
   "id": "f26ced50",
   "metadata": {},
   "outputs": [
    {
     "data": {
      "text/plain": [
       "LinearRegression()"
      ]
     },
     "execution_count": 131,
     "metadata": {},
     "output_type": "execute_result"
    }
   ],
   "source": [
    "#Building the first model with LinearRegression and training the traing dataset\n",
    "from sklearn.linear_model import LinearRegression\n",
    "model_l = LinearRegression() \n",
    "model_l.fit(Xr_train, yr_train)"
   ]
  },
  {
   "cell_type": "markdown",
   "id": "752ffdc9",
   "metadata": {},
   "source": [
    "### Regression prediction"
   ]
  },
  {
   "cell_type": "code",
   "execution_count": 132,
   "id": "cc01818e",
   "metadata": {},
   "outputs": [],
   "source": [
    "#Predicting the Training datset\n",
    "pred = model_l.predict(Xr_train)"
   ]
  },
  {
   "cell_type": "code",
   "execution_count": 133,
   "id": "51ab155e",
   "metadata": {},
   "outputs": [
    {
     "data": {
      "text/plain": [
       "0.5384531569232388"
      ]
     },
     "execution_count": 133,
     "metadata": {},
     "output_type": "execute_result"
    }
   ],
   "source": [
    "#Checking score of traing \n",
    "#Since R2 squared is the best method to evaluate regression \n",
    "#apply it here \n",
    "from sklearn.metrics import r2_score\n",
    "r2_score(yr_train, pred)\n",
    "#0.538 is not good score "
   ]
  },
  {
   "cell_type": "code",
   "execution_count": 134,
   "id": "55b6f619",
   "metadata": {},
   "outputs": [],
   "source": [
    "#Now predicting the hidden validation data\n",
    "pred_new = model_l.predict(Xr_valid)"
   ]
  },
  {
   "cell_type": "code",
   "execution_count": 135,
   "id": "8564d942",
   "metadata": {},
   "outputs": [
    {
     "data": {
      "text/plain": [
       "0.5143138925205976"
      ]
     },
     "execution_count": 135,
     "metadata": {},
     "output_type": "execute_result"
    }
   ],
   "source": [
    "#Checking the score\n",
    "from sklearn.metrics import r2_score\n",
    "r2_score(yr_valid, pred_new)\n",
    "#No difference between training and validation"
   ]
  },
  {
   "cell_type": "markdown",
   "id": "d28a1e9a",
   "metadata": {},
   "source": [
    "### Predict the new target using Linear Regression"
   ]
  },
  {
   "cell_type": "code",
   "execution_count": 136,
   "id": "36721f40",
   "metadata": {},
   "outputs": [],
   "source": [
    "#Predicting new data\n",
    "pred_new = model_l.predict(X_test_scaled)"
   ]
  },
  {
   "cell_type": "code",
   "execution_count": 137,
   "id": "7b875435",
   "metadata": {},
   "outputs": [
    {
     "data": {
      "text/plain": [
       "array([ 412.,  740.,  416., ..., 1356.,   46., 1178.])"
      ]
     },
     "execution_count": 137,
     "metadata": {},
     "output_type": "execute_result"
    }
   ],
   "source": [
    "#The predicted data\n",
    "pred_new"
   ]
  },
  {
   "cell_type": "markdown",
   "id": "9ae1b3b5",
   "metadata": {},
   "source": [
    "### GridSearchCV"
   ]
  },
  {
   "cell_type": "markdown",
   "id": "eb93694e",
   "metadata": {},
   "source": [
    "### DecisionTreeRegressor"
   ]
  },
  {
   "cell_type": "code",
   "execution_count": 138,
   "id": "4d801daf",
   "metadata": {},
   "outputs": [
    {
     "name": "stdout",
     "output_type": "stream",
     "text": [
      "0.7671482440185365 {'max_depth': 9, 'max_features': 'auto'}\n"
     ]
    }
   ],
   "source": [
    "#GridSearchCV is a library function that is a member of sklearn's model_selection package.\n",
    "#It helps to loop through predefined hyperparameters and fit your estimator (model) on your training set. \n",
    "#So, in the end, you can select the best parameters from the listed hyperparameters\n",
    "from sklearn import tree\n",
    "from sklearn import model_selection\n",
    "from sklearn.model_selection import GridSearchCV\n",
    "\n",
    "\n",
    "parameters = {'max_depth':range(3,20),\"max_features\":[\"auto\",\"log2\",\"sqrt\",None]}\n",
    "clf = GridSearchCV(tree.DecisionTreeRegressor(), parameters, n_jobs=4)\n",
    "clf.fit(X=Xr_train, y=yr_train)\n",
    "tree_model = clf.best_estimator_\n",
    "print (clf.best_score_, clf.best_params_)"
   ]
  },
  {
   "cell_type": "code",
   "execution_count": 139,
   "id": "7b829dd6",
   "metadata": {},
   "outputs": [
    {
     "data": {
      "text/plain": [
       "DecisionTreeRegressor(max_depth=9, max_features='auto')"
      ]
     },
     "execution_count": 139,
     "metadata": {},
     "output_type": "execute_result"
    }
   ],
   "source": [
    "#Based on GridSearchCV best depth is 9 \n",
    "from sklearn.tree import DecisionTreeRegressor\n",
    "regr_2 = DecisionTreeRegressor(max_depth=9,max_features= 'auto')\n",
    "regr_2.fit(Xr_train, yr_train)"
   ]
  },
  {
   "cell_type": "code",
   "execution_count": 140,
   "id": "6f9dc63a",
   "metadata": {},
   "outputs": [],
   "source": [
    "#Let's predict the training data\n",
    "pred = regr_2.predict(Xr_train)"
   ]
  },
  {
   "cell_type": "code",
   "execution_count": 141,
   "id": "36b08cce",
   "metadata": {},
   "outputs": [
    {
     "data": {
      "text/plain": [
       "0.8641157458906517"
      ]
     },
     "execution_count": 141,
     "metadata": {},
     "output_type": "execute_result"
    }
   ],
   "source": [
    "#R squared has increased with DecisionTreeRegressor \"Good\"\n",
    "r2_score(yr_train, pred)"
   ]
  },
  {
   "cell_type": "code",
   "execution_count": 142,
   "id": "909bce27",
   "metadata": {},
   "outputs": [
    {
     "data": {
      "text/plain": [
       "0.7809223542883514"
      ]
     },
     "execution_count": 142,
     "metadata": {},
     "output_type": "execute_result"
    }
   ],
   "source": [
    "#Let's see the validation R squared score\n",
    "pred_new = regr_2.predict(Xr_valid)\n",
    "r2_score(yr_valid, pred_new)\n",
    "#It's also good and there is no big gap between training and validation\n",
    "#DecisionTreeRegressor is better than linear regression to predict this data"
   ]
  },
  {
   "cell_type": "markdown",
   "id": "7f36c591",
   "metadata": {},
   "source": [
    "### Regression prediction using DecisionTreeRegressor"
   ]
  },
  {
   "cell_type": "code",
   "execution_count": 143,
   "id": "69a74812",
   "metadata": {},
   "outputs": [],
   "source": [
    "#Let's predict the new testing data using DecisionTreeRegressor\n",
    "pred_new = regr_2.predict(X_test_scaled)"
   ]
  },
  {
   "cell_type": "code",
   "execution_count": 144,
   "id": "1ae5b462",
   "metadata": {},
   "outputs": [
    {
     "data": {
      "text/plain": [
       "array([ 245.63636364,  523.875     ,  337.86493506, ..., 1014.875     ,\n",
       "          0.        , 1142.83333333])"
      ]
     },
     "execution_count": 144,
     "metadata": {},
     "output_type": "execute_result"
    }
   ],
   "source": [
    "#New predicted data\n",
    "pred_new"
   ]
  },
  {
   "cell_type": "markdown",
   "id": "2317a6ff",
   "metadata": {},
   "source": [
    "__________________________________________________________________________________________________________________________"
   ]
  },
  {
   "cell_type": "markdown",
   "id": "7f265359",
   "metadata": {},
   "source": [
    "# Classification\n",
    "\n",
    "### Data preparation"
   ]
  },
  {
   "cell_type": "code",
   "execution_count": 145,
   "id": "76c8d144",
   "metadata": {},
   "outputs": [],
   "source": [
    "#Importing the csv files\n",
    "df_cl= pd.read_csv(\"train_classification.csv\")\n",
    "df_clt= pd.read_csv(\"test_classification.csv\")"
   ]
  },
  {
   "cell_type": "code",
   "execution_count": 146,
   "id": "36e247aa",
   "metadata": {},
   "outputs": [
    {
     "data": {
      "text/html": [
       "<div>\n",
       "<style scoped>\n",
       "    .dataframe tbody tr th:only-of-type {\n",
       "        vertical-align: middle;\n",
       "    }\n",
       "\n",
       "    .dataframe tbody tr th {\n",
       "        vertical-align: top;\n",
       "    }\n",
       "\n",
       "    .dataframe thead th {\n",
       "        text-align: right;\n",
       "    }\n",
       "</style>\n",
       "<table border=\"1\" class=\"dataframe\">\n",
       "  <thead>\n",
       "    <tr style=\"text-align: right;\">\n",
       "      <th></th>\n",
       "      <th>Age</th>\n",
       "      <th>Sex</th>\n",
       "      <th>ALB</th>\n",
       "      <th>ALP</th>\n",
       "      <th>ALT</th>\n",
       "      <th>AST</th>\n",
       "      <th>BIL</th>\n",
       "      <th>CHE</th>\n",
       "      <th>CHOL</th>\n",
       "      <th>CREA</th>\n",
       "      <th>GGT</th>\n",
       "      <th>PROT</th>\n",
       "      <th>Category</th>\n",
       "    </tr>\n",
       "  </thead>\n",
       "  <tbody>\n",
       "    <tr>\n",
       "      <th>0</th>\n",
       "      <td>39</td>\n",
       "      <td>f</td>\n",
       "      <td>46.4</td>\n",
       "      <td>59.2</td>\n",
       "      <td>14.1</td>\n",
       "      <td>18.9</td>\n",
       "      <td>4.5</td>\n",
       "      <td>7.90</td>\n",
       "      <td>4.55</td>\n",
       "      <td>61.0</td>\n",
       "      <td>14.5</td>\n",
       "      <td>77.3</td>\n",
       "      <td>0=Blood Donor</td>\n",
       "    </tr>\n",
       "    <tr>\n",
       "      <th>1</th>\n",
       "      <td>37</td>\n",
       "      <td>m</td>\n",
       "      <td>46.1</td>\n",
       "      <td>44.3</td>\n",
       "      <td>42.7</td>\n",
       "      <td>26.5</td>\n",
       "      <td>6.4</td>\n",
       "      <td>10.86</td>\n",
       "      <td>5.05</td>\n",
       "      <td>74.0</td>\n",
       "      <td>22.2</td>\n",
       "      <td>73.1</td>\n",
       "      <td>0=Blood Donor</td>\n",
       "    </tr>\n",
       "    <tr>\n",
       "      <th>2</th>\n",
       "      <td>32</td>\n",
       "      <td>m</td>\n",
       "      <td>50.9</td>\n",
       "      <td>65.5</td>\n",
       "      <td>23.2</td>\n",
       "      <td>21.2</td>\n",
       "      <td>6.9</td>\n",
       "      <td>8.69</td>\n",
       "      <td>4.10</td>\n",
       "      <td>83.0</td>\n",
       "      <td>13.7</td>\n",
       "      <td>71.3</td>\n",
       "      <td>0=Blood Donor</td>\n",
       "    </tr>\n",
       "    <tr>\n",
       "      <th>3</th>\n",
       "      <td>46</td>\n",
       "      <td>f</td>\n",
       "      <td>36.7</td>\n",
       "      <td>62.3</td>\n",
       "      <td>10.8</td>\n",
       "      <td>17.4</td>\n",
       "      <td>3.7</td>\n",
       "      <td>6.17</td>\n",
       "      <td>4.07</td>\n",
       "      <td>67.0</td>\n",
       "      <td>15.1</td>\n",
       "      <td>69.0</td>\n",
       "      <td>0=Blood Donor</td>\n",
       "    </tr>\n",
       "    <tr>\n",
       "      <th>4</th>\n",
       "      <td>56</td>\n",
       "      <td>m</td>\n",
       "      <td>23.0</td>\n",
       "      <td>105.6</td>\n",
       "      <td>5.1</td>\n",
       "      <td>123.0</td>\n",
       "      <td>43.0</td>\n",
       "      <td>1.80</td>\n",
       "      <td>2.40</td>\n",
       "      <td>62.7</td>\n",
       "      <td>35.9</td>\n",
       "      <td>62.8</td>\n",
       "      <td>3=Cirrhosis</td>\n",
       "    </tr>\n",
       "    <tr>\n",
       "      <th>...</th>\n",
       "      <td>...</td>\n",
       "      <td>...</td>\n",
       "      <td>...</td>\n",
       "      <td>...</td>\n",
       "      <td>...</td>\n",
       "      <td>...</td>\n",
       "      <td>...</td>\n",
       "      <td>...</td>\n",
       "      <td>...</td>\n",
       "      <td>...</td>\n",
       "      <td>...</td>\n",
       "      <td>...</td>\n",
       "      <td>...</td>\n",
       "    </tr>\n",
       "    <tr>\n",
       "      <th>548</th>\n",
       "      <td>60</td>\n",
       "      <td>m</td>\n",
       "      <td>40.4</td>\n",
       "      <td>46.8</td>\n",
       "      <td>17.7</td>\n",
       "      <td>25.7</td>\n",
       "      <td>13.5</td>\n",
       "      <td>5.79</td>\n",
       "      <td>5.42</td>\n",
       "      <td>92.0</td>\n",
       "      <td>19.2</td>\n",
       "      <td>70.0</td>\n",
       "      <td>0=Blood Donor</td>\n",
       "    </tr>\n",
       "    <tr>\n",
       "      <th>549</th>\n",
       "      <td>32</td>\n",
       "      <td>m</td>\n",
       "      <td>42.4</td>\n",
       "      <td>86.3</td>\n",
       "      <td>20.3</td>\n",
       "      <td>20.0</td>\n",
       "      <td>35.2</td>\n",
       "      <td>5.46</td>\n",
       "      <td>4.45</td>\n",
       "      <td>81.0</td>\n",
       "      <td>15.9</td>\n",
       "      <td>69.9</td>\n",
       "      <td>0=Blood Donor</td>\n",
       "    </tr>\n",
       "    <tr>\n",
       "      <th>550</th>\n",
       "      <td>38</td>\n",
       "      <td>f</td>\n",
       "      <td>40.0</td>\n",
       "      <td>73.5</td>\n",
       "      <td>16.6</td>\n",
       "      <td>19.2</td>\n",
       "      <td>8.3</td>\n",
       "      <td>5.23</td>\n",
       "      <td>5.52</td>\n",
       "      <td>54.0</td>\n",
       "      <td>24.0</td>\n",
       "      <td>71.0</td>\n",
       "      <td>0=Blood Donor</td>\n",
       "    </tr>\n",
       "    <tr>\n",
       "      <th>551</th>\n",
       "      <td>49</td>\n",
       "      <td>m</td>\n",
       "      <td>44.3</td>\n",
       "      <td>84.1</td>\n",
       "      <td>29.0</td>\n",
       "      <td>29.0</td>\n",
       "      <td>16.2</td>\n",
       "      <td>8.18</td>\n",
       "      <td>4.65</td>\n",
       "      <td>87.0</td>\n",
       "      <td>21.9</td>\n",
       "      <td>70.8</td>\n",
       "      <td>0=Blood Donor</td>\n",
       "    </tr>\n",
       "    <tr>\n",
       "      <th>552</th>\n",
       "      <td>58</td>\n",
       "      <td>m</td>\n",
       "      <td>43.0</td>\n",
       "      <td>99.1</td>\n",
       "      <td>12.2</td>\n",
       "      <td>63.2</td>\n",
       "      <td>13.0</td>\n",
       "      <td>5.95</td>\n",
       "      <td>6.15</td>\n",
       "      <td>147.3</td>\n",
       "      <td>491.0</td>\n",
       "      <td>65.6</td>\n",
       "      <td>1=Hepatitis</td>\n",
       "    </tr>\n",
       "  </tbody>\n",
       "</table>\n",
       "<p>553 rows × 13 columns</p>\n",
       "</div>"
      ],
      "text/plain": [
       "     Age Sex   ALB    ALP   ALT    AST   BIL    CHE  CHOL   CREA    GGT  PROT  \\\n",
       "0     39   f  46.4   59.2  14.1   18.9   4.5   7.90  4.55   61.0   14.5  77.3   \n",
       "1     37   m  46.1   44.3  42.7   26.5   6.4  10.86  5.05   74.0   22.2  73.1   \n",
       "2     32   m  50.9   65.5  23.2   21.2   6.9   8.69  4.10   83.0   13.7  71.3   \n",
       "3     46   f  36.7   62.3  10.8   17.4   3.7   6.17  4.07   67.0   15.1  69.0   \n",
       "4     56   m  23.0  105.6   5.1  123.0  43.0   1.80  2.40   62.7   35.9  62.8   \n",
       "..   ...  ..   ...    ...   ...    ...   ...    ...   ...    ...    ...   ...   \n",
       "548   60   m  40.4   46.8  17.7   25.7  13.5   5.79  5.42   92.0   19.2  70.0   \n",
       "549   32   m  42.4   86.3  20.3   20.0  35.2   5.46  4.45   81.0   15.9  69.9   \n",
       "550   38   f  40.0   73.5  16.6   19.2   8.3   5.23  5.52   54.0   24.0  71.0   \n",
       "551   49   m  44.3   84.1  29.0   29.0  16.2   8.18  4.65   87.0   21.9  70.8   \n",
       "552   58   m  43.0   99.1  12.2   63.2  13.0   5.95  6.15  147.3  491.0  65.6   \n",
       "\n",
       "          Category  \n",
       "0    0=Blood Donor  \n",
       "1    0=Blood Donor  \n",
       "2    0=Blood Donor  \n",
       "3    0=Blood Donor  \n",
       "4      3=Cirrhosis  \n",
       "..             ...  \n",
       "548  0=Blood Donor  \n",
       "549  0=Blood Donor  \n",
       "550  0=Blood Donor  \n",
       "551  0=Blood Donor  \n",
       "552    1=Hepatitis  \n",
       "\n",
       "[553 rows x 13 columns]"
      ]
     },
     "execution_count": 146,
     "metadata": {},
     "output_type": "execute_result"
    }
   ],
   "source": [
    "#Exploring the dataset\n",
    "df_cl\n",
    "#There are some categorical values "
   ]
  },
  {
   "cell_type": "code",
   "execution_count": 147,
   "id": "b1f56ebe",
   "metadata": {},
   "outputs": [
    {
     "data": {
      "text/html": [
       "<div>\n",
       "<style scoped>\n",
       "    .dataframe tbody tr th:only-of-type {\n",
       "        vertical-align: middle;\n",
       "    }\n",
       "\n",
       "    .dataframe tbody tr th {\n",
       "        vertical-align: top;\n",
       "    }\n",
       "\n",
       "    .dataframe thead th {\n",
       "        text-align: right;\n",
       "    }\n",
       "</style>\n",
       "<table border=\"1\" class=\"dataframe\">\n",
       "  <thead>\n",
       "    <tr style=\"text-align: right;\">\n",
       "      <th></th>\n",
       "      <th>Age</th>\n",
       "      <th>ALB</th>\n",
       "      <th>ALP</th>\n",
       "      <th>ALT</th>\n",
       "      <th>AST</th>\n",
       "      <th>BIL</th>\n",
       "      <th>CHE</th>\n",
       "      <th>CHOL</th>\n",
       "      <th>CREA</th>\n",
       "      <th>GGT</th>\n",
       "      <th>PROT</th>\n",
       "    </tr>\n",
       "  </thead>\n",
       "  <tbody>\n",
       "    <tr>\n",
       "      <th>count</th>\n",
       "      <td>553.000000</td>\n",
       "      <td>552.000000</td>\n",
       "      <td>536.000000</td>\n",
       "      <td>552.000000</td>\n",
       "      <td>553.000000</td>\n",
       "      <td>553.000000</td>\n",
       "      <td>553.000000</td>\n",
       "      <td>544.000000</td>\n",
       "      <td>553.000000</td>\n",
       "      <td>553.000000</td>\n",
       "      <td>552.000000</td>\n",
       "    </tr>\n",
       "    <tr>\n",
       "      <th>mean</th>\n",
       "      <td>47.459313</td>\n",
       "      <td>41.641123</td>\n",
       "      <td>67.962127</td>\n",
       "      <td>28.574457</td>\n",
       "      <td>34.576492</td>\n",
       "      <td>11.314828</td>\n",
       "      <td>8.170253</td>\n",
       "      <td>5.360809</td>\n",
       "      <td>79.782098</td>\n",
       "      <td>38.938336</td>\n",
       "      <td>71.962500</td>\n",
       "    </tr>\n",
       "    <tr>\n",
       "      <th>std</th>\n",
       "      <td>10.202420</td>\n",
       "      <td>5.843118</td>\n",
       "      <td>26.643695</td>\n",
       "      <td>25.308527</td>\n",
       "      <td>30.292877</td>\n",
       "      <td>18.839697</td>\n",
       "      <td>2.196384</td>\n",
       "      <td>1.123139</td>\n",
       "      <td>30.358409</td>\n",
       "      <td>53.895354</td>\n",
       "      <td>5.506352</td>\n",
       "    </tr>\n",
       "    <tr>\n",
       "      <th>min</th>\n",
       "      <td>19.000000</td>\n",
       "      <td>14.900000</td>\n",
       "      <td>11.300000</td>\n",
       "      <td>0.900000</td>\n",
       "      <td>10.600000</td>\n",
       "      <td>1.800000</td>\n",
       "      <td>1.420000</td>\n",
       "      <td>1.430000</td>\n",
       "      <td>8.000000</td>\n",
       "      <td>4.500000</td>\n",
       "      <td>44.800000</td>\n",
       "    </tr>\n",
       "    <tr>\n",
       "      <th>25%</th>\n",
       "      <td>39.000000</td>\n",
       "      <td>38.875000</td>\n",
       "      <td>52.275000</td>\n",
       "      <td>16.475000</td>\n",
       "      <td>21.700000</td>\n",
       "      <td>5.400000</td>\n",
       "      <td>6.940000</td>\n",
       "      <td>4.617500</td>\n",
       "      <td>67.000000</td>\n",
       "      <td>15.800000</td>\n",
       "      <td>69.200000</td>\n",
       "    </tr>\n",
       "    <tr>\n",
       "      <th>50%</th>\n",
       "      <td>47.000000</td>\n",
       "      <td>42.000000</td>\n",
       "      <td>65.550000</td>\n",
       "      <td>23.000000</td>\n",
       "      <td>26.200000</td>\n",
       "      <td>7.300000</td>\n",
       "      <td>8.180000</td>\n",
       "      <td>5.300000</td>\n",
       "      <td>77.000000</td>\n",
       "      <td>23.300000</td>\n",
       "      <td>72.000000</td>\n",
       "    </tr>\n",
       "    <tr>\n",
       "      <th>75%</th>\n",
       "      <td>55.000000</td>\n",
       "      <td>45.225000</td>\n",
       "      <td>80.125000</td>\n",
       "      <td>33.200000</td>\n",
       "      <td>33.000000</td>\n",
       "      <td>11.500000</td>\n",
       "      <td>9.570000</td>\n",
       "      <td>6.060000</td>\n",
       "      <td>88.000000</td>\n",
       "      <td>40.100000</td>\n",
       "      <td>75.325000</td>\n",
       "    </tr>\n",
       "    <tr>\n",
       "      <th>max</th>\n",
       "      <td>77.000000</td>\n",
       "      <td>82.200000</td>\n",
       "      <td>416.600000</td>\n",
       "      <td>325.300000</td>\n",
       "      <td>319.800000</td>\n",
       "      <td>254.000000</td>\n",
       "      <td>16.410000</td>\n",
       "      <td>9.670000</td>\n",
       "      <td>519.000000</td>\n",
       "      <td>650.900000</td>\n",
       "      <td>90.000000</td>\n",
       "    </tr>\n",
       "  </tbody>\n",
       "</table>\n",
       "</div>"
      ],
      "text/plain": [
       "              Age         ALB         ALP         ALT         AST         BIL  \\\n",
       "count  553.000000  552.000000  536.000000  552.000000  553.000000  553.000000   \n",
       "mean    47.459313   41.641123   67.962127   28.574457   34.576492   11.314828   \n",
       "std     10.202420    5.843118   26.643695   25.308527   30.292877   18.839697   \n",
       "min     19.000000   14.900000   11.300000    0.900000   10.600000    1.800000   \n",
       "25%     39.000000   38.875000   52.275000   16.475000   21.700000    5.400000   \n",
       "50%     47.000000   42.000000   65.550000   23.000000   26.200000    7.300000   \n",
       "75%     55.000000   45.225000   80.125000   33.200000   33.000000   11.500000   \n",
       "max     77.000000   82.200000  416.600000  325.300000  319.800000  254.000000   \n",
       "\n",
       "              CHE        CHOL        CREA         GGT        PROT  \n",
       "count  553.000000  544.000000  553.000000  553.000000  552.000000  \n",
       "mean     8.170253    5.360809   79.782098   38.938336   71.962500  \n",
       "std      2.196384    1.123139   30.358409   53.895354    5.506352  \n",
       "min      1.420000    1.430000    8.000000    4.500000   44.800000  \n",
       "25%      6.940000    4.617500   67.000000   15.800000   69.200000  \n",
       "50%      8.180000    5.300000   77.000000   23.300000   72.000000  \n",
       "75%      9.570000    6.060000   88.000000   40.100000   75.325000  \n",
       "max     16.410000    9.670000  519.000000  650.900000   90.000000  "
      ]
     },
     "execution_count": 147,
     "metadata": {},
     "output_type": "execute_result"
    }
   ],
   "source": [
    "#Exploring\n",
    "df_cl.describe()\n",
    "#No outliers based on max and min"
   ]
  },
  {
   "cell_type": "markdown",
   "id": "01f6431f",
   "metadata": {},
   "source": [
    "##### Start cleaning"
   ]
  },
  {
   "cell_type": "code",
   "execution_count": 148,
   "id": "2d6b8f0c",
   "metadata": {},
   "outputs": [
    {
     "data": {
      "text/plain": [
       "Age         0\n",
       "Sex         0\n",
       "ALB         0\n",
       "ALP         0\n",
       "ALT         0\n",
       "AST         0\n",
       "BIL         0\n",
       "CHE         0\n",
       "CHOL        0\n",
       "CREA        0\n",
       "GGT         0\n",
       "PROT        0\n",
       "Category    0\n",
       "dtype: int64"
      ]
     },
     "execution_count": 148,
     "metadata": {},
     "output_type": "execute_result"
    }
   ],
   "source": [
    "#Checking if there are any duplicated values\n",
    "df_cl[df_cl.duplicated() == True].count()\n",
    "#NO duplicated values !!"
   ]
  },
  {
   "cell_type": "code",
   "execution_count": 149,
   "id": "92f903ab",
   "metadata": {},
   "outputs": [
    {
     "data": {
      "text/plain": [
       "Age          0\n",
       "Sex          0\n",
       "ALB          1\n",
       "ALP         17\n",
       "ALT          1\n",
       "AST          0\n",
       "BIL          0\n",
       "CHE          0\n",
       "CHOL         9\n",
       "CREA         0\n",
       "GGT          0\n",
       "PROT         1\n",
       "Category     0\n",
       "dtype: int64"
      ]
     },
     "execution_count": 149,
     "metadata": {},
     "output_type": "execute_result"
    }
   ],
   "source": [
    "#Checking for nulls\n",
    "df_cl.isnull().sum()"
   ]
  },
  {
   "cell_type": "code",
   "execution_count": 150,
   "id": "35bf5fd2",
   "metadata": {},
   "outputs": [
    {
     "data": {
      "text/plain": [
       "<AxesSubplot:ylabel='Density'>"
      ]
     },
     "execution_count": 150,
     "metadata": {},
     "output_type": "execute_result"
    },
    {
     "data": {
      "image/png": "[encoded data removed]",
      "text/plain": [
       "<Figure size 432x288 with 1 Axes>"
      ]
     },
     "metadata": {
      "needs_background": "light"
     },
     "output_type": "display_data"
    }
   ],
   "source": [
    "#Visualization in order to determine the best filling method for ALB column\n",
    "df_cl['ALB'].plot(kind='kde')"
   ]
  },
  {
   "cell_type": "code",
   "execution_count": 151,
   "id": "8dc0be1e",
   "metadata": {},
   "outputs": [],
   "source": [
    "#Based on the distribution, mean is the best method to fill nulls\n",
    "df_cl['ALB']=df_cl['ALB'].fillna(df_cl['ALB'].mean())"
   ]
  },
  {
   "cell_type": "code",
   "execution_count": 152,
   "id": "d27626d2",
   "metadata": {},
   "outputs": [
    {
     "data": {
      "text/plain": [
       "<AxesSubplot:ylabel='Density'>"
      ]
     },
     "execution_count": 152,
     "metadata": {},
     "output_type": "execute_result"
    },
    {
     "data": {
      "image/png": "[encoded data removed]",
      "text/plain": [
       "<Figure size 432x288 with 1 Axes>"
      ]
     },
     "metadata": {
      "needs_background": "light"
     },
     "output_type": "display_data"
    }
   ],
   "source": [
    "#Visualizing data\n",
    "df_cl['ALP'].plot(kind='kde')"
   ]
  },
  {
   "cell_type": "code",
   "execution_count": 153,
   "id": "1012c7ee",
   "metadata": {},
   "outputs": [],
   "source": [
    "#Based on the distributin, Median is best the method to fill nulls\n",
    "df_cl['ALP']=df_cl['ALP'].fillna(df_cl['ALP'].median())"
   ]
  },
  {
   "cell_type": "code",
   "execution_count": 154,
   "id": "241c49f7",
   "metadata": {},
   "outputs": [
    {
     "data": {
      "text/plain": [
       "<AxesSubplot:ylabel='Density'>"
      ]
     },
     "execution_count": 154,
     "metadata": {},
     "output_type": "execute_result"
    },
    {
     "data": {
      "image/png": "[encoded data removed]",
      "text/plain": [
       "<Figure size 432x288 with 1 Axes>"
      ]
     },
     "metadata": {
      "needs_background": "light"
     },
     "output_type": "display_data"
    }
   ],
   "source": [
    "#Visualization in order to determine the best filling method for ALT column\n",
    "df_cl['ALT'].plot(kind='kde')"
   ]
  },
  {
   "cell_type": "code",
   "execution_count": 155,
   "id": "2336e76d",
   "metadata": {},
   "outputs": [],
   "source": [
    "#Based on the distribution, mean is the best method to fill nulls\n",
    "df_cl['ALT']=df_cl['ALT'].fillna(df_cl['ALT'].median())"
   ]
  },
  {
   "cell_type": "code",
   "execution_count": 156,
   "id": "f6e7761d",
   "metadata": {},
   "outputs": [
    {
     "data": {
      "text/plain": [
       "<AxesSubplot:ylabel='Density'>"
      ]
     },
     "execution_count": 156,
     "metadata": {},
     "output_type": "execute_result"
    },
    {
     "data": {
      "image/png": "[encoded data removed]",
      "text/plain": [
       "<Figure size 432x288 with 1 Axes>"
      ]
     },
     "metadata": {
      "needs_background": "light"
     },
     "output_type": "display_data"
    }
   ],
   "source": [
    "#Visualization in order to see the best filling method for PROT column\n",
    "df_cl['PROT'].plot(kind='kde')"
   ]
  },
  {
   "cell_type": "code",
   "execution_count": 157,
   "id": "dcbc5f98",
   "metadata": {},
   "outputs": [],
   "source": [
    "#Median is the best filling method based on the distribution\n",
    "df_cl['PROT']=df_cl['PROT'].fillna(df_cl['PROT'].median())"
   ]
  },
  {
   "cell_type": "code",
   "execution_count": 158,
   "id": "76a229cb",
   "metadata": {},
   "outputs": [
    {
     "data": {
      "text/plain": [
       "<AxesSubplot:ylabel='Density'>"
      ]
     },
     "execution_count": 158,
     "metadata": {},
     "output_type": "execute_result"
    },
    {
     "data": {
      "image/png": "[encoded data removed]",
      "text/plain": [
       "<Figure size 432x288 with 1 Axes>"
      ]
     },
     "metadata": {
      "needs_background": "light"
     },
     "output_type": "display_data"
    }
   ],
   "source": [
    "#Visualizing CHOL \n",
    "df_cl['CHOL'].plot(kind='kde')"
   ]
  },
  {
   "cell_type": "code",
   "execution_count": 159,
   "id": "e4cb35c1",
   "metadata": {},
   "outputs": [],
   "source": [
    "#Mean is the best filling method based on the distribution\n",
    "df_cl['CHOL']=df_cl['CHOL'].fillna(df_cl['CHOL'].mean())"
   ]
  },
  {
   "cell_type": "code",
   "execution_count": 160,
   "id": "833243d7",
   "metadata": {},
   "outputs": [
    {
     "data": {
      "text/plain": [
       "Age         0\n",
       "Sex         0\n",
       "ALB         0\n",
       "ALP         0\n",
       "ALT         0\n",
       "AST         0\n",
       "BIL         0\n",
       "CHE         0\n",
       "CHOL        0\n",
       "CREA        0\n",
       "GGT         0\n",
       "PROT        0\n",
       "Category    0\n",
       "dtype: int64"
      ]
     },
     "execution_count": 160,
     "metadata": {},
     "output_type": "execute_result"
    }
   ],
   "source": [
    "#Do we still have nulls?\n",
    "df_cl.isnull().sum()\n",
    "#NO :)"
   ]
  },
  {
   "cell_type": "markdown",
   "id": "901542ff",
   "metadata": {},
   "source": [
    "##### Let's start categorical data transormation "
   ]
  },
  {
   "cell_type": "code",
   "execution_count": 161,
   "id": "5e7dfc34",
   "metadata": {},
   "outputs": [
    {
     "data": {
      "text/plain": [
       "0=Blood Donor             478\n",
       "3=Cirrhosis                26\n",
       "1=Hepatitis                22\n",
       "2=Fibrosis                 21\n",
       "0s=suspect Blood Donor      6\n",
       "Name: Category, dtype: int64"
      ]
     },
     "execution_count": 161,
     "metadata": {},
     "output_type": "execute_result"
    }
   ],
   "source": [
    "#Value counts of Category column\n",
    "df_cl['Category'].value_counts()"
   ]
  },
  {
   "cell_type": "code",
   "execution_count": 162,
   "id": "a72a23b3",
   "metadata": {},
   "outputs": [],
   "source": [
    "#Replacing the categorical data with with the range 0-4 because it's ordinal \n",
    "df_cl['Category']= df_cl['Category'].replace('0=Blood Donor',0)\n",
    "df_cl['Category']= df_cl['Category'].replace('3=Cirrhosis',3)\n",
    "df_cl['Category']= df_cl['Category'].replace('1=Hepatitis',1)\n",
    "df_cl['Category']= df_cl['Category'].replace('2=Fibrosis',2)\n",
    "df_cl['Category']= df_cl['Category'].replace('0s=suspect Blood Donor',4)"
   ]
  },
  {
   "cell_type": "code",
   "execution_count": 163,
   "id": "2f32a7ab",
   "metadata": {},
   "outputs": [
    {
     "data": {
      "text/plain": [
       "0    478\n",
       "3     26\n",
       "1     22\n",
       "2     21\n",
       "4      6\n",
       "Name: Category, dtype: int64"
      ]
     },
     "execution_count": 163,
     "metadata": {},
     "output_type": "execute_result"
    }
   ],
   "source": [
    "#Value counts after the transformation\n",
    "df_cl['Category'].value_counts()"
   ]
  },
  {
   "cell_type": "markdown",
   "id": "d36fe139",
   "metadata": {},
   "source": [
    "##### Test preprocessing"
   ]
  },
  {
   "cell_type": "code",
   "execution_count": 164,
   "id": "8404e375",
   "metadata": {},
   "outputs": [
    {
     "data": {
      "text/html": [
       "<div>\n",
       "<style scoped>\n",
       "    .dataframe tbody tr th:only-of-type {\n",
       "        vertical-align: middle;\n",
       "    }\n",
       "\n",
       "    .dataframe tbody tr th {\n",
       "        vertical-align: top;\n",
       "    }\n",
       "\n",
       "    .dataframe thead th {\n",
       "        text-align: right;\n",
       "    }\n",
       "</style>\n",
       "<table border=\"1\" class=\"dataframe\">\n",
       "  <thead>\n",
       "    <tr style=\"text-align: right;\">\n",
       "      <th></th>\n",
       "      <th>Age</th>\n",
       "      <th>Sex</th>\n",
       "      <th>ALB</th>\n",
       "      <th>ALP</th>\n",
       "      <th>ALT</th>\n",
       "      <th>AST</th>\n",
       "      <th>BIL</th>\n",
       "      <th>CHE</th>\n",
       "      <th>CHOL</th>\n",
       "      <th>CREA</th>\n",
       "      <th>GGT</th>\n",
       "      <th>PROT</th>\n",
       "    </tr>\n",
       "  </thead>\n",
       "  <tbody>\n",
       "    <tr>\n",
       "      <th>0</th>\n",
       "      <td>36</td>\n",
       "      <td>m</td>\n",
       "      <td>47.8</td>\n",
       "      <td>89.0</td>\n",
       "      <td>48.5</td>\n",
       "      <td>38.4</td>\n",
       "      <td>8.6</td>\n",
       "      <td>8.26</td>\n",
       "      <td>5.62</td>\n",
       "      <td>96.0</td>\n",
       "      <td>21.9</td>\n",
       "      <td>76.2</td>\n",
       "    </tr>\n",
       "    <tr>\n",
       "      <th>1</th>\n",
       "      <td>56</td>\n",
       "      <td>f</td>\n",
       "      <td>45.1</td>\n",
       "      <td>79.1</td>\n",
       "      <td>39.0</td>\n",
       "      <td>30.5</td>\n",
       "      <td>5.2</td>\n",
       "      <td>6.47</td>\n",
       "      <td>5.10</td>\n",
       "      <td>64.0</td>\n",
       "      <td>145.3</td>\n",
       "      <td>66.7</td>\n",
       "    </tr>\n",
       "    <tr>\n",
       "      <th>2</th>\n",
       "      <td>51</td>\n",
       "      <td>m</td>\n",
       "      <td>45.9</td>\n",
       "      <td>66.7</td>\n",
       "      <td>31.8</td>\n",
       "      <td>28.1</td>\n",
       "      <td>9.0</td>\n",
       "      <td>10.08</td>\n",
       "      <td>5.61</td>\n",
       "      <td>85.0</td>\n",
       "      <td>36.2</td>\n",
       "      <td>73.0</td>\n",
       "    </tr>\n",
       "    <tr>\n",
       "      <th>3</th>\n",
       "      <td>55</td>\n",
       "      <td>m</td>\n",
       "      <td>44.7</td>\n",
       "      <td>71.6</td>\n",
       "      <td>22.9</td>\n",
       "      <td>22.1</td>\n",
       "      <td>5.5</td>\n",
       "      <td>6.82</td>\n",
       "      <td>4.61</td>\n",
       "      <td>105.0</td>\n",
       "      <td>59.2</td>\n",
       "      <td>72.7</td>\n",
       "    </tr>\n",
       "    <tr>\n",
       "      <th>4</th>\n",
       "      <td>45</td>\n",
       "      <td>m</td>\n",
       "      <td>43.2</td>\n",
       "      <td>68.2</td>\n",
       "      <td>27.8</td>\n",
       "      <td>42.3</td>\n",
       "      <td>6.6</td>\n",
       "      <td>10.93</td>\n",
       "      <td>6.61</td>\n",
       "      <td>105.0</td>\n",
       "      <td>27.2</td>\n",
       "      <td>74.5</td>\n",
       "    </tr>\n",
       "    <tr>\n",
       "      <th>...</th>\n",
       "      <td>...</td>\n",
       "      <td>...</td>\n",
       "      <td>...</td>\n",
       "      <td>...</td>\n",
       "      <td>...</td>\n",
       "      <td>...</td>\n",
       "      <td>...</td>\n",
       "      <td>...</td>\n",
       "      <td>...</td>\n",
       "      <td>...</td>\n",
       "      <td>...</td>\n",
       "      <td>...</td>\n",
       "    </tr>\n",
       "    <tr>\n",
       "      <th>57</th>\n",
       "      <td>33</td>\n",
       "      <td>f</td>\n",
       "      <td>40.6</td>\n",
       "      <td>73.7</td>\n",
       "      <td>12.6</td>\n",
       "      <td>16.3</td>\n",
       "      <td>3.1</td>\n",
       "      <td>7.75</td>\n",
       "      <td>6.36</td>\n",
       "      <td>67.0</td>\n",
       "      <td>19.5</td>\n",
       "      <td>71.4</td>\n",
       "    </tr>\n",
       "    <tr>\n",
       "      <th>58</th>\n",
       "      <td>55</td>\n",
       "      <td>m</td>\n",
       "      <td>47.3</td>\n",
       "      <td>106.0</td>\n",
       "      <td>208.8</td>\n",
       "      <td>130.6</td>\n",
       "      <td>0.8</td>\n",
       "      <td>14.80</td>\n",
       "      <td>8.08</td>\n",
       "      <td>76.0</td>\n",
       "      <td>71.6</td>\n",
       "      <td>78.3</td>\n",
       "    </tr>\n",
       "    <tr>\n",
       "      <th>59</th>\n",
       "      <td>38</td>\n",
       "      <td>m</td>\n",
       "      <td>48.4</td>\n",
       "      <td>44.9</td>\n",
       "      <td>23.4</td>\n",
       "      <td>22.1</td>\n",
       "      <td>7.9</td>\n",
       "      <td>10.53</td>\n",
       "      <td>7.51</td>\n",
       "      <td>87.0</td>\n",
       "      <td>43.2</td>\n",
       "      <td>82.6</td>\n",
       "    </tr>\n",
       "    <tr>\n",
       "      <th>60</th>\n",
       "      <td>36</td>\n",
       "      <td>f</td>\n",
       "      <td>42.7</td>\n",
       "      <td>55.1</td>\n",
       "      <td>12.4</td>\n",
       "      <td>16.0</td>\n",
       "      <td>6.8</td>\n",
       "      <td>6.63</td>\n",
       "      <td>5.05</td>\n",
       "      <td>75.0</td>\n",
       "      <td>10.4</td>\n",
       "      <td>72.8</td>\n",
       "    </tr>\n",
       "    <tr>\n",
       "      <th>61</th>\n",
       "      <td>47</td>\n",
       "      <td>m</td>\n",
       "      <td>45.3</td>\n",
       "      <td>51.6</td>\n",
       "      <td>18.4</td>\n",
       "      <td>16.9</td>\n",
       "      <td>7.1</td>\n",
       "      <td>8.96</td>\n",
       "      <td>4.29</td>\n",
       "      <td>74.0</td>\n",
       "      <td>15.7</td>\n",
       "      <td>69.1</td>\n",
       "    </tr>\n",
       "  </tbody>\n",
       "</table>\n",
       "<p>62 rows × 12 columns</p>\n",
       "</div>"
      ],
      "text/plain": [
       "    Age Sex   ALB    ALP    ALT    AST  BIL    CHE  CHOL   CREA    GGT  PROT\n",
       "0    36   m  47.8   89.0   48.5   38.4  8.6   8.26  5.62   96.0   21.9  76.2\n",
       "1    56   f  45.1   79.1   39.0   30.5  5.2   6.47  5.10   64.0  145.3  66.7\n",
       "2    51   m  45.9   66.7   31.8   28.1  9.0  10.08  5.61   85.0   36.2  73.0\n",
       "3    55   m  44.7   71.6   22.9   22.1  5.5   6.82  4.61  105.0   59.2  72.7\n",
       "4    45   m  43.2   68.2   27.8   42.3  6.6  10.93  6.61  105.0   27.2  74.5\n",
       "..  ...  ..   ...    ...    ...    ...  ...    ...   ...    ...    ...   ...\n",
       "57   33   f  40.6   73.7   12.6   16.3  3.1   7.75  6.36   67.0   19.5  71.4\n",
       "58   55   m  47.3  106.0  208.8  130.6  0.8  14.80  8.08   76.0   71.6  78.3\n",
       "59   38   m  48.4   44.9   23.4   22.1  7.9  10.53  7.51   87.0   43.2  82.6\n",
       "60   36   f  42.7   55.1   12.4   16.0  6.8   6.63  5.05   75.0   10.4  72.8\n",
       "61   47   m  45.3   51.6   18.4   16.9  7.1   8.96  4.29   74.0   15.7  69.1\n",
       "\n",
       "[62 rows x 12 columns]"
      ]
     },
     "execution_count": 164,
     "metadata": {},
     "output_type": "execute_result"
    }
   ],
   "source": [
    "#Exploring\n",
    "df_clt "
   ]
  },
  {
   "cell_type": "code",
   "execution_count": 165,
   "id": "386197ae",
   "metadata": {},
   "outputs": [
    {
     "data": {
      "text/html": [
       "<div>\n",
       "<style scoped>\n",
       "    .dataframe tbody tr th:only-of-type {\n",
       "        vertical-align: middle;\n",
       "    }\n",
       "\n",
       "    .dataframe tbody tr th {\n",
       "        vertical-align: top;\n",
       "    }\n",
       "\n",
       "    .dataframe thead th {\n",
       "        text-align: right;\n",
       "    }\n",
       "</style>\n",
       "<table border=\"1\" class=\"dataframe\">\n",
       "  <thead>\n",
       "    <tr style=\"text-align: right;\">\n",
       "      <th></th>\n",
       "      <th>Age</th>\n",
       "      <th>ALB</th>\n",
       "      <th>ALP</th>\n",
       "      <th>ALT</th>\n",
       "      <th>AST</th>\n",
       "      <th>BIL</th>\n",
       "      <th>CHE</th>\n",
       "      <th>CHOL</th>\n",
       "      <th>CREA</th>\n",
       "      <th>GGT</th>\n",
       "      <th>PROT</th>\n",
       "    </tr>\n",
       "  </thead>\n",
       "  <tbody>\n",
       "    <tr>\n",
       "      <th>count</th>\n",
       "      <td>62.000000</td>\n",
       "      <td>62.000000</td>\n",
       "      <td>61.000000</td>\n",
       "      <td>62.000000</td>\n",
       "      <td>62.000000</td>\n",
       "      <td>62.000000</td>\n",
       "      <td>62.000000</td>\n",
       "      <td>61.000000</td>\n",
       "      <td>62.000000</td>\n",
       "      <td>62.000000</td>\n",
       "      <td>62.000000</td>\n",
       "    </tr>\n",
       "    <tr>\n",
       "      <th>mean</th>\n",
       "      <td>46.951613</td>\n",
       "      <td>41.433871</td>\n",
       "      <td>71.111475</td>\n",
       "      <td>27.350000</td>\n",
       "      <td>36.658065</td>\n",
       "      <td>12.127419</td>\n",
       "      <td>8.431935</td>\n",
       "      <td>5.433115</td>\n",
       "      <td>94.717742</td>\n",
       "      <td>44.838710</td>\n",
       "      <td>72.770968</td>\n",
       "    </tr>\n",
       "    <tr>\n",
       "      <th>std</th>\n",
       "      <td>8.690352</td>\n",
       "      <td>5.230990</td>\n",
       "      <td>19.765948</td>\n",
       "      <td>27.053455</td>\n",
       "      <td>52.093420</td>\n",
       "      <td>26.138867</td>\n",
       "      <td>2.291611</td>\n",
       "      <td>1.222889</td>\n",
       "      <td>127.965635</td>\n",
       "      <td>61.295967</td>\n",
       "      <td>4.341617</td>\n",
       "    </tr>\n",
       "    <tr>\n",
       "      <th>min</th>\n",
       "      <td>32.000000</td>\n",
       "      <td>26.200000</td>\n",
       "      <td>27.300000</td>\n",
       "      <td>2.300000</td>\n",
       "      <td>15.000000</td>\n",
       "      <td>0.800000</td>\n",
       "      <td>1.720000</td>\n",
       "      <td>2.860000</td>\n",
       "      <td>52.000000</td>\n",
       "      <td>7.400000</td>\n",
       "      <td>57.000000</td>\n",
       "    </tr>\n",
       "    <tr>\n",
       "      <th>25%</th>\n",
       "      <td>39.000000</td>\n",
       "      <td>38.625000</td>\n",
       "      <td>59.400000</td>\n",
       "      <td>15.100000</td>\n",
       "      <td>20.400000</td>\n",
       "      <td>4.300000</td>\n",
       "      <td>6.965000</td>\n",
       "      <td>4.510000</td>\n",
       "      <td>68.000000</td>\n",
       "      <td>15.625000</td>\n",
       "      <td>70.275000</td>\n",
       "    </tr>\n",
       "    <tr>\n",
       "      <th>50%</th>\n",
       "      <td>48.000000</td>\n",
       "      <td>41.550000</td>\n",
       "      <td>69.400000</td>\n",
       "      <td>21.700000</td>\n",
       "      <td>24.300000</td>\n",
       "      <td>6.700000</td>\n",
       "      <td>8.745000</td>\n",
       "      <td>5.300000</td>\n",
       "      <td>75.000000</td>\n",
       "      <td>25.350000</td>\n",
       "      <td>72.950000</td>\n",
       "    </tr>\n",
       "    <tr>\n",
       "      <th>75%</th>\n",
       "      <td>53.000000</td>\n",
       "      <td>45.175000</td>\n",
       "      <td>79.100000</td>\n",
       "      <td>31.250000</td>\n",
       "      <td>30.350000</td>\n",
       "      <td>10.000000</td>\n",
       "      <td>9.670000</td>\n",
       "      <td>6.170000</td>\n",
       "      <td>85.000000</td>\n",
       "      <td>42.500000</td>\n",
       "      <td>75.925000</td>\n",
       "    </tr>\n",
       "    <tr>\n",
       "      <th>max</th>\n",
       "      <td>68.000000</td>\n",
       "      <td>53.000000</td>\n",
       "      <td>145.000000</td>\n",
       "      <td>208.800000</td>\n",
       "      <td>324.000000</td>\n",
       "      <td>200.000000</td>\n",
       "      <td>14.800000</td>\n",
       "      <td>8.800000</td>\n",
       "      <td>1079.100000</td>\n",
       "      <td>392.200000</td>\n",
       "      <td>82.600000</td>\n",
       "    </tr>\n",
       "  </tbody>\n",
       "</table>\n",
       "</div>"
      ],
      "text/plain": [
       "             Age        ALB         ALP         ALT         AST         BIL  \\\n",
       "count  62.000000  62.000000   61.000000   62.000000   62.000000   62.000000   \n",
       "mean   46.951613  41.433871   71.111475   27.350000   36.658065   12.127419   \n",
       "std     8.690352   5.230990   19.765948   27.053455   52.093420   26.138867   \n",
       "min    32.000000  26.200000   27.300000    2.300000   15.000000    0.800000   \n",
       "25%    39.000000  38.625000   59.400000   15.100000   20.400000    4.300000   \n",
       "50%    48.000000  41.550000   69.400000   21.700000   24.300000    6.700000   \n",
       "75%    53.000000  45.175000   79.100000   31.250000   30.350000   10.000000   \n",
       "max    68.000000  53.000000  145.000000  208.800000  324.000000  200.000000   \n",
       "\n",
       "             CHE       CHOL         CREA         GGT       PROT  \n",
       "count  62.000000  61.000000    62.000000   62.000000  62.000000  \n",
       "mean    8.431935   5.433115    94.717742   44.838710  72.770968  \n",
       "std     2.291611   1.222889   127.965635   61.295967   4.341617  \n",
       "min     1.720000   2.860000    52.000000    7.400000  57.000000  \n",
       "25%     6.965000   4.510000    68.000000   15.625000  70.275000  \n",
       "50%     8.745000   5.300000    75.000000   25.350000  72.950000  \n",
       "75%     9.670000   6.170000    85.000000   42.500000  75.925000  \n",
       "max    14.800000   8.800000  1079.100000  392.200000  82.600000  "
      ]
     },
     "execution_count": 165,
     "metadata": {},
     "output_type": "execute_result"
    }
   ],
   "source": [
    "#Exploring\n",
    "df_clt.describe()\n",
    "#The data looks good"
   ]
  },
  {
   "cell_type": "code",
   "execution_count": 166,
   "id": "7520fb25",
   "metadata": {},
   "outputs": [
    {
     "data": {
      "text/plain": [
       "Age     0\n",
       "Sex     0\n",
       "ALB     0\n",
       "ALP     0\n",
       "ALT     0\n",
       "AST     0\n",
       "BIL     0\n",
       "CHE     0\n",
       "CHOL    0\n",
       "CREA    0\n",
       "GGT     0\n",
       "PROT    0\n",
       "dtype: int64"
      ]
     },
     "execution_count": 166,
     "metadata": {},
     "output_type": "execute_result"
    }
   ],
   "source": [
    "#Checking if there are any duplicated values\n",
    "df_clt[df_clt.duplicated() == True].count()\n",
    "#NO duplicated values !!"
   ]
  },
  {
   "cell_type": "code",
   "execution_count": 167,
   "id": "04eb36e9",
   "metadata": {},
   "outputs": [
    {
     "data": {
      "text/plain": [
       "Age     0\n",
       "Sex     0\n",
       "ALB     0\n",
       "ALP     1\n",
       "ALT     0\n",
       "AST     0\n",
       "BIL     0\n",
       "CHE     0\n",
       "CHOL    1\n",
       "CREA    0\n",
       "GGT     0\n",
       "PROT    0\n",
       "dtype: int64"
      ]
     },
     "execution_count": 167,
     "metadata": {},
     "output_type": "execute_result"
    }
   ],
   "source": [
    "#Checking for nulls\n",
    "df_clt.isnull().sum()\n",
    "#Just two null values "
   ]
  },
  {
   "cell_type": "code",
   "execution_count": 168,
   "id": "e5a7f06f",
   "metadata": {},
   "outputs": [
    {
     "data": {
      "text/plain": [
       "<AxesSubplot:ylabel='Density'>"
      ]
     },
     "execution_count": 168,
     "metadata": {},
     "output_type": "execute_result"
    },
    {
     "data": {
      "image/png": "[encoded data removed]",
      "text/plain": [
       "<Figure size 432x288 with 1 Axes>"
      ]
     },
     "metadata": {
      "needs_background": "light"
     },
     "output_type": "display_data"
    }
   ],
   "source": [
    "#Visualizing ALP to see the distribution \n",
    "df_clt['ALP'].plot(kind='kde')"
   ]
  },
  {
   "cell_type": "code",
   "execution_count": 169,
   "id": "7e3e5098",
   "metadata": {},
   "outputs": [],
   "source": [
    "#Because it looks like normal distribution. It will be filled with mean\n",
    "df_clt['ALP']=df_clt['ALP'].fillna(df_clt['ALP'].mean())"
   ]
  },
  {
   "cell_type": "code",
   "execution_count": 170,
   "id": "c42a8482",
   "metadata": {},
   "outputs": [
    {
     "data": {
      "text/plain": [
       "<AxesSubplot:ylabel='Density'>"
      ]
     },
     "execution_count": 170,
     "metadata": {},
     "output_type": "execute_result"
    },
    {
     "data": {
      "image/png": "[encoded data removed]",
      "text/plain": [
       "<Figure size 432x288 with 1 Axes>"
      ]
     },
     "metadata": {
      "needs_background": "light"
     },
     "output_type": "display_data"
    }
   ],
   "source": [
    "#Visualizing CHOL\n",
    "df_clt['CHOL'].plot(kind='kde')"
   ]
  },
  {
   "cell_type": "code",
   "execution_count": 171,
   "id": "9d6d36ef",
   "metadata": {},
   "outputs": [],
   "source": [
    "#Because it looks like normal distribution. It will be filled with mean\n",
    "df_clt['CHOL']=df_clt['CHOL'].fillna(df_clt['CHOL'].mean())"
   ]
  },
  {
   "cell_type": "code",
   "execution_count": 172,
   "id": "6a84c722",
   "metadata": {},
   "outputs": [
    {
     "data": {
      "text/plain": [
       "Age     0\n",
       "Sex     0\n",
       "ALB     0\n",
       "ALP     0\n",
       "ALT     0\n",
       "AST     0\n",
       "BIL     0\n",
       "CHE     0\n",
       "CHOL    0\n",
       "CREA    0\n",
       "GGT     0\n",
       "PROT    0\n",
       "dtype: int64"
      ]
     },
     "execution_count": 172,
     "metadata": {},
     "output_type": "execute_result"
    }
   ],
   "source": [
    "df_clt.isnull().sum()\n",
    "#All nulls have been filled"
   ]
  },
  {
   "cell_type": "code",
   "execution_count": 173,
   "id": "c6eea10e",
   "metadata": {},
   "outputs": [
    {
     "data": {
      "text/plain": [
       "m    343\n",
       "f    210\n",
       "Name: Sex, dtype: int64"
      ]
     },
     "execution_count": 173,
     "metadata": {},
     "output_type": "execute_result"
    }
   ],
   "source": [
    "#Starting the transformation of Categorical data\n",
    "df_cl['Sex'].value_counts()\n",
    "#It's binary, so replacing it with 0 and 1 for training data"
   ]
  },
  {
   "cell_type": "code",
   "execution_count": 174,
   "id": "3f05aa83",
   "metadata": {},
   "outputs": [],
   "source": [
    "#Most freqent with 1 and the other with 0\n",
    "df_cl['Sex'] =  df_cl['Sex'].replace('m',1)\n",
    "df_cl['Sex'] =  df_cl['Sex'].replace('f',0)"
   ]
  },
  {
   "cell_type": "code",
   "execution_count": 175,
   "id": "176c0d00",
   "metadata": {},
   "outputs": [
    {
     "data": {
      "text/plain": [
       "m    34\n",
       "f    28\n",
       "Name: Sex, dtype: int64"
      ]
     },
     "execution_count": 175,
     "metadata": {},
     "output_type": "execute_result"
    }
   ],
   "source": [
    "#Same transformation for testing data\n",
    "df_clt['Sex'].value_counts()"
   ]
  },
  {
   "cell_type": "code",
   "execution_count": 176,
   "id": "6ba79ae4",
   "metadata": {},
   "outputs": [],
   "source": [
    "#It's binary, so replacing it with 0 and 1 for training data\n",
    "df_clt['Sex'] =  df_clt['Sex'].replace('m',1)\n",
    "df_clt['Sex'] =  df_clt['Sex'].replace('f',0)"
   ]
  },
  {
   "cell_type": "code",
   "execution_count": 177,
   "id": "82a55b8e",
   "metadata": {},
   "outputs": [],
   "source": [
    "#Splitting the features X and the target y\n",
    "X_train = df_cl.drop('Category', axis=1)\n",
    "X_test = df_clt\n",
    "y = df_cl['Category']"
   ]
  },
  {
   "cell_type": "markdown",
   "id": "d778ee66",
   "metadata": {},
   "source": [
    "### AgglomerativeClustering\n",
    "###### Part of  EDA"
   ]
  },
  {
   "cell_type": "markdown",
   "id": "1c9ae211",
   "metadata": {},
   "source": [
    "##### Since AgglomerativeClustering model is based on distance measure, Scaling is important"
   ]
  },
  {
   "cell_type": "code",
   "execution_count": 178,
   "id": "68b32306",
   "metadata": {},
   "outputs": [],
   "source": [
    "#Scaling for both testing and training data\n",
    "from numpy import asarray\n",
    "from sklearn.preprocessing import MinMaxScaler\n",
    "scaler = MinMaxScaler()\n",
    "# transform data\n",
    "\n",
    "X_train_scaled = pd.DataFrame(scaler.fit_transform(X_train),columns= X_train.columns)\n",
    "X_test_scaled =  pd.DataFrame(scaler.fit_transform(X_test),columns= X_test.columns)"
   ]
  },
  {
   "cell_type": "code",
   "execution_count": 179,
   "id": "09f1b5f4",
   "metadata": {},
   "outputs": [
    {
     "name": "stdout",
     "output_type": "stream",
     "text": [
      "The cluster  2 \t has the score 0.5956329532132907\n",
      "The cluster  3 \t has the score 0.5471427364001749\n",
      "The cluster  4 \t has the score 0.3495828443178072\n",
      "The cluster  5 \t has the score 0.334590357389118\n",
      "The cluster  6 \t has the score 0.16424209786810828\n",
      "The cluster  7 \t has the score 0.17028474491388645\n",
      "The cluster  8 \t has the score 0.17471652927612283\n",
      "The cluster  9 \t has the score 0.16460794406263746\n",
      "The cluster  10 \t has the score 0.16716626073027194\n",
      "The cluster  11 \t has the score 0.16882417556011045\n"
     ]
    }
   ],
   "source": [
    "#Find the best k clusters using silhouette_score\n",
    "from sklearn.cluster import AgglomerativeClustering\n",
    "\n",
    "for i in range(2,12):\n",
    "    model_10 = AgglomerativeClustering(n_clusters= i)\n",
    "\n",
    "    # Train the model\n",
    "    model_10 = model_10.fit_predict(X_train_scaled)\n",
    "    score = silhouette_score(X_train_scaled, model_10)\n",
    "\n",
    "    print(\"The cluster \",i,\"\\t has the score\", score)\n",
    "#Best clusters is 2"
   ]
  },
  {
   "cell_type": "code",
   "execution_count": 180,
   "id": "399ffd09",
   "metadata": {},
   "outputs": [
    {
     "name": "stdout",
     "output_type": "stream",
     "text": [
      "[1 0 0 1 0 0 0 1 1 0 1 0 0 1 1 0 0 0 1 0 1 0 1 0 1 0 1 0 0 0 1 1 0 1 0 1 0\n",
      " 0 0 0 1 0 0 1 1 0 0 1 0 1 0 0 0 0 1 0 0 1 1 0 0 0 1 0 1 0 0 0 1 0 0 1 1 1\n",
      " 1 0 0 0 1 0 0 1 0 0 1 0 1 0 0 0 0 0 0 1 0 0 0 1 0 0 0 1 1 0 0 0 0 0 1 0 0\n",
      " 1 0 0 1 0 1 0 1 0 0 1 0 1 1 0 0 1 0 0 0 1 1 0 1 1 0 0 0 0 1 0 0 0 0 1 1 1\n",
      " 0 1 1 0 0 1 1 1 1 1 0 0 0 0 1 1 0 0 0 1 1 1 0 1 0 1 1 1 0 1 0 1 0 0 1 0 1\n",
      " 1 0 1 0 0 0 0 0 0 0 0 1 1 0 0 0 1 0 1 0 1 0 0 0 0 0 1 0 1 1 0 0 0 0 1 1 1\n",
      " 0 0 1 0 0 0 0 0 1 0 1 1 0 0 1 0 1 0 0 0 0 1 0 0 0 1 0 0 1 1 0 0 0 0 0 1 1\n",
      " 1 0 0 0 1 1 0 0 1 0 0 0 1 1 0 1 0 1 1 1 1 0 0 0 0 1 1 1 1 0 1 0 0 1 0 0 0\n",
      " 0 0 1 0 0 1 1 1 1 0 0 0 1 1 1 1 1 0 0 1 0 1 0 0 1 0 0 0 0 0 0 0 1 1 0 0 1\n",
      " 1 0 1 1 1 0 0 0 0 0 1 0 0 1 0 1 1 1 0 0 0 0 1 1 0 1 1 0 0 0 1 1 1 0 0 0 0\n",
      " 0 0 0 0 0 0 1 0 0 1 0 0 1 0 0 0 0 1 0 0 1 0 1 1 1 0 0 1 0 0 0 1 1 0 0 1 0\n",
      " 1 1 1 1 0 0 0 1 0 0 1 1 0 0 1 1 0 0 1 0 1 0 0 1 1 0 0 1 1 1 0 0 1 0 0 0 1\n",
      " 0 0 0 0 0 0 0 0 1 0 1 0 0 1 0 0 0 0 0 0 0 0 0 0 1 0 0 0 0 1 0 0 0 1 1 1 0\n",
      " 1 1 0 0 0 0 0 0 0 1 0 0 0 0 0 1 0 0 1 0 0 1 0 0 0 1 0 0 1 0 1 1 0 1 0 0 1\n",
      " 0 0 0 1 1 0 0 0 0 0 0 1 0 0 0 1 1 0 0 0 0 0 0 1 0 1 0 1 0 0 0 0 1 0 0]\n"
     ]
    }
   ],
   "source": [
    "# Building the model\n",
    "#chose 'ward' after trying differernt linkage, and found that ward is the best one for this model\n",
    "model = AgglomerativeClustering( linkage = 'ward')\n",
    "\n",
    "model = model.fit(X_train_scaled)\n",
    "print(model.labels_)"
   ]
  },
  {
   "cell_type": "code",
   "execution_count": 181,
   "id": "31684f72",
   "metadata": {},
   "outputs": [
    {
     "name": "stdout",
     "output_type": "stream",
     "text": [
      "Counter({0: 344, 1: 209})\n"
     ]
    }
   ],
   "source": [
    "#Number of data in each cluster\n",
    "from collections import Counter\n",
    "print(Counter(model.labels_))"
   ]
  },
  {
   "cell_type": "code",
   "execution_count": 182,
   "id": "02f06ce9",
   "metadata": {},
   "outputs": [
    {
     "data": {
      "text/plain": [
       "0.4861668003207701"
      ]
     },
     "execution_count": 182,
     "metadata": {},
     "output_type": "execute_result"
    }
   ],
   "source": [
    "#Check Age mean in cluster 0\n",
    "X_train_scaled[model.labels_==0].Age.mean() "
   ]
  },
  {
   "cell_type": "code",
   "execution_count": 183,
   "id": "69ceefd7",
   "metadata": {},
   "outputs": [
    {
     "data": {
      "text/plain": [
       "0.49810262332948363"
      ]
     },
     "execution_count": 183,
     "metadata": {},
     "output_type": "execute_result"
    }
   ],
   "source": [
    "#Checking Age mean in cluster 1 \n",
    "#There is a slight different between Age in Group 0 & Group 1\n",
    "#The mean age in Group 1 is larger than Group 0 \n",
    "X_train_scaled[model.labels_==1].Age.mean()"
   ]
  },
  {
   "cell_type": "code",
   "execution_count": 184,
   "id": "47cbef9d",
   "metadata": {},
   "outputs": [
    {
     "data": {
      "text/plain": [
       "1.0    343\n",
       "0.0      1\n",
       "Name: Sex, dtype: int64"
      ]
     },
     "execution_count": 184,
     "metadata": {},
     "output_type": "execute_result"
    }
   ],
   "source": [
    "#Checking sex in cluster 0 \n",
    "X_train_scaled[model.labels_==0].Sex.value_counts()\n",
    "#They are all Males but one Female in group 0"
   ]
  },
  {
   "cell_type": "code",
   "execution_count": 185,
   "id": "2abf9280",
   "metadata": {},
   "outputs": [
    {
     "data": {
      "text/plain": [
       "0.0    209\n",
       "Name: Sex, dtype: int64"
      ]
     },
     "execution_count": 185,
     "metadata": {},
     "output_type": "execute_result"
    }
   ],
   "source": [
    "#Checking sex in cluster 1\n",
    "X_train_scaled[model.labels_==1].Sex.value_counts()\n",
    "#They are all Females in group 1"
   ]
  },
  {
   "cell_type": "code",
   "execution_count": 186,
   "id": "d8965c80",
   "metadata": {},
   "outputs": [
    {
     "data": {
      "text/html": [
       "<div>\n",
       "<style scoped>\n",
       "    .dataframe tbody tr th:only-of-type {\n",
       "        vertical-align: middle;\n",
       "    }\n",
       "\n",
       "    .dataframe tbody tr th {\n",
       "        vertical-align: top;\n",
       "    }\n",
       "\n",
       "    .dataframe thead th {\n",
       "        text-align: right;\n",
       "    }\n",
       "</style>\n",
       "<table border=\"1\" class=\"dataframe\">\n",
       "  <thead>\n",
       "    <tr style=\"text-align: right;\">\n",
       "      <th></th>\n",
       "      <th>count</th>\n",
       "      <th>mean</th>\n",
       "      <th>std</th>\n",
       "      <th>min</th>\n",
       "      <th>25%</th>\n",
       "      <th>50%</th>\n",
       "      <th>75%</th>\n",
       "      <th>max</th>\n",
       "    </tr>\n",
       "  </thead>\n",
       "  <tbody>\n",
       "    <tr>\n",
       "      <th>Age</th>\n",
       "      <td>344.0</td>\n",
       "      <td>0.486167</td>\n",
       "      <td>0.184606</td>\n",
       "      <td>0.000000</td>\n",
       "      <td>0.327586</td>\n",
       "      <td>0.465517</td>\n",
       "      <td>0.620690</td>\n",
       "      <td>1.000000</td>\n",
       "    </tr>\n",
       "    <tr>\n",
       "      <th>Sex</th>\n",
       "      <td>344.0</td>\n",
       "      <td>0.997093</td>\n",
       "      <td>0.053916</td>\n",
       "      <td>0.000000</td>\n",
       "      <td>1.000000</td>\n",
       "      <td>1.000000</td>\n",
       "      <td>1.000000</td>\n",
       "      <td>1.000000</td>\n",
       "    </tr>\n",
       "    <tr>\n",
       "      <th>ALB</th>\n",
       "      <td>344.0</td>\n",
       "      <td>0.404996</td>\n",
       "      <td>0.091286</td>\n",
       "      <td>0.000000</td>\n",
       "      <td>0.365156</td>\n",
       "      <td>0.416048</td>\n",
       "      <td>0.458024</td>\n",
       "      <td>1.000000</td>\n",
       "    </tr>\n",
       "    <tr>\n",
       "      <th>ALP</th>\n",
       "      <td>344.0</td>\n",
       "      <td>0.139103</td>\n",
       "      <td>0.052631</td>\n",
       "      <td>0.000000</td>\n",
       "      <td>0.103442</td>\n",
       "      <td>0.133851</td>\n",
       "      <td>0.166297</td>\n",
       "      <td>0.442635</td>\n",
       "    </tr>\n",
       "    <tr>\n",
       "      <th>ALT</th>\n",
       "      <td>344.0</td>\n",
       "      <td>0.093841</td>\n",
       "      <td>0.073458</td>\n",
       "      <td>0.000000</td>\n",
       "      <td>0.054562</td>\n",
       "      <td>0.077990</td>\n",
       "      <td>0.111282</td>\n",
       "      <td>0.792540</td>\n",
       "    </tr>\n",
       "    <tr>\n",
       "      <th>AST</th>\n",
       "      <td>344.0</td>\n",
       "      <td>0.089160</td>\n",
       "      <td>0.109901</td>\n",
       "      <td>0.000000</td>\n",
       "      <td>0.042691</td>\n",
       "      <td>0.057245</td>\n",
       "      <td>0.080935</td>\n",
       "      <td>1.000000</td>\n",
       "    </tr>\n",
       "    <tr>\n",
       "      <th>BIL</th>\n",
       "      <td>344.0</td>\n",
       "      <td>0.046316</td>\n",
       "      <td>0.091434</td>\n",
       "      <td>0.001983</td>\n",
       "      <td>0.016951</td>\n",
       "      <td>0.027161</td>\n",
       "      <td>0.046392</td>\n",
       "      <td>1.000000</td>\n",
       "    </tr>\n",
       "    <tr>\n",
       "      <th>CHE</th>\n",
       "      <td>344.0</td>\n",
       "      <td>0.467967</td>\n",
       "      <td>0.159053</td>\n",
       "      <td>0.000000</td>\n",
       "      <td>0.378753</td>\n",
       "      <td>0.476318</td>\n",
       "      <td>0.568379</td>\n",
       "      <td>1.000000</td>\n",
       "    </tr>\n",
       "    <tr>\n",
       "      <th>CHOL</th>\n",
       "      <td>344.0</td>\n",
       "      <td>0.472427</td>\n",
       "      <td>0.141461</td>\n",
       "      <td>0.000000</td>\n",
       "      <td>0.383192</td>\n",
       "      <td>0.469053</td>\n",
       "      <td>0.562500</td>\n",
       "      <td>1.000000</td>\n",
       "    </tr>\n",
       "    <tr>\n",
       "      <th>CREA</th>\n",
       "      <td>344.0</td>\n",
       "      <td>0.152976</td>\n",
       "      <td>0.070031</td>\n",
       "      <td>0.000000</td>\n",
       "      <td>0.129159</td>\n",
       "      <td>0.147750</td>\n",
       "      <td>0.166341</td>\n",
       "      <td>1.000000</td>\n",
       "    </tr>\n",
       "    <tr>\n",
       "      <th>GGT</th>\n",
       "      <td>344.0</td>\n",
       "      <td>0.062109</td>\n",
       "      <td>0.083284</td>\n",
       "      <td>0.003868</td>\n",
       "      <td>0.022200</td>\n",
       "      <td>0.034189</td>\n",
       "      <td>0.070661</td>\n",
       "      <td>0.752630</td>\n",
       "    </tr>\n",
       "    <tr>\n",
       "      <th>PROT</th>\n",
       "      <td>344.0</td>\n",
       "      <td>0.602130</td>\n",
       "      <td>0.129522</td>\n",
       "      <td>0.000000</td>\n",
       "      <td>0.542035</td>\n",
       "      <td>0.608407</td>\n",
       "      <td>0.679757</td>\n",
       "      <td>1.000000</td>\n",
       "    </tr>\n",
       "  </tbody>\n",
       "</table>\n",
       "</div>"
      ],
      "text/plain": [
       "      count      mean       std       min       25%       50%       75%  \\\n",
       "Age   344.0  0.486167  0.184606  0.000000  0.327586  0.465517  0.620690   \n",
       "Sex   344.0  0.997093  0.053916  0.000000  1.000000  1.000000  1.000000   \n",
       "ALB   344.0  0.404996  0.091286  0.000000  0.365156  0.416048  0.458024   \n",
       "ALP   344.0  0.139103  0.052631  0.000000  0.103442  0.133851  0.166297   \n",
       "ALT   344.0  0.093841  0.073458  0.000000  0.054562  0.077990  0.111282   \n",
       "AST   344.0  0.089160  0.109901  0.000000  0.042691  0.057245  0.080935   \n",
       "BIL   344.0  0.046316  0.091434  0.001983  0.016951  0.027161  0.046392   \n",
       "CHE   344.0  0.467967  0.159053  0.000000  0.378753  0.476318  0.568379   \n",
       "CHOL  344.0  0.472427  0.141461  0.000000  0.383192  0.469053  0.562500   \n",
       "CREA  344.0  0.152976  0.070031  0.000000  0.129159  0.147750  0.166341   \n",
       "GGT   344.0  0.062109  0.083284  0.003868  0.022200  0.034189  0.070661   \n",
       "PROT  344.0  0.602130  0.129522  0.000000  0.542035  0.608407  0.679757   \n",
       "\n",
       "           max  \n",
       "Age   1.000000  \n",
       "Sex   1.000000  \n",
       "ALB   1.000000  \n",
       "ALP   0.442635  \n",
       "ALT   0.792540  \n",
       "AST   1.000000  \n",
       "BIL   1.000000  \n",
       "CHE   1.000000  \n",
       "CHOL  1.000000  \n",
       "CREA  1.000000  \n",
       "GGT   0.752630  \n",
       "PROT  1.000000  "
      ]
     },
     "execution_count": 186,
     "metadata": {},
     "output_type": "execute_result"
    }
   ],
   "source": [
    "#Exploring\n",
    "X_train_scaled[model.labels_==0].describe().T"
   ]
  },
  {
   "cell_type": "code",
   "execution_count": 187,
   "id": "2c08fe6a",
   "metadata": {},
   "outputs": [
    {
     "data": {
      "text/html": [
       "<div>\n",
       "<style scoped>\n",
       "    .dataframe tbody tr th:only-of-type {\n",
       "        vertical-align: middle;\n",
       "    }\n",
       "\n",
       "    .dataframe tbody tr th {\n",
       "        vertical-align: top;\n",
       "    }\n",
       "\n",
       "    .dataframe thead th {\n",
       "        text-align: right;\n",
       "    }\n",
       "</style>\n",
       "<table border=\"1\" class=\"dataframe\">\n",
       "  <thead>\n",
       "    <tr style=\"text-align: right;\">\n",
       "      <th></th>\n",
       "      <th>count</th>\n",
       "      <th>mean</th>\n",
       "      <th>std</th>\n",
       "      <th>min</th>\n",
       "      <th>25%</th>\n",
       "      <th>50%</th>\n",
       "      <th>75%</th>\n",
       "      <th>max</th>\n",
       "    </tr>\n",
       "  </thead>\n",
       "  <tbody>\n",
       "    <tr>\n",
       "      <th>Age</th>\n",
       "      <td>209.0</td>\n",
       "      <td>0.498103</td>\n",
       "      <td>0.160712</td>\n",
       "      <td>0.224138</td>\n",
       "      <td>0.379310</td>\n",
       "      <td>0.500000</td>\n",
       "      <td>0.603448</td>\n",
       "      <td>0.965517</td>\n",
       "    </tr>\n",
       "    <tr>\n",
       "      <th>Sex</th>\n",
       "      <td>209.0</td>\n",
       "      <td>0.000000</td>\n",
       "      <td>0.000000</td>\n",
       "      <td>0.000000</td>\n",
       "      <td>0.000000</td>\n",
       "      <td>0.000000</td>\n",
       "      <td>0.000000</td>\n",
       "      <td>0.000000</td>\n",
       "    </tr>\n",
       "    <tr>\n",
       "      <th>ALB</th>\n",
       "      <td>209.0</td>\n",
       "      <td>0.384744</td>\n",
       "      <td>0.077270</td>\n",
       "      <td>0.065379</td>\n",
       "      <td>0.341753</td>\n",
       "      <td>0.374443</td>\n",
       "      <td>0.427935</td>\n",
       "      <td>0.713224</td>\n",
       "    </tr>\n",
       "    <tr>\n",
       "      <th>ALP</th>\n",
       "      <td>209.0</td>\n",
       "      <td>0.140471</td>\n",
       "      <td>0.080927</td>\n",
       "      <td>0.028621</td>\n",
       "      <td>0.100666</td>\n",
       "      <td>0.130274</td>\n",
       "      <td>0.171231</td>\n",
       "      <td>1.000000</td>\n",
       "    </tr>\n",
       "    <tr>\n",
       "      <th>ALT</th>\n",
       "      <td>209.0</td>\n",
       "      <td>0.071186</td>\n",
       "      <td>0.083102</td>\n",
       "      <td>0.001233</td>\n",
       "      <td>0.042848</td>\n",
       "      <td>0.054254</td>\n",
       "      <td>0.073674</td>\n",
       "      <td>1.000000</td>\n",
       "    </tr>\n",
       "    <tr>\n",
       "      <th>AST</th>\n",
       "      <td>209.0</td>\n",
       "      <td>0.058424</td>\n",
       "      <td>0.070461</td>\n",
       "      <td>0.004528</td>\n",
       "      <td>0.028137</td>\n",
       "      <td>0.040103</td>\n",
       "      <td>0.057891</td>\n",
       "      <td>0.489327</td>\n",
       "    </tr>\n",
       "    <tr>\n",
       "      <th>BIL</th>\n",
       "      <td>209.0</td>\n",
       "      <td>0.023591</td>\n",
       "      <td>0.026463</td>\n",
       "      <td>0.000000</td>\n",
       "      <td>0.009913</td>\n",
       "      <td>0.017446</td>\n",
       "      <td>0.026566</td>\n",
       "      <td>0.227201</td>\n",
       "    </tr>\n",
       "    <tr>\n",
       "      <th>CHE</th>\n",
       "      <td>209.0</td>\n",
       "      <td>0.421266</td>\n",
       "      <td>0.117879</td>\n",
       "      <td>0.008005</td>\n",
       "      <td>0.345564</td>\n",
       "      <td>0.416278</td>\n",
       "      <td>0.505670</td>\n",
       "      <td>0.759173</td>\n",
       "    </tr>\n",
       "    <tr>\n",
       "      <th>CHOL</th>\n",
       "      <td>209.0</td>\n",
       "      <td>0.484633</td>\n",
       "      <td>0.124130</td>\n",
       "      <td>0.192961</td>\n",
       "      <td>0.395631</td>\n",
       "      <td>0.477040</td>\n",
       "      <td>0.559466</td>\n",
       "      <td>0.922330</td>\n",
       "    </tr>\n",
       "    <tr>\n",
       "      <th>CREA</th>\n",
       "      <td>209.0</td>\n",
       "      <td>0.119896</td>\n",
       "      <td>0.024399</td>\n",
       "      <td>0.046967</td>\n",
       "      <td>0.105675</td>\n",
       "      <td>0.117417</td>\n",
       "      <td>0.129159</td>\n",
       "      <td>0.293933</td>\n",
       "    </tr>\n",
       "    <tr>\n",
       "      <th>GGT</th>\n",
       "      <td>209.0</td>\n",
       "      <td>0.038740</td>\n",
       "      <td>0.081669</td>\n",
       "      <td>0.000000</td>\n",
       "      <td>0.012686</td>\n",
       "      <td>0.020266</td>\n",
       "      <td>0.036200</td>\n",
       "      <td>1.000000</td>\n",
       "    </tr>\n",
       "    <tr>\n",
       "      <th>PROT</th>\n",
       "      <td>209.0</td>\n",
       "      <td>0.598986</td>\n",
       "      <td>0.107902</td>\n",
       "      <td>0.137168</td>\n",
       "      <td>0.535398</td>\n",
       "      <td>0.599558</td>\n",
       "      <td>0.654867</td>\n",
       "      <td>0.911504</td>\n",
       "    </tr>\n",
       "  </tbody>\n",
       "</table>\n",
       "</div>"
      ],
      "text/plain": [
       "      count      mean       std       min       25%       50%       75%  \\\n",
       "Age   209.0  0.498103  0.160712  0.224138  0.379310  0.500000  0.603448   \n",
       "Sex   209.0  0.000000  0.000000  0.000000  0.000000  0.000000  0.000000   \n",
       "ALB   209.0  0.384744  0.077270  0.065379  0.341753  0.374443  0.427935   \n",
       "ALP   209.0  0.140471  0.080927  0.028621  0.100666  0.130274  0.171231   \n",
       "ALT   209.0  0.071186  0.083102  0.001233  0.042848  0.054254  0.073674   \n",
       "AST   209.0  0.058424  0.070461  0.004528  0.028137  0.040103  0.057891   \n",
       "BIL   209.0  0.023591  0.026463  0.000000  0.009913  0.017446  0.026566   \n",
       "CHE   209.0  0.421266  0.117879  0.008005  0.345564  0.416278  0.505670   \n",
       "CHOL  209.0  0.484633  0.124130  0.192961  0.395631  0.477040  0.559466   \n",
       "CREA  209.0  0.119896  0.024399  0.046967  0.105675  0.117417  0.129159   \n",
       "GGT   209.0  0.038740  0.081669  0.000000  0.012686  0.020266  0.036200   \n",
       "PROT  209.0  0.598986  0.107902  0.137168  0.535398  0.599558  0.654867   \n",
       "\n",
       "           max  \n",
       "Age   0.965517  \n",
       "Sex   0.000000  \n",
       "ALB   0.713224  \n",
       "ALP   1.000000  \n",
       "ALT   1.000000  \n",
       "AST   0.489327  \n",
       "BIL   0.227201  \n",
       "CHE   0.759173  \n",
       "CHOL  0.922330  \n",
       "CREA  0.293933  \n",
       "GGT   1.000000  \n",
       "PROT  0.911504  "
      ]
     },
     "execution_count": 187,
     "metadata": {},
     "output_type": "execute_result"
    }
   ],
   "source": [
    "#Exploring\n",
    "X_train_scaled[model.labels_==1].describe().T\n",
    "#Mean of columns has no big differnce \n",
    "#That's because we have just two groups"
   ]
  },
  {
   "cell_type": "code",
   "execution_count": 188,
   "id": "b12cc83f",
   "metadata": {},
   "outputs": [
    {
     "data": {
      "image/png": "[encoded data removed]",
      "text/plain": [
       "<Figure size 432x288 with 1 Axes>"
      ]
     },
     "metadata": {
      "needs_background": "light"
     },
     "output_type": "display_data"
    }
   ],
   "source": [
    "# Visualization of Age & ALP \n",
    "X_train_scaled[model.labels_==0].plot(kind='kde')\n",
    "# Plotting\n",
    "%matplotlib inline\n",
    "plt.scatter(X_train_scaled['Age'][:30], X_train_scaled['ALP'][:30], c = model.labels_[:30], cmap = 'Accent')\n",
    "plt.show()"
   ]
  },
  {
   "cell_type": "markdown",
   "id": "eef78684",
   "metadata": {},
   "source": [
    "##### Splitting Data"
   ]
  },
  {
   "cell_type": "code",
   "execution_count": 189,
   "id": "97fde105",
   "metadata": {},
   "outputs": [],
   "source": [
    "# Splitting the Training data into Validation and Training\n",
    "from sklearn.model_selection import train_test_split\n",
    "Xr_train , Xr_valid , yr_train, yr_valid = train_test_split(X_train_scaled, y, train_size=0.75, random_state = 0)"
   ]
  },
  {
   "cell_type": "markdown",
   "id": "1eaee349",
   "metadata": {},
   "source": [
    "### Classification model training"
   ]
  },
  {
   "cell_type": "markdown",
   "id": "2ac622f2",
   "metadata": {},
   "source": [
    "### Multinomial logistic regression"
   ]
  },
  {
   "cell_type": "code",
   "execution_count": 190,
   "id": "3ef822a6",
   "metadata": {},
   "outputs": [
    {
     "data": {
      "text/plain": [
       "LogisticRegression(multi_class='multinomial', random_state=0)"
      ]
     },
     "execution_count": 190,
     "metadata": {},
     "output_type": "execute_result"
    }
   ],
   "source": [
    "#Building the logestic model\n",
    "from sklearn.linear_model import LogisticRegression\n",
    "lreg = LogisticRegression(multi_class=\"multinomial\",random_state = 0)\n",
    "lreg.fit(Xr_train, yr_train)#Fitting the model"
   ]
  },
  {
   "cell_type": "code",
   "execution_count": 191,
   "id": "90fcea3c",
   "metadata": {},
   "outputs": [
    {
     "name": "stdout",
     "output_type": "stream",
     "text": [
      "The accuracy is: 90.09661835748793\n"
     ]
    }
   ],
   "source": [
    "#Train Score\n",
    "Logistic_Regression = lreg.score(Xr_train, yr_train)\n",
    "print(\"The accuracy is:\",Logistic_Regression*100)\n",
    "#Looks good"
   ]
  },
  {
   "cell_type": "code",
   "execution_count": 192,
   "id": "14a33f40",
   "metadata": {},
   "outputs": [
    {
     "data": {
      "text/plain": [
       "array([0, 0, 3, 0, 0, 0, 0, 0, 0, 0, 0, 0, 0, 0, 0, 0, 0, 0, 0, 0, 0, 0,\n",
       "       0, 0, 0, 0, 0, 0, 0, 0, 0, 0, 0, 0, 0, 0, 0, 0, 0, 0, 0, 0, 0, 0,\n",
       "       0, 3, 0, 0, 0, 0, 0, 0, 0, 0, 0, 0, 3, 0, 0, 0, 0, 0, 0, 0, 0, 0,\n",
       "       0, 0, 0, 0, 0, 0, 0, 0, 0, 0, 0, 0, 0, 0, 0, 0, 0, 0, 0, 0, 0, 0,\n",
       "       0, 0, 0, 0, 0, 0, 0, 0, 0, 0, 0, 0, 0, 0, 0, 3, 0, 0, 0, 0, 0, 0,\n",
       "       0, 0, 0, 0, 0, 0, 0, 0, 0, 0, 0, 0, 0, 0, 0, 0, 3, 0, 0, 0, 0, 0,\n",
       "       0, 0, 0, 0, 0, 0, 0], dtype=int64)"
      ]
     },
     "execution_count": 192,
     "metadata": {},
     "output_type": "execute_result"
    }
   ],
   "source": [
    "#Predicting the validation data result\n",
    "pred = lreg.predict(Xr_valid)\n",
    "pred"
   ]
  },
  {
   "cell_type": "code",
   "execution_count": 193,
   "id": "24b517e9",
   "metadata": {},
   "outputs": [
    {
     "name": "stdout",
     "output_type": "stream",
     "text": [
      "The accuracy is: 87.76978417266187\n"
     ]
    }
   ],
   "source": [
    "#Validation Score\n",
    "LogisticRegressionScore = lreg.score(Xr_valid, yr_valid)\n",
    "print(\"The accuracy is:\",LogisticRegressionScore*100)\n",
    "#Comparable difference between training and validation \n",
    "#The model is good "
   ]
  },
  {
   "cell_type": "code",
   "execution_count": 194,
   "id": "81290f5a",
   "metadata": {},
   "outputs": [
    {
     "data": {
      "image/png": "[encoded data removed]",
      "text/plain": [
       "<Figure size 432x288 with 1 Axes>"
      ]
     },
     "metadata": {
      "needs_background": "light"
     },
     "output_type": "display_data"
    }
   ],
   "source": [
    "#Applying confusion matrix\n",
    "#Confusion matrix is used to define the performance of a classification algorithm \n",
    "#Also, it is not limited to binary classification and can use it for multi-class classifiers\n",
    "import seaborn as sns \n",
    "\n",
    "from sklearn.metrics import confusion_matrix\n",
    "confusion = confusion_matrix(yr_valid, pred)\n",
    "\n",
    "fig, ax = plt.subplots()\n",
    "plt.imshow(confusion)\n",
    "plt.title(\"Confusion matrix\")\n",
    "\n",
    "ax.set_xticks(np.arange(len(confusion)))\n",
    "ax.set_yticks(np.arange(len(confusion[0])))\n",
    "\n",
    "#Looping over data dimensions and creating text annotations.\n",
    "for i in range(len(confusion)):\n",
    "    for j in range(len(confusion[0])):\n",
    "        text = ax.text(j, i, confusion[i, j],\n",
    "                       ha=\"center\", va=\"center\", color=\"w\")\n",
    "fig.tight_layout()\n",
    "plt.xlabel('Prediction')\n",
    "plt.ylabel('Actual')\n",
    "plt.show()"
   ]
  },
  {
   "cell_type": "code",
   "execution_count": 195,
   "id": "98065f3b",
   "metadata": {},
   "outputs": [
    {
     "name": "stdout",
     "output_type": "stream",
     "text": [
      "Macro precision:  0.3361194029850746\n",
      "Macro recall:  0.3333333333333333\n",
      "Macro f1-score:  0.3327561327561327\n",
      "\n",
      "\n",
      "Micro precision:  0.8776978417266187\n",
      "Micro recall:  0.8776978417266187\n",
      "Micro f1-score:  0.8776978417266187\n"
     ]
    },
    {
     "name": "stderr",
     "output_type": "stream",
     "text": [
      "C:\\Users\\prokr\\anaconda3\\lib\\site-packages\\sklearn\\metrics\\_classification.py:1245: UndefinedMetricWarning: Precision is ill-defined and being set to 0.0 in labels with no predicted samples. Use `zero_division` parameter to control this behavior.\n",
      "  _warn_prf(average, modifier, msg_start, len(result))\n"
     ]
    }
   ],
   "source": [
    "#Using micro and macro methods for evaluating scoring metrics (precision, recall, f1-score)\n",
    "#For multi-class classification\n",
    "from sklearn.metrics import accuracy_score, recall_score, f1_score\n",
    "from sklearn.metrics import precision_score\n",
    "\n",
    "#Macro \n",
    "#Because the dataset has uneven distribtion in which one class has higher number of obesrvations \n",
    "#And the other has low number of observation\n",
    "print('Macro precision: ', precision_score(yr_valid, pred, average= 'macro'))\n",
    "print('Macro recall: ', recall_score(yr_valid, pred, average= 'macro'))\n",
    "print('Macro f1-score: ', f1_score(yr_valid, pred, average= 'macro'))\n",
    "#Hence macro 'IS NOT TRUSTED' for imbalanced senario because it assumes the cotribtion of each class equally\n",
    "\n",
    "#Micro is better for evaluating this model\n",
    "#Micro\n",
    "#Because the dataset has uneven distribtion in which one class has higher number of obesrvations \n",
    "#and the other has low number of observation, Micro can evaluate it better\n",
    "print(\"\\n\")\n",
    "print('Micro precision: ', precision_score(yr_valid, pred, average= 'micro'))# Average is assigned micro\n",
    "print('Micro recall: ', recall_score(yr_valid, pred, average= 'micro'))\n",
    "print('Micro f1-score: ', f1_score(yr_valid, pred, average= 'micro'))"
   ]
  },
  {
   "cell_type": "markdown",
   "id": "754e28ef",
   "metadata": {},
   "source": [
    "### Predicting Testing Data Using Multinomial logistic regression"
   ]
  },
  {
   "cell_type": "code",
   "execution_count": 196,
   "id": "8eb03669",
   "metadata": {},
   "outputs": [
    {
     "data": {
      "text/plain": [
       "array([0, 0, 0, 0, 0, 3, 0, 0, 0, 0, 0, 0, 0, 0, 0, 0, 0, 0, 0, 0, 0, 0,\n",
       "       0, 3, 0, 0, 0, 0, 0, 0, 0, 0, 0, 0, 0, 0, 0, 0, 0, 0, 0, 0, 0, 3,\n",
       "       0, 0, 0, 0, 0, 0, 0, 0, 0, 0, 0, 0, 0, 0, 0, 0, 0, 0], dtype=int64)"
      ]
     },
     "execution_count": 196,
     "metadata": {},
     "output_type": "execute_result"
    }
   ],
   "source": [
    "#The predicted data\n",
    "lreg.predict(X_test_scaled)"
   ]
  },
  {
   "cell_type": "markdown",
   "id": "370dfc2a",
   "metadata": {},
   "source": [
    "### Decision Tree Classifier Model"
   ]
  },
  {
   "cell_type": "code",
   "execution_count": 197,
   "id": "8af12bcf",
   "metadata": {},
   "outputs": [
    {
     "name": "stdout",
     "output_type": "stream",
     "text": [
      "0.9131354687040847 {'max_depth': 4}\n"
     ]
    },
    {
     "name": "stderr",
     "output_type": "stream",
     "text": [
      "C:\\Users\\prokr\\anaconda3\\lib\\site-packages\\sklearn\\model_selection\\_split.py:666: UserWarning: The least populated class in y has only 4 members, which is less than n_splits=5.\n",
      "  warnings.warn((\"The least populated class in y has only %d\"\n"
     ]
    }
   ],
   "source": [
    "#GridSearchCV is a library function that is a member of sklearn's model_selection package.\n",
    "#It helps to loop through predefined hyperparameters and fit your estimator (model) on your training set. \n",
    "#So, in the end, you can select the best parameters from the listed hyperparameters\n",
    "from sklearn import tree\n",
    "from sklearn import model_selection\n",
    "from sklearn.model_selection import GridSearchCV\n",
    "\n",
    "\n",
    "parameters = {'max_depth':range(3,20)}\n",
    "clf = GridSearchCV(tree.DecisionTreeClassifier(), parameters, n_jobs=4)\n",
    "clf.fit(X=Xr_train, y=yr_train)\n",
    "tree_model = clf.best_estimator_\n",
    "print (clf.best_score_, clf.best_params_)"
   ]
  },
  {
   "cell_type": "code",
   "execution_count": 198,
   "id": "6670fab9",
   "metadata": {},
   "outputs": [
    {
     "data": {
      "text/plain": [
       "DecisionTreeClassifier(max_depth=4)"
      ]
     },
     "execution_count": 198,
     "metadata": {},
     "output_type": "execute_result"
    }
   ],
   "source": [
    "#Building the model\n",
    "#Based on GridSearchCV the best depth is 4\n",
    "from sklearn.tree import DecisionTreeClassifier\n",
    "model = DecisionTreeClassifier(max_depth=4)\n",
    "#Fitting the model\n",
    "model.fit(Xr_train, yr_train)"
   ]
  },
  {
   "cell_type": "code",
   "execution_count": 199,
   "id": "7356a17c",
   "metadata": {},
   "outputs": [
    {
     "name": "stdout",
     "output_type": "stream",
     "text": [
      "Accuracy of Training: 0.9710144927536232\n"
     ]
    }
   ],
   "source": [
    "#Checking the accuracy for training dataset for DecisionTreeClassifier\n",
    "from sklearn import metrics \n",
    "pred_t = model.predict(Xr_train)\n",
    "print(\"Accuracy of Training:\",metrics.accuracy_score(yr_train,pred_t))\n",
    "#Better than Logestic model "
   ]
  },
  {
   "cell_type": "code",
   "execution_count": 200,
   "id": "faa6d3b0",
   "metadata": {},
   "outputs": [],
   "source": [
    "#Predicting the validation data\n",
    "pred1 = model.predict(Xr_valid)"
   ]
  },
  {
   "cell_type": "code",
   "execution_count": 201,
   "id": "bf9c1310",
   "metadata": {},
   "outputs": [
    {
     "name": "stdout",
     "output_type": "stream",
     "text": [
      "Accuracy of Validation: 0.8920863309352518\n"
     ]
    }
   ],
   "source": [
    "from sklearn import metrics #Importing scikit-learn metrics module for accuracy calculation\n",
    "#Checking the accuracy for DecisionTreeClassifier for validation \n",
    "print(\"Accuracy of Validation:\",metrics.accuracy_score(yr_valid,pred1 ))\n",
    "#It is also better than Logestic model, and no huge differece between training and testing score\n",
    "#This model is better "
   ]
  },
  {
   "cell_type": "code",
   "execution_count": 202,
   "id": "82fd98fa",
   "metadata": {},
   "outputs": [
    {
     "name": "stdout",
     "output_type": "stream",
     "text": [
      "Micro recall:  0.8920863309352518\n",
      "Micro recall:  0.8920863309352518\n",
      "Micro f1-score:  0.8920863309352518\n"
     ]
    }
   ],
   "source": [
    "#Evaluation\n",
    "#Micro\n",
    "print('Micro recall: ', precision_score(yr_valid, pred1, average= 'micro'))\n",
    "print('Micro recall: ', recall_score(yr_valid, pred1, average= 'micro'))\n",
    "print('Micro f1-score: ', f1_score(yr_valid, pred1, average= 'micro'))"
   ]
  },
  {
   "cell_type": "markdown",
   "id": "0fc75de5",
   "metadata": {},
   "source": [
    "### Predicting Test Data Using DecisionTreeClassifier"
   ]
  },
  {
   "cell_type": "code",
   "execution_count": 203,
   "id": "42bd1874",
   "metadata": {},
   "outputs": [
    {
     "data": {
      "text/plain": [
       "array([1, 0, 0, 0, 0, 3, 0, 0, 0, 4, 0, 1, 0, 0, 0, 0, 0, 0, 0, 0, 0, 1,\n",
       "       0, 3, 0, 0, 1, 1, 0, 0, 0, 0, 0, 1, 0, 1, 0, 3, 0, 1, 0, 1, 0, 3,\n",
       "       1, 0, 0, 1, 0, 1, 0, 1, 0, 1, 0, 0, 0, 1, 2, 1, 1, 0], dtype=int64)"
      ]
     },
     "execution_count": 203,
     "metadata": {},
     "output_type": "execute_result"
    }
   ],
   "source": [
    "#The predicted data\n",
    "pred_test = model.predict(X_test_scaled)\n",
    "pred_test"
   ]
  },
  {
   "cell_type": "markdown",
   "id": "d672f1b0",
   "metadata": {},
   "source": [
    "### Classification Using Random Forest"
   ]
  },
  {
   "cell_type": "code",
   "execution_count": 204,
   "id": "de78ff67",
   "metadata": {},
   "outputs": [],
   "source": [
    "#Building the model\n",
    "from sklearn.ensemble import RandomForestClassifier\n",
    "rand_forest = RandomForestClassifier()"
   ]
  },
  {
   "cell_type": "code",
   "execution_count": 205,
   "id": "66a39d07",
   "metadata": {},
   "outputs": [
    {
     "data": {
      "text/plain": [
       "RandomForestClassifier()"
      ]
     },
     "execution_count": 205,
     "metadata": {},
     "output_type": "execute_result"
    }
   ],
   "source": [
    "#Fitting the training data\n",
    "rand_forest.fit(Xr_train, yr_train)"
   ]
  },
  {
   "cell_type": "code",
   "execution_count": 206,
   "id": "2f2b9b5d",
   "metadata": {},
   "outputs": [
    {
     "name": "stdout",
     "output_type": "stream",
     "text": [
      "Accuracy of Training : 1.0\n"
     ]
    }
   ],
   "source": [
    "#Training score\n",
    "prediction = rand_forest.predict(Xr_train)\n",
    "print(\"Accuracy of Training :\",metrics.accuracy_score(yr_train,prediction ))"
   ]
  },
  {
   "cell_type": "code",
   "execution_count": 207,
   "id": "ca9cad09",
   "metadata": {},
   "outputs": [
    {
     "name": "stdout",
     "output_type": "stream",
     "text": [
      "Accuracy of Validation: 0.9136690647482014\n"
     ]
    }
   ],
   "source": [
    "#Validation score\n",
    "prediction = rand_forest.predict(Xr_valid)\n",
    "print(\"Accuracy of Validation:\",metrics.accuracy_score(yr_valid,prediction ))"
   ]
  },
  {
   "cell_type": "code",
   "execution_count": 208,
   "id": "fb515d9b",
   "metadata": {},
   "outputs": [
    {
     "name": "stdout",
     "output_type": "stream",
     "text": [
      "Validation Evaluation: \n",
      "\n",
      "Micro recall:  0.9136690647482014\n",
      "Micro recall:  0.9136690647482014\n",
      "Micro f1-score:  0.9136690647482014\n"
     ]
    }
   ],
   "source": [
    "#Training Evalation \n",
    "#Micro\n",
    "print(\"Validation Evaluation: \\n\")\n",
    "print('Micro recall: ', precision_score(yr_valid, prediction, average= 'micro'))\n",
    "print('Micro recall: ', recall_score(yr_valid, prediction, average= 'micro'))\n",
    "print('Micro f1-score: ', f1_score(yr_valid, prediction, average= 'micro'))\n",
    "\n",
    "#Random Forest is the best model to predict this data"
   ]
  },
  {
   "cell_type": "markdown",
   "id": "33b9af7d",
   "metadata": {},
   "source": [
    "### Classification Prediction Using Random Forest"
   ]
  },
  {
   "cell_type": "code",
   "execution_count": 209,
   "id": "fd9a9c87",
   "metadata": {},
   "outputs": [
    {
     "data": {
      "text/plain": [
       "array([0, 0, 0, 0, 0, 3, 0, 0, 0, 0, 0, 0, 0, 0, 0, 0, 0, 0, 0, 0, 3, 0,\n",
       "       0, 3, 0, 0, 0, 0, 0, 0, 0, 0, 0, 0, 0, 0, 0, 3, 0, 0, 0, 0, 0, 3,\n",
       "       0, 0, 0, 0, 0, 0, 0, 0, 0, 0, 0, 0, 0, 0, 0, 0, 0, 0], dtype=int64)"
      ]
     },
     "execution_count": 209,
     "metadata": {},
     "output_type": "execute_result"
    }
   ],
   "source": [
    "#Predicted data\n",
    "prediction  = rand_forest.predict(X_test_scaled)\n",
    "prediction"
   ]
  },
  {
   "cell_type": "markdown",
   "id": "4cb471c6",
   "metadata": {},
   "source": [
    "## Team Members \n",
    "- Fatimah Alanazi 11393864\n",
    "- Tasmia Hoque 11422467 \n",
    "- Bernardo Rodriguez Palacios 11231623\n",
    "- Mariam Alhawiti 11468533"
   ]
  },
  {
   "cell_type": "code",
   "execution_count": null,
   "id": "773980de",
   "metadata": {},
   "outputs": [],
   "source": []
  }
 ],
 "metadata": {
  "kernelspec": {
   "display_name": "Python 3",
   "language": "python",
   "name": "python3"
  },
  "language_info": {
   "codemirror_mode": {
    "name": "ipython",
    "version": 3
   },
   "file_extension": ".py",
   "mimetype": "text/x-python",
   "name": "python",
   "nbconvert_exporter": "python",
   "pygments_lexer": "ipython3",
   "version": "3.9.1"
  }
 },
 "nbformat": 4,
 "nbformat_minor": 5
}
